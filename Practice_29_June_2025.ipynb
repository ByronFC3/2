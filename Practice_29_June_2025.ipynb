{
  "nbformat": 4,
  "nbformat_minor": 0,
  "metadata": {
    "colab": {
      "provenance": [],
      "authorship_tag": "ABX9TyP/dY0gzb04em/0VKuekcxr",
      "include_colab_link": true
    },
    "kernelspec": {
      "name": "python3",
      "display_name": "Python 3"
    },
    "language_info": {
      "name": "python"
    }
  },
  "cells": [
    {
      "cell_type": "markdown",
      "metadata": {
        "id": "view-in-github",
        "colab_type": "text"
      },
      "source": [
        "<a href=\"https://colab.research.google.com/github/ByronFC3/2/blob/main/Practice_29_June_2025.ipynb\" target=\"_parent\"><img src=\"https://colab.research.google.com/assets/colab-badge.svg\" alt=\"Open In Colab\"/></a>"
      ]
    },
    {
      "cell_type": "code",
      "execution_count": 11,
      "metadata": {
        "id": "z151FbAJHlmS"
      },
      "outputs": [],
      "source": [
        "import pandas as pd\n",
        "import numpy as np"
      ]
    },
    {
      "cell_type": "code",
      "source": [
        "c = {'price':(12,15,72,64,52)}"
      ],
      "metadata": {
        "id": "u6qFyBDKH4-a"
      },
      "execution_count": 12,
      "outputs": []
    },
    {
      "cell_type": "code",
      "source": [
        "print(c)"
      ],
      "metadata": {
        "colab": {
          "base_uri": "https://localhost:8080/"
        },
        "id": "wneArg-hJhy7",
        "outputId": "b288e800-224a-4262-bae0-5168f6c8661a"
      },
      "execution_count": 19,
      "outputs": [
        {
          "output_type": "stream",
          "name": "stdout",
          "text": [
            "{'price': (12, 15, 72, 64, 52)}\n"
          ]
        }
      ]
    },
    {
      "cell_type": "code",
      "source": [
        "d = pd.DataFrame(c)\n",
        "print(d)"
      ],
      "metadata": {
        "colab": {
          "base_uri": "https://localhost:8080/"
        },
        "id": "u555yd0ZH47K",
        "outputId": "995c4a0c-ce1b-471b-d620-7780e4cea313"
      },
      "execution_count": 18,
      "outputs": [
        {
          "output_type": "stream",
          "name": "stdout",
          "text": [
            "   price\n",
            "0     12\n",
            "1     15\n",
            "2     72\n",
            "3     64\n",
            "4     52\n"
          ]
        }
      ]
    },
    {
      "cell_type": "code",
      "source": [
        "a = {'door': (5,3,4,7,2), 'window' : (2,5,7,8,6)}"
      ],
      "metadata": {
        "id": "l5vA1wn6H44N"
      },
      "execution_count": 14,
      "outputs": []
    },
    {
      "cell_type": "code",
      "source": [
        "print(a)"
      ],
      "metadata": {
        "colab": {
          "base_uri": "https://localhost:8080/"
        },
        "id": "0QYL6B43JnRF",
        "outputId": "dcea7ebf-ef9d-4f1c-ae48-bda5e85407a6"
      },
      "execution_count": 20,
      "outputs": [
        {
          "output_type": "stream",
          "name": "stdout",
          "text": [
            "{'door': (5, 3, 4, 7, 2), 'window': (2, 5, 7, 8, 6)}\n"
          ]
        }
      ]
    },
    {
      "cell_type": "code",
      "source": [
        "b = pd.DataFrame(a)"
      ],
      "metadata": {
        "id": "VfF7s4emH4yH"
      },
      "execution_count": 15,
      "outputs": []
    },
    {
      "cell_type": "code",
      "source": [
        "print(b)"
      ],
      "metadata": {
        "colab": {
          "base_uri": "https://localhost:8080/"
        },
        "id": "0rjUNAlqJaky",
        "outputId": "03d3d9ac-a7db-4503-b19b-d822574746f7"
      },
      "execution_count": 17,
      "outputs": [
        {
          "output_type": "stream",
          "name": "stdout",
          "text": [
            "   door  window\n",
            "0     5       2\n",
            "1     3       5\n",
            "2     4       7\n",
            "3     7       8\n",
            "4     2       6\n"
          ]
        }
      ]
    },
    {
      "cell_type": "code",
      "source": [
        "d = pd.DataFrame (c)\n",
        "print(c)"
      ],
      "metadata": {
        "colab": {
          "base_uri": "https://localhost:8080/"
        },
        "id": "64Ggv3A8JC2K",
        "outputId": "e581552f-b316-4eb9-c04a-e100fcd3ea09"
      },
      "execution_count": 21,
      "outputs": [
        {
          "output_type": "stream",
          "name": "stdout",
          "text": [
            "{'price': (12, 15, 72, 64, 52)}\n"
          ]
        }
      ]
    },
    {
      "cell_type": "code",
      "source": [
        "light_is_on=True\n",
        "if light_is_on:\n",
        "    print(\"light is on\")\n",
        "else:\n",
        "    print(\"light is off\")"
      ],
      "metadata": {
        "colab": {
          "base_uri": "https://localhost:8080/"
        },
        "id": "M5y-i7KPJC0D",
        "outputId": "140eabb3-489b-4c7c-f6da-e7e6f6916687"
      },
      "execution_count": 28,
      "outputs": [
        {
          "output_type": "stream",
          "name": "stdout",
          "text": [
            "light is on\n"
          ]
        }
      ]
    },
    {
      "cell_type": "code",
      "source": [],
      "metadata": {
        "id": "tTIZizPjJCxt"
      },
      "execution_count": null,
      "outputs": []
    },
    {
      "cell_type": "code",
      "source": [],
      "metadata": {
        "id": "IwZmg9PvJCu4"
      },
      "execution_count": null,
      "outputs": []
    }
  ]
}