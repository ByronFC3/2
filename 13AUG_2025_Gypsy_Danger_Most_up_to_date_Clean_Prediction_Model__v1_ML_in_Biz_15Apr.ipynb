{
  "nbformat": 4,
  "nbformat_minor": 0,
  "metadata": {
    "colab": {
      "provenance": [],
      "machine_shape": "hm",
      "gpuType": "T4",
      "authorship_tag": "ABX9TyO0eCjqCP19ORC0Vm8gAACE",
      "include_colab_link": true
    },
    "kernelspec": {
      "name": "python3",
      "display_name": "Python 3"
    },
    "language_info": {
      "name": "python"
    },
    "accelerator": "GPU"
  },
  "cells": [
    {
      "cell_type": "markdown",
      "metadata": {
        "id": "view-in-github",
        "colab_type": "text"
      },
      "source": [
        "<a href=\"https://colab.research.google.com/github/ByronFC3/2/blob/main/13AUG_2025_Gypsy_Danger_Most_up_to_date_Clean_Prediction_Model__v1_ML_in_Biz_15Apr.ipynb\" target=\"_parent\"><img src=\"https://colab.research.google.com/assets/colab-badge.svg\" alt=\"Open In Colab\"/></a>"
      ]
    },
    {
      "cell_type": "markdown",
      "source": [
        "AS OF:"
      ],
      "metadata": {
        "id": "ABo9wM1mgJjp"
      }
    },
    {
      "cell_type": "markdown",
      "source": [
        "I worked on this on the night of 15 April, I used my ML homework for Text mining as a base. Now I just need to figure out how to connect the CORPUS created by during the text mining to create my Predicive model!!!"
      ],
      "metadata": {
        "id": "VCWA1szqgML4"
      }
    },
    {
      "cell_type": "markdown",
      "source": [
        "Code Walkthrough\n",
        "1. Tasks 1–3:\n",
        "    \n",
        "    a. We import the necessary packages.\n",
        "    \n",
        "    b. Load the CSV file with pandas.\n",
        "    \n",
        "    c. Preserve the original text in original_corpus and create a new processed text column by applying a preprocessing function that mimics the R steps (removing extra whitespace, punctuation, numbers, stopwords, and applying stemming).\n",
        "\n",
        "2. Task 4:\n",
        "    \n",
        "    a. We create a document-term matrix (DTM) using scikit-learn’s CountVectorizer. The parameter min_df=3 ensures that only words appearing in at least 3 documents are kept.\n",
        "    \n",
        "    b. The dimensions of the DTM are printed, where rows are documents and columns are unique terms.\n",
        "\n",
        "3. Task 5:\n",
        "    \n",
        "    a. An LDA model is created using scikit-learn’s LatentDirichletAllocation with 20 topics, 1000 iterations, and a fixed random state for reproducibility.\n",
        "    \n",
        "    b. Note that scikit-learn’s LDA uses variational inference, not Gibbs sampling.\n",
        "\n",
        "4. Task 6:\n",
        "    \n",
        "    a. The topic-word (terms) matrix is extracted from lda_model.components_ and its dimensions and first 5 columns are printed.\n",
        "    \n",
        "    b. The document-topic (topics) matrix is obtained by transforming the DTM and its dimensions and first 5 rows are printed.\n",
        "\n",
        "5. Task 7:\n",
        "    \n",
        "    a. For each topic, the top 10 terms are displayed.\n",
        "    \n",
        "    b. Example labels for three topics are provided (you should adjust these based on your own interpretation).\n",
        "\n",
        "6. Task 8:\n",
        "    \n",
        "    a. The article with doc_id 1082 is retrieved and its original text is printed.\n",
        "    \n",
        "    b. A bar plot is generated to show the document’s topic distribution.\n",
        "    \n",
        "    c. The most relevant topic is identified; then, the top 50 terms for that topic are extracted and a word cloud is created for visualization.\n"
      ],
      "metadata": {
        "id": "kY2jd1esOGlK"
      }
    },
    {
      "cell_type": "code",
      "source": [
        "pip install pandas numpy nltk scikit-learn matplotlib PyPDF2 langchain-community"
      ],
      "metadata": {
        "colab": {
          "base_uri": "https://localhost:8080/"
        },
        "id": "N5qv3AvXOvZP",
        "outputId": "8153bba9-85bf-4542-d8db-e618fe8899af",
        "collapsed": true
      },
      "execution_count": 1,
      "outputs": [
        {
          "output_type": "stream",
          "name": "stdout",
          "text": [
            "Requirement already satisfied: pandas in /usr/local/lib/python3.11/dist-packages (2.2.2)\n",
            "Requirement already satisfied: numpy in /usr/local/lib/python3.11/dist-packages (2.0.2)\n",
            "Requirement already satisfied: nltk in /usr/local/lib/python3.11/dist-packages (3.9.1)\n",
            "Requirement already satisfied: scikit-learn in /usr/local/lib/python3.11/dist-packages (1.6.1)\n",
            "Requirement already satisfied: matplotlib in /usr/local/lib/python3.11/dist-packages (3.10.0)\n",
            "Collecting PyPDF2\n",
            "  Downloading pypdf2-3.0.1-py3-none-any.whl.metadata (6.8 kB)\n",
            "Collecting langchain-community\n",
            "  Downloading langchain_community-0.3.27-py3-none-any.whl.metadata (2.9 kB)\n",
            "Requirement already satisfied: python-dateutil>=2.8.2 in /usr/local/lib/python3.11/dist-packages (from pandas) (2.9.0.post0)\n",
            "Requirement already satisfied: pytz>=2020.1 in /usr/local/lib/python3.11/dist-packages (from pandas) (2025.2)\n",
            "Requirement already satisfied: tzdata>=2022.7 in /usr/local/lib/python3.11/dist-packages (from pandas) (2025.2)\n",
            "Requirement already satisfied: click in /usr/local/lib/python3.11/dist-packages (from nltk) (8.2.1)\n",
            "Requirement already satisfied: joblib in /usr/local/lib/python3.11/dist-packages (from nltk) (1.5.1)\n",
            "Requirement already satisfied: regex>=2021.8.3 in /usr/local/lib/python3.11/dist-packages (from nltk) (2024.11.6)\n",
            "Requirement already satisfied: tqdm in /usr/local/lib/python3.11/dist-packages (from nltk) (4.67.1)\n",
            "Requirement already satisfied: scipy>=1.6.0 in /usr/local/lib/python3.11/dist-packages (from scikit-learn) (1.16.1)\n",
            "Requirement already satisfied: threadpoolctl>=3.1.0 in /usr/local/lib/python3.11/dist-packages (from scikit-learn) (3.6.0)\n",
            "Requirement already satisfied: contourpy>=1.0.1 in /usr/local/lib/python3.11/dist-packages (from matplotlib) (1.3.3)\n",
            "Requirement already satisfied: cycler>=0.10 in /usr/local/lib/python3.11/dist-packages (from matplotlib) (0.12.1)\n",
            "Requirement already satisfied: fonttools>=4.22.0 in /usr/local/lib/python3.11/dist-packages (from matplotlib) (4.59.0)\n",
            "Requirement already satisfied: kiwisolver>=1.3.1 in /usr/local/lib/python3.11/dist-packages (from matplotlib) (1.4.8)\n",
            "Requirement already satisfied: packaging>=20.0 in /usr/local/lib/python3.11/dist-packages (from matplotlib) (25.0)\n",
            "Requirement already satisfied: pillow>=8 in /usr/local/lib/python3.11/dist-packages (from matplotlib) (11.3.0)\n",
            "Requirement already satisfied: pyparsing>=2.3.1 in /usr/local/lib/python3.11/dist-packages (from matplotlib) (3.2.3)\n",
            "Requirement already satisfied: langchain-core<1.0.0,>=0.3.66 in /usr/local/lib/python3.11/dist-packages (from langchain-community) (0.3.72)\n",
            "Requirement already satisfied: langchain<1.0.0,>=0.3.26 in /usr/local/lib/python3.11/dist-packages (from langchain-community) (0.3.27)\n",
            "Requirement already satisfied: SQLAlchemy<3,>=1.4 in /usr/local/lib/python3.11/dist-packages (from langchain-community) (2.0.42)\n",
            "Requirement already satisfied: requests<3,>=2 in /usr/local/lib/python3.11/dist-packages (from langchain-community) (2.32.3)\n",
            "Requirement already satisfied: PyYAML>=5.3 in /usr/local/lib/python3.11/dist-packages (from langchain-community) (6.0.2)\n",
            "Requirement already satisfied: aiohttp<4.0.0,>=3.8.3 in /usr/local/lib/python3.11/dist-packages (from langchain-community) (3.12.15)\n",
            "Requirement already satisfied: tenacity!=8.4.0,<10,>=8.1.0 in /usr/local/lib/python3.11/dist-packages (from langchain-community) (8.5.0)\n",
            "Collecting dataclasses-json<0.7,>=0.5.7 (from langchain-community)\n",
            "  Downloading dataclasses_json-0.6.7-py3-none-any.whl.metadata (25 kB)\n",
            "Collecting pydantic-settings<3.0.0,>=2.4.0 (from langchain-community)\n",
            "  Downloading pydantic_settings-2.10.1-py3-none-any.whl.metadata (3.4 kB)\n",
            "Requirement already satisfied: langsmith>=0.1.125 in /usr/local/lib/python3.11/dist-packages (from langchain-community) (0.4.12)\n",
            "Collecting httpx-sse<1.0.0,>=0.4.0 (from langchain-community)\n",
            "  Downloading httpx_sse-0.4.1-py3-none-any.whl.metadata (9.4 kB)\n",
            "Requirement already satisfied: aiohappyeyeballs>=2.5.0 in /usr/local/lib/python3.11/dist-packages (from aiohttp<4.0.0,>=3.8.3->langchain-community) (2.6.1)\n",
            "Requirement already satisfied: aiosignal>=1.4.0 in /usr/local/lib/python3.11/dist-packages (from aiohttp<4.0.0,>=3.8.3->langchain-community) (1.4.0)\n",
            "Requirement already satisfied: attrs>=17.3.0 in /usr/local/lib/python3.11/dist-packages (from aiohttp<4.0.0,>=3.8.3->langchain-community) (25.3.0)\n",
            "Requirement already satisfied: frozenlist>=1.1.1 in /usr/local/lib/python3.11/dist-packages (from aiohttp<4.0.0,>=3.8.3->langchain-community) (1.7.0)\n",
            "Requirement already satisfied: multidict<7.0,>=4.5 in /usr/local/lib/python3.11/dist-packages (from aiohttp<4.0.0,>=3.8.3->langchain-community) (6.6.3)\n",
            "Requirement already satisfied: propcache>=0.2.0 in /usr/local/lib/python3.11/dist-packages (from aiohttp<4.0.0,>=3.8.3->langchain-community) (0.3.2)\n",
            "Requirement already satisfied: yarl<2.0,>=1.17.0 in /usr/local/lib/python3.11/dist-packages (from aiohttp<4.0.0,>=3.8.3->langchain-community) (1.20.1)\n",
            "Collecting marshmallow<4.0.0,>=3.18.0 (from dataclasses-json<0.7,>=0.5.7->langchain-community)\n",
            "  Downloading marshmallow-3.26.1-py3-none-any.whl.metadata (7.3 kB)\n",
            "Collecting typing-inspect<1,>=0.4.0 (from dataclasses-json<0.7,>=0.5.7->langchain-community)\n",
            "  Downloading typing_inspect-0.9.0-py3-none-any.whl.metadata (1.5 kB)\n",
            "Requirement already satisfied: langchain-text-splitters<1.0.0,>=0.3.9 in /usr/local/lib/python3.11/dist-packages (from langchain<1.0.0,>=0.3.26->langchain-community) (0.3.9)\n",
            "Requirement already satisfied: pydantic<3.0.0,>=2.7.4 in /usr/local/lib/python3.11/dist-packages (from langchain<1.0.0,>=0.3.26->langchain-community) (2.11.7)\n",
            "Requirement already satisfied: jsonpatch<2.0,>=1.33 in /usr/local/lib/python3.11/dist-packages (from langchain-core<1.0.0,>=0.3.66->langchain-community) (1.33)\n",
            "Requirement already satisfied: typing-extensions>=4.7 in /usr/local/lib/python3.11/dist-packages (from langchain-core<1.0.0,>=0.3.66->langchain-community) (4.14.1)\n",
            "Requirement already satisfied: httpx<1,>=0.23.0 in /usr/local/lib/python3.11/dist-packages (from langsmith>=0.1.125->langchain-community) (0.28.1)\n",
            "Requirement already satisfied: orjson>=3.9.14 in /usr/local/lib/python3.11/dist-packages (from langsmith>=0.1.125->langchain-community) (3.11.1)\n",
            "Requirement already satisfied: requests-toolbelt>=1.0.0 in /usr/local/lib/python3.11/dist-packages (from langsmith>=0.1.125->langchain-community) (1.0.0)\n",
            "Requirement already satisfied: zstandard>=0.23.0 in /usr/local/lib/python3.11/dist-packages (from langsmith>=0.1.125->langchain-community) (0.23.0)\n",
            "Collecting python-dotenv>=0.21.0 (from pydantic-settings<3.0.0,>=2.4.0->langchain-community)\n",
            "  Downloading python_dotenv-1.1.1-py3-none-any.whl.metadata (24 kB)\n",
            "Requirement already satisfied: typing-inspection>=0.4.0 in /usr/local/lib/python3.11/dist-packages (from pydantic-settings<3.0.0,>=2.4.0->langchain-community) (0.4.1)\n",
            "Requirement already satisfied: six>=1.5 in /usr/local/lib/python3.11/dist-packages (from python-dateutil>=2.8.2->pandas) (1.17.0)\n",
            "Requirement already satisfied: charset-normalizer<4,>=2 in /usr/local/lib/python3.11/dist-packages (from requests<3,>=2->langchain-community) (3.4.2)\n",
            "Requirement already satisfied: idna<4,>=2.5 in /usr/local/lib/python3.11/dist-packages (from requests<3,>=2->langchain-community) (3.10)\n",
            "Requirement already satisfied: urllib3<3,>=1.21.1 in /usr/local/lib/python3.11/dist-packages (from requests<3,>=2->langchain-community) (2.5.0)\n",
            "Requirement already satisfied: certifi>=2017.4.17 in /usr/local/lib/python3.11/dist-packages (from requests<3,>=2->langchain-community) (2025.8.3)\n",
            "Requirement already satisfied: greenlet>=1 in /usr/local/lib/python3.11/dist-packages (from SQLAlchemy<3,>=1.4->langchain-community) (3.2.3)\n",
            "Requirement already satisfied: anyio in /usr/local/lib/python3.11/dist-packages (from httpx<1,>=0.23.0->langsmith>=0.1.125->langchain-community) (4.10.0)\n",
            "Requirement already satisfied: httpcore==1.* in /usr/local/lib/python3.11/dist-packages (from httpx<1,>=0.23.0->langsmith>=0.1.125->langchain-community) (1.0.9)\n",
            "Requirement already satisfied: h11>=0.16 in /usr/local/lib/python3.11/dist-packages (from httpcore==1.*->httpx<1,>=0.23.0->langsmith>=0.1.125->langchain-community) (0.16.0)\n",
            "Requirement already satisfied: jsonpointer>=1.9 in /usr/local/lib/python3.11/dist-packages (from jsonpatch<2.0,>=1.33->langchain-core<1.0.0,>=0.3.66->langchain-community) (3.0.0)\n",
            "Requirement already satisfied: annotated-types>=0.6.0 in /usr/local/lib/python3.11/dist-packages (from pydantic<3.0.0,>=2.7.4->langchain<1.0.0,>=0.3.26->langchain-community) (0.7.0)\n",
            "Requirement already satisfied: pydantic-core==2.33.2 in /usr/local/lib/python3.11/dist-packages (from pydantic<3.0.0,>=2.7.4->langchain<1.0.0,>=0.3.26->langchain-community) (2.33.2)\n",
            "Collecting mypy-extensions>=0.3.0 (from typing-inspect<1,>=0.4.0->dataclasses-json<0.7,>=0.5.7->langchain-community)\n",
            "  Downloading mypy_extensions-1.1.0-py3-none-any.whl.metadata (1.1 kB)\n",
            "Requirement already satisfied: sniffio>=1.1 in /usr/local/lib/python3.11/dist-packages (from anyio->httpx<1,>=0.23.0->langsmith>=0.1.125->langchain-community) (1.3.1)\n",
            "Downloading pypdf2-3.0.1-py3-none-any.whl (232 kB)\n",
            "\u001b[2K   \u001b[90m━━━━━━━━━━━━━━━━━━━━━━━━━━━━━━━━━━━━━━━━\u001b[0m \u001b[32m232.6/232.6 kB\u001b[0m \u001b[31m1.2 MB/s\u001b[0m eta \u001b[36m0:00:00\u001b[0m\n",
            "\u001b[?25hDownloading langchain_community-0.3.27-py3-none-any.whl (2.5 MB)\n",
            "\u001b[2K   \u001b[90m━━━━━━━━━━━━━━━━━━━━━━━━━━━━━━━━━━━━━━━━\u001b[0m \u001b[32m2.5/2.5 MB\u001b[0m \u001b[31m9.3 MB/s\u001b[0m eta \u001b[36m0:00:00\u001b[0m\n",
            "\u001b[?25hDownloading dataclasses_json-0.6.7-py3-none-any.whl (28 kB)\n",
            "Downloading httpx_sse-0.4.1-py3-none-any.whl (8.1 kB)\n",
            "Downloading pydantic_settings-2.10.1-py3-none-any.whl (45 kB)\n",
            "\u001b[2K   \u001b[90m━━━━━━━━━━━━━━━━━━━━━━━━━━━━━━━━━━━━━━━━\u001b[0m \u001b[32m45.2/45.2 kB\u001b[0m \u001b[31m4.0 MB/s\u001b[0m eta \u001b[36m0:00:00\u001b[0m\n",
            "\u001b[?25hDownloading marshmallow-3.26.1-py3-none-any.whl (50 kB)\n",
            "\u001b[2K   \u001b[90m━━━━━━━━━━━━━━━━━━━━━━━━━━━━━━━━━━━━━━━━\u001b[0m \u001b[32m50.9/50.9 kB\u001b[0m \u001b[31m4.5 MB/s\u001b[0m eta \u001b[36m0:00:00\u001b[0m\n",
            "\u001b[?25hDownloading python_dotenv-1.1.1-py3-none-any.whl (20 kB)\n",
            "Downloading typing_inspect-0.9.0-py3-none-any.whl (8.8 kB)\n",
            "Downloading mypy_extensions-1.1.0-py3-none-any.whl (5.0 kB)\n",
            "Installing collected packages: python-dotenv, PyPDF2, mypy-extensions, marshmallow, httpx-sse, typing-inspect, pydantic-settings, dataclasses-json, langchain-community\n",
            "Successfully installed PyPDF2-3.0.1 dataclasses-json-0.6.7 httpx-sse-0.4.1 langchain-community-0.3.27 marshmallow-3.26.1 mypy-extensions-1.1.0 pydantic-settings-2.10.1 python-dotenv-1.1.1 typing-inspect-0.9.0\n"
          ]
        }
      ]
    },
    {
      "cell_type": "markdown",
      "source": [
        "Task 1: Install and Load Packages\n",
        "\n",
        "Make sure you have these packages installed. (You can install any missing packages with pip.)"
      ],
      "metadata": {
        "id": "Z8jxhREzPNNH"
      }
    },
    {
      "cell_type": "code",
      "execution_count": 2,
      "metadata": {
        "colab": {
          "base_uri": "https://localhost:8080/"
        },
        "id": "iAeLnEMOOFyS",
        "outputId": "998e6464-b648-4ada-b7ce-dcb4365b6191"
      },
      "outputs": [
        {
          "output_type": "stream",
          "name": "stderr",
          "text": [
            "[nltk_data] Downloading package stopwords to /root/nltk_data...\n",
            "[nltk_data]   Unzipping corpora/stopwords.zip.\n"
          ]
        },
        {
          "output_type": "execute_result",
          "data": {
            "text/plain": [
              "True"
            ]
          },
          "metadata": {},
          "execution_count": 2
        }
      ],
      "source": [
        "# === [X] IMPORT DEPENDENCIES ===\n",
        "import os\n",
        "import pandas as pd\n",
        "from PyPDF2 import PdfReader\n",
        "import pandas as pd\n",
        "import numpy as np\n",
        "import re\n",
        "import string\n",
        "import nltk\n",
        "from nltk.corpus import stopwords\n",
        "from nltk.stem import SnowballStemmer\n",
        "from sklearn.feature_extraction.text import CountVectorizer\n",
        "from sklearn.decomposition import LatentDirichletAllocation\n",
        "import matplotlib.pyplot as plt\n",
        "from wordcloud import WordCloud\n",
        "\n",
        "# Download NLTK stopwords if not already available\n",
        "nltk.download('stopwords')"
      ]
    },
    {
      "cell_type": "markdown",
      "source": [
        "Task 2: Import the Data and Create a Corpus\n",
        "\n",
        "Load the CSV file and save the text column as your original corpus. (The data is assumed to have at least these columns: doc_id, text, date, and heading.)"
      ],
      "metadata": {
        "id": "F-VUrpI4PKR1"
      }
    },
    {
      "cell_type": "code",
      "source": [
        "# === [0] Mount Google Drive ===\n",
        "from google.colab import drive # Import the drive object\n",
        "drive.mount('/content/drive')\n",
        "\n",
        "# Define Google Drive paths\n",
        "# Update approved_dir_path with the provided path\n",
        "approved_dir_path = \"/content/drive/MyDrive/3.Google_Colab_repo_11Apr/approved\"  # Path for approved proposals\n",
        "# Update rejected_dir_path with the provided path in the previous step\n",
        "rejected_dir_path = \"/content/drive/MyDrive/3.Google_Colab_repo_11Apr/Rejection\"  # Path for rejected proposals"
      ],
      "metadata": {
        "colab": {
          "base_uri": "https://localhost:8080/"
        },
        "id": "G8vE4Xs9Mzo9",
        "outputId": "a3c4f7d0-4596-426a-c1ed-7f16582479f1"
      },
      "execution_count": 5,
      "outputs": [
        {
          "output_type": "stream",
          "name": "stdout",
          "text": [
            "Drive already mounted at /content/drive; to attempt to forcibly remount, call drive.mount(\"/content/drive\", force_remount=True).\n"
          ]
        }
      ]
    },
    {
      "cell_type": "code",
      "source": [
        "# === [4] FUNCTION TO EXTRACT TEXT FROM A SINGLE PDF ===\n",
        "def extract_text_from_pdf(pdf_path):\n",
        "    try:\n",
        "        reader = PdfReader(pdf_path)\n",
        "        text = \"\"\n",
        "        for page in reader.pages:\n",
        "            text += page.extract_text() or \"\"\n",
        "        return text\n",
        "    except Exception as e:\n",
        "        print(f\"Failed to extract {pdf_path}: {e}\")\n",
        "        return \"\"\n",
        "\n",
        "# === [x] Creates corpus with Rejected Grants\n",
        "# === [5] LOOP THROUGH PDFS IN FOLDER AND EXTRACT TEXT ===\n",
        "corpus_data = []\n",
        "\n",
        "for filename in os.listdir(rejected_dir_path):\n",
        "    if filename.endswith(\".pdf\"):\n",
        "        full_path = os.path.join(rejected_dir_path, filename)\n",
        "        text = extract_text_from_pdf(full_path)\n",
        "        corpus_data.append({\"filename\": filename, \"text\": text})\n",
        "\n",
        "# === [6] CONVERT TO DATAFRAME ===\n",
        "r_textdata = pd.DataFrame(corpus_data)\n",
        "\n",
        "# === [7] PREVIEW ===\n",
        "print(\"Data preview:\")\n",
        "print(r_textdata.head())\n",
        "\n",
        "# === [8] SAVE ORIGINAL CORPUS COPY (optional for backup/reference) ===\n",
        "original_r_corpus = r_textdata['text'].copy()"
      ],
      "metadata": {
        "colab": {
          "base_uri": "https://localhost:8080/",
          "height": 216
        },
        "id": "5VR-Wpd9O6cs",
        "outputId": "90cca4cf-3202-4bc5-d49b-63734115caa4"
      },
      "execution_count": 7,
      "outputs": [
        {
          "output_type": "error",
          "ename": "FileNotFoundError",
          "evalue": "[Errno 2] No such file or directory: '/content/drive/MyDrive/3.Google_Colab_repo_11Apr/Rejection'",
          "traceback": [
            "\u001b[0;31m---------------------------------------------------------------------------\u001b[0m",
            "\u001b[0;31mFileNotFoundError\u001b[0m                         Traceback (most recent call last)",
            "\u001b[0;32m/tmp/ipython-input-1283236096.py\u001b[0m in \u001b[0;36m<cell line: 0>\u001b[0;34m()\u001b[0m\n\u001b[1;32m     15\u001b[0m \u001b[0mcorpus_data\u001b[0m \u001b[0;34m=\u001b[0m \u001b[0;34m[\u001b[0m\u001b[0;34m]\u001b[0m\u001b[0;34m\u001b[0m\u001b[0;34m\u001b[0m\u001b[0m\n\u001b[1;32m     16\u001b[0m \u001b[0;34m\u001b[0m\u001b[0m\n\u001b[0;32m---> 17\u001b[0;31m \u001b[0;32mfor\u001b[0m \u001b[0mfilename\u001b[0m \u001b[0;32min\u001b[0m \u001b[0mos\u001b[0m\u001b[0;34m.\u001b[0m\u001b[0mlistdir\u001b[0m\u001b[0;34m(\u001b[0m\u001b[0mrejected_dir_path\u001b[0m\u001b[0;34m)\u001b[0m\u001b[0;34m:\u001b[0m\u001b[0;34m\u001b[0m\u001b[0;34m\u001b[0m\u001b[0m\n\u001b[0m\u001b[1;32m     18\u001b[0m     \u001b[0;32mif\u001b[0m \u001b[0mfilename\u001b[0m\u001b[0;34m.\u001b[0m\u001b[0mendswith\u001b[0m\u001b[0;34m(\u001b[0m\u001b[0;34m\".pdf\"\u001b[0m\u001b[0;34m)\u001b[0m\u001b[0;34m:\u001b[0m\u001b[0;34m\u001b[0m\u001b[0;34m\u001b[0m\u001b[0m\n\u001b[1;32m     19\u001b[0m         \u001b[0mfull_path\u001b[0m \u001b[0;34m=\u001b[0m \u001b[0mos\u001b[0m\u001b[0;34m.\u001b[0m\u001b[0mpath\u001b[0m\u001b[0;34m.\u001b[0m\u001b[0mjoin\u001b[0m\u001b[0;34m(\u001b[0m\u001b[0mrejected_dir_path\u001b[0m\u001b[0;34m,\u001b[0m \u001b[0mfilename\u001b[0m\u001b[0;34m)\u001b[0m\u001b[0;34m\u001b[0m\u001b[0;34m\u001b[0m\u001b[0m\n",
            "\u001b[0;31mFileNotFoundError\u001b[0m: [Errno 2] No such file or directory: '/content/drive/MyDrive/3.Google_Colab_repo_11Apr/Rejection'"
          ]
        }
      ]
    },
    {
      "cell_type": "markdown",
      "source": [
        "--------------------------------------------------------------------------------------------------------------------"
      ],
      "metadata": {
        "id": "dDKZG511AF7E"
      }
    },
    {
      "cell_type": "markdown",
      "source": [
        "Saved Corpus's below"
      ],
      "metadata": {
        "id": "aFALsexj_uTA"
      }
    },
    {
      "cell_type": "code",
      "source": [
        "# Saved copies befor processing:\n",
        "original_r_corpus\n",
        "original_a_corpus\n",
        "\n",
        "# Saved copies after processing\n",
        "processed_r_corpus\n",
        "processed_a_corpus"
      ],
      "metadata": {
        "id": "9Zc7aSJ9_0hs"
      },
      "execution_count": null,
      "outputs": []
    },
    {
      "cell_type": "markdown",
      "source": [
        "--------------------------------------------------------------------------------------------------------------------"
      ],
      "metadata": {
        "id": "MVMH7ONlAJc5"
      }
    },
    {
      "cell_type": "code",
      "source": [
        "## Creating a corpus for my Approveal Folder\n",
        "# === [1] SET APPROVED DIRECTORY PATH ===\n",
        "approved_dir_path = \"/content/drive/MyDrive/3.Google_Colab_repo_11Apr/approved\"\n",
        "\n",
        "# === [2] LOOP THROUGH APPROVED PDFS AND EXTRACT TEXT ===\n",
        "approved_corpus_data = []\n",
        "\n",
        "for filename in os.listdir(approved_dir_path):\n",
        "    if filename.endswith(\".pdf\"):\n",
        "        full_path = os.path.join(approved_dir_path, filename)\n",
        "        text = extract_text_from_pdf(full_path)  # Uses same function from earlier\n",
        "        approved_corpus_data.append({\"filename\": filename, \"text\": text})\n",
        "\n",
        "# === [3] CONVERT TO DATAFRAME ===\n",
        "a_textdata = pd.DataFrame(approved_corpus_data)\n",
        "\n",
        "# === [4] PREVIEW ===\n",
        "print(\"Approved Data preview:\")\n",
        "print(a_textdata.head())\n",
        "\n",
        "# === [5] SAVE ORIGINAL COPY (optional for backup/reference) ===\n",
        "original_a_corpus = a_textdata['text'].copy()\n"
      ],
      "metadata": {
        "colab": {
          "base_uri": "https://localhost:8080/"
        },
        "id": "QECro62pORZ7",
        "outputId": "1f9fd71c-97f1-4200-a08b-bfb6d3952db3"
      },
      "execution_count": null,
      "outputs": [
        {
          "output_type": "stream",
          "name": "stdout",
          "text": [
            "Approved Data preview:\n",
            "                                            filename  \\\n",
            "0             GAP - Project 3 - RICE-UGA (1) (1).pdf   \n",
            "1  GA-AIM Project 7 SWGARC Narrative_FINAL 3.13.2...   \n",
            "2     GA-AIM Project 8_AIMPF_Narrative_Final (1).pdf   \n",
            "3  Hodges_I6_GCMI_Commercialization_Proposal_ Bin...   \n",
            "4  GA-AIM Project 1 Commuity Engagement Project N...   \n",
            "\n",
            "                                                text  \n",
            "0  GA-AIM Project 3: Underserved Entrepreneurship...  \n",
            "1  GA-AIM Project 7: Southwest Georgia Ecosystem ...  \n",
            "2  GA-AIM Project 8: AI Manufacturing Pilot Facil...  \n",
            "3  Global Center for Medical Innovation : EDA I -...  \n",
            "4  GA-AIM Project 1: Community Engagement \\n1  1:...  \n"
          ]
        }
      ]
    },
    {
      "cell_type": "markdown",
      "source": [
        "Task 3: Preprocess the Text\n",
        "\n",
        "Define a function to preprocess the text that:\n",
        "\n",
        "    1. Converts text to lowercase\n",
        "    2. Removes extra white spaces\n",
        "    3. Removes punctuation\n",
        "    4. Removes numbers\n",
        "    5. Removes stopwords\n",
        "    6. Applies stemming\n",
        "    7. Then, apply this function to create a new processed text column."
      ],
      "metadata": {
        "id": "_vP96HikPHVL"
      }
    },
    {
      "cell_type": "code",
      "source": [
        "# Here I am processing the text data from the Approved proposals\n",
        "# Initialize the stemmer and stopwords\n",
        "stemmer = SnowballStemmer(\"english\")\n",
        "stop_words = set(stopwords.words(\"english\"))\n",
        "\n",
        "def preprocess_text(text):\n",
        "    # Convert to lowercase\n",
        "    text = text.lower()\n",
        "    # Remove extra white spaces\n",
        "    text = re.sub(r'\\s+', ' ', text).strip()\n",
        "    # Remove punctuation\n",
        "    text = text.translate(str.maketrans('', '', string.punctuation))\n",
        "    # Remove numbers\n",
        "    text = re.sub(r'\\d+', '', text)\n",
        "    # Tokenize the text (simple whitespace split)\n",
        "    tokens = text.split()\n",
        "    # Remove stopwords\n",
        "    tokens = [word for word in tokens if word not in stop_words]\n",
        "    # Stem the tokens\n",
        "    tokens = [stemmer.stem(word) for word in tokens]\n",
        "    # Rejoin tokens back into a string\n",
        "    return ' '.join(tokens)\n",
        "\n",
        "# Create a new column 'processed_text' with the cleaned content\n",
        "a_textdata['processed_text'] = a_textdata['text'].apply(preprocess_text)\n",
        "\n",
        "# Save the processed corpus for later steps.\n",
        "processed_a_corpus = a_textdata['processed_text']\n"
      ],
      "metadata": {
        "id": "oDi5an3kPCQs"
      },
      "execution_count": null,
      "outputs": []
    },
    {
      "cell_type": "code",
      "source": [
        "# Here I am processing the text data from the Rejected proposals\n",
        "# Initialize the stemmer and stopwords\n",
        "# === Preprocessing Setup ===\n",
        "stemmer = SnowballStemmer(\"english\")\n",
        "stop_words = set(stopwords.words(\"english\"))\n",
        "\n",
        "def preprocess_text(text):\n",
        "    text = text.lower()\n",
        "    text = re.sub(r'\\s+', ' ', text).strip()  # Updated regex\n",
        "    text = text.translate(str.maketrans('', '', string.punctuation))\n",
        "    text = re.sub(r'\\d+', '', text)\n",
        "    tokens = text.split()\n",
        "    tokens = [word for word in tokens if word not in stop_words]\n",
        "    tokens = [stemmer.stem(word) for word in tokens]\n",
        "    return ' '.join(tokens)\n",
        "\n",
        "def extract_text_from_pdf(pdf_file):\n",
        "    doc = fitz.open(stream=pdf_file.read(), filetype=\"pdf\")\n",
        "    return \" \".join([page.get_text() for page in doc])\n",
        "\n",
        "def predict_grant_approval(pdf_file):\n",
        "    # Extract and preprocess text\n",
        "    raw_text = extract_text_from_pdf(pdf_file)\n",
        "    cleaned_text = preprocess_text(raw_text)\n",
        "\n",
        "    # Vectorize using the SAME CountVectorizer used for LDA training\n",
        "    # Assuming 'vectorizer' is the CountVectorizer object used earlier\n",
        "    dtm_vec = vectorizer.transform([cleaned_text])  # Use CountVectorizer, NOT TF-IDF\n",
        "\n",
        "    # Get topic distribution\n",
        "    lda_topic_vec = lda_model.transform(dtm_vec)\n",
        "\n",
        "# Create a new column 'processed_text' with the cleaned content\n",
        "r_textdata['processed_text'] = r_textdata['text'].apply(preprocess_text)\n",
        "\n",
        "# Save the processed corpus for later steps.\n",
        "processed_r_corpus = r_textdata['processed_text']"
      ],
      "metadata": {
        "id": "Oa6BrN-5Si4Q"
      },
      "execution_count": null,
      "outputs": []
    },
    {
      "cell_type": "markdown",
      "source": [
        "Task 4: Construct the Document-Term Matrix\n",
        "\n",
        "    1. Use scikit-learn’s CountVectorizer to build the document-term matrix (DTM) from the processed text.\n",
        "    \n",
        "    2. Set the minimum document frequency to 3 (i.e. only include terms that appear in at least 3 documents)."
      ],
      "metadata": {
        "id": "5LKlyq-jPSXx"
      }
    },
    {
      "cell_type": "code",
      "source": [
        "# Apply to Rejected Proposals\n",
        "r_textdata['processed_text'] = r_textdata['text'].apply(preprocess_text)\n",
        "processed_rejected_corpus = r_textdata['processed_text']\n",
        "\n",
        "# Apply to Approved Proposals\n",
        "a_textdata['processed_text'] = a_textdata['text'].apply(preprocess_text)\n",
        "processed_approved_corpus = a_textdata['processed_text']"
      ],
      "metadata": {
        "id": "wYdWGlEHPTUH"
      },
      "execution_count": null,
      "outputs": []
    },
    {
      "cell_type": "markdown",
      "source": [
        "Saved copies of Approved and Rejected textdata"
      ],
      "metadata": {
        "id": "BiJdlaC3Blj0"
      }
    },
    {
      "cell_type": "code",
      "source": [
        "# Apply to Rejected / Approved Proposals\n",
        "r_textdata\n",
        "a_textdata\n",
        "\n",
        "# Saved copies after processing\n",
        "processed_rejected_corpus\n",
        "processed_approved_corpus"
      ],
      "metadata": {
        "id": "0NlIYKmwA9DN"
      },
      "execution_count": null,
      "outputs": []
    },
    {
      "cell_type": "code",
      "source": [
        "# === [1] Add Labels ===\n",
        "r_textdata['label'] = 0  # Rejected\n",
        "a_textdata['label'] = 1  # Approved\n",
        "\n",
        "# === [2] Select Relevant Columns ===\n",
        "r_textdata = r_textdata[['filename', 'text', 'processed_text', 'label']]\n",
        "a_textdata = a_textdata[['filename', 'text', 'processed_text', 'label']]\n",
        "\n",
        "# === [3] Combine Both DataFrames ===\n",
        "combined_corpus = pd.concat([r_textdata, a_textdata], ignore_index=True)\n",
        "\n",
        "# === [4] Shuffle Rows (optional, useful for training ML models)\n",
        "combined_corpus = combined_corpus.sample(frac=1, random_state=42).reset_index(drop=True)\n",
        "\n",
        "# === [5] Preview Combined Dataset ===\n",
        "print(combined_corpus.head())\n",
        "print(combined_corpus['label'].value_counts())\n"
      ],
      "metadata": {
        "colab": {
          "base_uri": "https://localhost:8080/"
        },
        "id": "T--ffGcHPkBk",
        "outputId": "e6143d29-be3c-4b0d-8b29-d7667b1f9226",
        "collapsed": true
      },
      "execution_count": null,
      "outputs": [
        {
          "output_type": "stream",
          "name": "stdout",
          "text": [
            "                                  filename  \\\n",
            "0                   MJohnson_full_GRFP.pdf   \n",
            "1                          ResP_MEvans.pdf   \n",
            "2              Proposal and evaluation.pdf   \n",
            "3  LisaCohen_NSF_GRFP_2015-10-26_final.pdf   \n",
            "4          y_Rick_NSF_Postdoc_Proposal.pdf   \n",
            "\n",
            "                                                text  \\\n",
            "0  The effects of loss of function mutations over...   \n",
            "1  Vector Dynamics and Disease Transmission acros...   \n",
            "2   \\n \\n \\n \\nThis research proposal was submitt...   \n",
            "3  Microbiome and stress: examining host-microbe ...   \n",
            "4  Project Summary\\nOverview:\\nNatural environmen...   \n",
            "\n",
            "                                      processed_text  label  \n",
            "0  effect loss function mutat adapt trajectori ce...      1  \n",
            "1  vector dynam diseas transmiss across urban gra...      1  \n",
            "2  research propos submit “research project young...      0  \n",
            "3  microbiom stress examin hostmicrob respons asc...      0  \n",
            "4  project summari overview natur environ often h...      1  \n",
            "label\n",
            "1    20\n",
            "0    18\n",
            "Name: count, dtype: int64\n"
          ]
        }
      ]
    },
    {
      "cell_type": "code",
      "source": [
        "# Here I want to check to make sure my dataset downloaded correctly\n",
        "#  Step 1: Save DataFrame to CSV\n",
        "combined_corpus.to_csv(\"combined_corpus.csv\", index=False)"
      ],
      "metadata": {
        "id": "um60ThylUxNL"
      },
      "execution_count": null,
      "outputs": []
    },
    {
      "cell_type": "code",
      "source": [
        "# Step 2: Create a Download Link\n",
        "from google.colab import files\n",
        "files.download(\"combined_corpus.csv\")"
      ],
      "metadata": {
        "colab": {
          "base_uri": "https://localhost:8080/",
          "height": 17
        },
        "id": "lqiqZ2Z1U9ID",
        "outputId": "ddbd66d7-95c9-4d91-a401-1ea8676bbe1d"
      },
      "execution_count": null,
      "outputs": [
        {
          "output_type": "display_data",
          "data": {
            "text/plain": [
              "<IPython.core.display.Javascript object>"
            ],
            "application/javascript": [
              "\n",
              "    async function download(id, filename, size) {\n",
              "      if (!google.colab.kernel.accessAllowed) {\n",
              "        return;\n",
              "      }\n",
              "      const div = document.createElement('div');\n",
              "      const label = document.createElement('label');\n",
              "      label.textContent = `Downloading \"${filename}\": `;\n",
              "      div.appendChild(label);\n",
              "      const progress = document.createElement('progress');\n",
              "      progress.max = size;\n",
              "      div.appendChild(progress);\n",
              "      document.body.appendChild(div);\n",
              "\n",
              "      const buffers = [];\n",
              "      let downloaded = 0;\n",
              "\n",
              "      const channel = await google.colab.kernel.comms.open(id);\n",
              "      // Send a message to notify the kernel that we're ready.\n",
              "      channel.send({})\n",
              "\n",
              "      for await (const message of channel.messages) {\n",
              "        // Send a message to notify the kernel that we're ready.\n",
              "        channel.send({})\n",
              "        if (message.buffers) {\n",
              "          for (const buffer of message.buffers) {\n",
              "            buffers.push(buffer);\n",
              "            downloaded += buffer.byteLength;\n",
              "            progress.value = downloaded;\n",
              "          }\n",
              "        }\n",
              "      }\n",
              "      const blob = new Blob(buffers, {type: 'application/binary'});\n",
              "      const a = document.createElement('a');\n",
              "      a.href = window.URL.createObjectURL(blob);\n",
              "      a.download = filename;\n",
              "      div.appendChild(a);\n",
              "      a.click();\n",
              "      div.remove();\n",
              "    }\n",
              "  "
            ]
          },
          "metadata": {}
        },
        {
          "output_type": "display_data",
          "data": {
            "text/plain": [
              "<IPython.core.display.Javascript object>"
            ],
            "application/javascript": [
              "download(\"download_7d39cc9e-2363-4225-811a-6af664af4ee6\", \"combined_corpus.csv\", 2454947)"
            ]
          },
          "metadata": {}
        }
      ]
    },
    {
      "cell_type": "code",
      "source": [
        "# === Optional: Save to Google Drive (instead of downloading) === #\n",
        "# If you'd rather save the CSV to your Drive:\n",
        "\n",
        "output_path = \"/content/drive/MyDrive/combined_corpus.csv\"\n",
        "combined_corpus.to_csv(output_path, index=False)\n",
        "print(f\"Saved to: {output_path}\")"
      ],
      "metadata": {
        "colab": {
          "base_uri": "https://localhost:8080/"
        },
        "id": "jvK868CKVxyZ",
        "outputId": "beb8da29-bae3-4bbc-fd5c-a0d4b8b0c31d"
      },
      "execution_count": null,
      "outputs": [
        {
          "output_type": "stream",
          "name": "stdout",
          "text": [
            "Saved to: /content/drive/MyDrive/combined_corpus.csv\n"
          ]
        }
      ]
    },
    {
      "cell_type": "code",
      "source": [
        "from sklearn.feature_extraction.text import CountVectorizer\n",
        "\n",
        "# === [1] Extract processed text column from combined corpus ===\n",
        "processed_corpus = combined_corpus['processed_text']\n",
        "\n",
        "# === [2] Create the Document-Term Matrix ===\n",
        "vectorizer = CountVectorizer(min_df=3)  # Only include terms in at least 3 documents\n",
        "dtm = vectorizer.fit_transform(processed_corpus)\n",
        "\n",
        "# === [3] Print Matrix Dimensions ===\n",
        "print(\"\\nDocument-Term Matrix Dimensions:\")\n",
        "print(\"Number of documents (rows):\", dtm.shape[0])\n",
        "print(\"Number of terms (columns):\", dtm.shape[1])"
      ],
      "metadata": {
        "colab": {
          "base_uri": "https://localhost:8080/"
        },
        "id": "A7whtP9lPTHz",
        "outputId": "fe3d835c-d2b4-4f97-bcbe-e28ffce7bb8f"
      },
      "execution_count": null,
      "outputs": [
        {
          "output_type": "stream",
          "name": "stdout",
          "text": [
            "\n",
            "Document-Term Matrix Dimensions:\n",
            "Number of documents (rows): 38\n",
            "Number of terms (columns): 2896\n"
          ]
        }
      ]
    },
    {
      "cell_type": "code",
      "source": [
        "# Here I want to check to make sure my dataset downloaded correctly\n",
        "#  Step 1: Save DataFrame to CSV\n",
        "processed_corpus.to_csv(\"processed_corpus.csv\", index=False)\n",
        "\n",
        "# Step 2: Create a Download Link\n",
        "from google.colab import files\n",
        "files.download(\"processed_corpus.csv\")"
      ],
      "metadata": {
        "colab": {
          "base_uri": "https://localhost:8080/",
          "height": 17
        },
        "id": "CaOS7SQBWJn9",
        "outputId": "115292eb-a4a3-4037-e9b1-51a8c4fbd78e"
      },
      "execution_count": null,
      "outputs": [
        {
          "output_type": "display_data",
          "data": {
            "text/plain": [
              "<IPython.core.display.Javascript object>"
            ],
            "application/javascript": [
              "\n",
              "    async function download(id, filename, size) {\n",
              "      if (!google.colab.kernel.accessAllowed) {\n",
              "        return;\n",
              "      }\n",
              "      const div = document.createElement('div');\n",
              "      const label = document.createElement('label');\n",
              "      label.textContent = `Downloading \"${filename}\": `;\n",
              "      div.appendChild(label);\n",
              "      const progress = document.createElement('progress');\n",
              "      progress.max = size;\n",
              "      div.appendChild(progress);\n",
              "      document.body.appendChild(div);\n",
              "\n",
              "      const buffers = [];\n",
              "      let downloaded = 0;\n",
              "\n",
              "      const channel = await google.colab.kernel.comms.open(id);\n",
              "      // Send a message to notify the kernel that we're ready.\n",
              "      channel.send({})\n",
              "\n",
              "      for await (const message of channel.messages) {\n",
              "        // Send a message to notify the kernel that we're ready.\n",
              "        channel.send({})\n",
              "        if (message.buffers) {\n",
              "          for (const buffer of message.buffers) {\n",
              "            buffers.push(buffer);\n",
              "            downloaded += buffer.byteLength;\n",
              "            progress.value = downloaded;\n",
              "          }\n",
              "        }\n",
              "      }\n",
              "      const blob = new Blob(buffers, {type: 'application/binary'});\n",
              "      const a = document.createElement('a');\n",
              "      a.href = window.URL.createObjectURL(blob);\n",
              "      a.download = filename;\n",
              "      div.appendChild(a);\n",
              "      a.click();\n",
              "      div.remove();\n",
              "    }\n",
              "  "
            ]
          },
          "metadata": {}
        },
        {
          "output_type": "display_data",
          "data": {
            "text/plain": [
              "<IPython.core.display.Javascript object>"
            ],
            "application/javascript": [
              "download(\"download_d6b9f4ac-d7eb-4a33-809e-9ca451dd09fd\", \"processed_corpus.csv\", 937623)"
            ]
          },
          "metadata": {}
        }
      ]
    },
    {
      "cell_type": "markdown",
      "source": [
        "Task 5: Perform LDA Analysis\n",
        "\n",
        "    1. Set the random seed for reproducibility and perform LDA.\n",
        "    2. The assignment specifies 20 topics, 50 iterations, and status printing every 50 iterations.\n",
        "    3. Note that scikit-learn’s LDA uses variational inference rather than Gibbs sampling, but it meets the overall goal."
      ],
      "metadata": {
        "id": "PC-mRfaTPYYw"
      }
    },
    {
      "cell_type": "code",
      "source": [
        "from sklearn.decomposition import LatentDirichletAllocation\n",
        "\n",
        "# === [1] Set LDA Parameters ===\n",
        "lda_model = LatentDirichletAllocation(\n",
        "    n_components=20,         # Number of topics\n",
        "    max_iter=50,           # Max training iterations\n",
        "    learning_method='batch', # Use full-batch variational Bayes\n",
        "    random_state=1000,       # For reproducibility\n",
        "    verbose=50               # Print training progress\n",
        ")\n",
        "\n",
        "# === [2] Train the LDA Model on Your Document-Term Matrix ===\n",
        "lda_model.fit(dtm)"
      ],
      "metadata": {
        "colab": {
          "base_uri": "https://localhost:8080/",
          "height": 1000
        },
        "id": "Y_i1lvQtPaoE",
        "outputId": "f352c248-1906-4d2d-ecfe-e97bebc090b6"
      },
      "execution_count": null,
      "outputs": [
        {
          "output_type": "stream",
          "name": "stderr",
          "text": [
            "[Parallel(n_jobs=1)]: Done   1 tasks      | elapsed:    0.1s\n",
            "[Parallel(n_jobs=1)]: Done   1 tasks      | elapsed:    0.1s\n",
            "[Parallel(n_jobs=1)]: Done   1 tasks      | elapsed:    0.2s\n",
            "[Parallel(n_jobs=1)]: Done   1 tasks      | elapsed:    0.2s\n"
          ]
        },
        {
          "output_type": "stream",
          "name": "stdout",
          "text": [
            "iteration: 1 of max_iter: 50\n",
            "iteration: 2 of max_iter: 50\n"
          ]
        },
        {
          "output_type": "stream",
          "name": "stderr",
          "text": [
            "[Parallel(n_jobs=1)]: Done   1 tasks      | elapsed:    0.1s\n",
            "[Parallel(n_jobs=1)]: Done   1 tasks      | elapsed:    0.1s\n",
            "[Parallel(n_jobs=1)]: Done   1 tasks      | elapsed:    0.1s\n",
            "[Parallel(n_jobs=1)]: Done   1 tasks      | elapsed:    0.1s\n"
          ]
        },
        {
          "output_type": "stream",
          "name": "stdout",
          "text": [
            "iteration: 3 of max_iter: 50\n",
            "iteration: 4 of max_iter: 50\n"
          ]
        },
        {
          "output_type": "stream",
          "name": "stderr",
          "text": [
            "[Parallel(n_jobs=1)]: Done   1 tasks      | elapsed:    0.1s\n",
            "[Parallel(n_jobs=1)]: Done   1 tasks      | elapsed:    0.1s\n",
            "[Parallel(n_jobs=1)]: Done   1 tasks      | elapsed:    0.1s\n",
            "[Parallel(n_jobs=1)]: Done   1 tasks      | elapsed:    0.1s\n",
            "[Parallel(n_jobs=1)]: Done   1 tasks      | elapsed:    0.1s\n",
            "[Parallel(n_jobs=1)]: Done   1 tasks      | elapsed:    0.1s\n"
          ]
        },
        {
          "output_type": "stream",
          "name": "stdout",
          "text": [
            "iteration: 5 of max_iter: 50\n",
            "iteration: 6 of max_iter: 50\n",
            "iteration: 7 of max_iter: 50\n"
          ]
        },
        {
          "output_type": "stream",
          "name": "stderr",
          "text": [
            "[Parallel(n_jobs=1)]: Done   1 tasks      | elapsed:    0.1s\n",
            "[Parallel(n_jobs=1)]: Done   1 tasks      | elapsed:    0.1s\n",
            "[Parallel(n_jobs=1)]: Done   1 tasks      | elapsed:    0.1s\n",
            "[Parallel(n_jobs=1)]: Done   1 tasks      | elapsed:    0.1s\n",
            "[Parallel(n_jobs=1)]: Done   1 tasks      | elapsed:    0.1s\n",
            "[Parallel(n_jobs=1)]: Done   1 tasks      | elapsed:    0.1s\n"
          ]
        },
        {
          "output_type": "stream",
          "name": "stdout",
          "text": [
            "iteration: 8 of max_iter: 50\n",
            "iteration: 9 of max_iter: 50\n",
            "iteration: 10 of max_iter: 50\n"
          ]
        },
        {
          "output_type": "stream",
          "name": "stderr",
          "text": [
            "[Parallel(n_jobs=1)]: Done   1 tasks      | elapsed:    0.1s\n",
            "[Parallel(n_jobs=1)]: Done   1 tasks      | elapsed:    0.1s\n",
            "[Parallel(n_jobs=1)]: Done   1 tasks      | elapsed:    0.1s\n",
            "[Parallel(n_jobs=1)]: Done   1 tasks      | elapsed:    0.1s\n",
            "[Parallel(n_jobs=1)]: Done   1 tasks      | elapsed:    0.1s\n",
            "[Parallel(n_jobs=1)]: Done   1 tasks      | elapsed:    0.1s\n",
            "[Parallel(n_jobs=1)]: Done   1 tasks      | elapsed:    0.1s\n",
            "[Parallel(n_jobs=1)]: Done   1 tasks      | elapsed:    0.1s\n"
          ]
        },
        {
          "output_type": "stream",
          "name": "stdout",
          "text": [
            "iteration: 11 of max_iter: 50\n",
            "iteration: 12 of max_iter: 50\n",
            "iteration: 13 of max_iter: 50\n",
            "iteration: 14 of max_iter: 50\n"
          ]
        },
        {
          "output_type": "stream",
          "name": "stderr",
          "text": [
            "[Parallel(n_jobs=1)]: Done   1 tasks      | elapsed:    0.1s\n",
            "[Parallel(n_jobs=1)]: Done   1 tasks      | elapsed:    0.1s\n",
            "[Parallel(n_jobs=1)]: Done   1 tasks      | elapsed:    0.2s\n",
            "[Parallel(n_jobs=1)]: Done   1 tasks      | elapsed:    0.2s\n"
          ]
        },
        {
          "output_type": "stream",
          "name": "stdout",
          "text": [
            "iteration: 15 of max_iter: 50\n",
            "iteration: 16 of max_iter: 50\n"
          ]
        },
        {
          "output_type": "stream",
          "name": "stderr",
          "text": [
            "[Parallel(n_jobs=1)]: Done   1 tasks      | elapsed:    0.1s\n",
            "[Parallel(n_jobs=1)]: Done   1 tasks      | elapsed:    0.1s\n",
            "[Parallel(n_jobs=1)]: Done   1 tasks      | elapsed:    0.1s\n",
            "[Parallel(n_jobs=1)]: Done   1 tasks      | elapsed:    0.1s\n",
            "[Parallel(n_jobs=1)]: Done   1 tasks      | elapsed:    0.1s\n",
            "[Parallel(n_jobs=1)]: Done   1 tasks      | elapsed:    0.1s\n"
          ]
        },
        {
          "output_type": "stream",
          "name": "stdout",
          "text": [
            "iteration: 17 of max_iter: 50\n",
            "iteration: 18 of max_iter: 50\n",
            "iteration: 19 of max_iter: 50\n"
          ]
        },
        {
          "output_type": "stream",
          "name": "stderr",
          "text": [
            "[Parallel(n_jobs=1)]: Done   1 tasks      | elapsed:    0.1s\n",
            "[Parallel(n_jobs=1)]: Done   1 tasks      | elapsed:    0.1s\n",
            "[Parallel(n_jobs=1)]: Done   1 tasks      | elapsed:    0.1s\n",
            "[Parallel(n_jobs=1)]: Done   1 tasks      | elapsed:    0.1s\n",
            "[Parallel(n_jobs=1)]: Done   1 tasks      | elapsed:    0.1s\n",
            "[Parallel(n_jobs=1)]: Done   1 tasks      | elapsed:    0.1s\n",
            "[Parallel(n_jobs=1)]: Done   1 tasks      | elapsed:    0.1s\n",
            "[Parallel(n_jobs=1)]: Done   1 tasks      | elapsed:    0.1s\n"
          ]
        },
        {
          "output_type": "stream",
          "name": "stdout",
          "text": [
            "iteration: 20 of max_iter: 50\n",
            "iteration: 21 of max_iter: 50\n",
            "iteration: 22 of max_iter: 50\n",
            "iteration: 23 of max_iter: 50\n"
          ]
        },
        {
          "output_type": "stream",
          "name": "stderr",
          "text": [
            "[Parallel(n_jobs=1)]: Done   1 tasks      | elapsed:    0.1s\n",
            "[Parallel(n_jobs=1)]: Done   1 tasks      | elapsed:    0.1s\n",
            "[Parallel(n_jobs=1)]: Done   1 tasks      | elapsed:    0.1s\n",
            "[Parallel(n_jobs=1)]: Done   1 tasks      | elapsed:    0.1s\n",
            "[Parallel(n_jobs=1)]: Done   1 tasks      | elapsed:    0.1s\n",
            "[Parallel(n_jobs=1)]: Done   1 tasks      | elapsed:    0.1s\n"
          ]
        },
        {
          "output_type": "stream",
          "name": "stdout",
          "text": [
            "iteration: 24 of max_iter: 50\n",
            "iteration: 25 of max_iter: 50\n",
            "iteration: 26 of max_iter: 50\n"
          ]
        },
        {
          "output_type": "stream",
          "name": "stderr",
          "text": [
            "[Parallel(n_jobs=1)]: Done   1 tasks      | elapsed:    0.1s\n",
            "[Parallel(n_jobs=1)]: Done   1 tasks      | elapsed:    0.1s\n",
            "[Parallel(n_jobs=1)]: Done   1 tasks      | elapsed:    0.1s\n",
            "[Parallel(n_jobs=1)]: Done   1 tasks      | elapsed:    0.1s\n",
            "[Parallel(n_jobs=1)]: Done   1 tasks      | elapsed:    0.1s\n",
            "[Parallel(n_jobs=1)]: Done   1 tasks      | elapsed:    0.1s\n"
          ]
        },
        {
          "output_type": "stream",
          "name": "stdout",
          "text": [
            "iteration: 27 of max_iter: 50\n",
            "iteration: 28 of max_iter: 50\n",
            "iteration: 29 of max_iter: 50\n"
          ]
        },
        {
          "output_type": "stream",
          "name": "stderr",
          "text": [
            "[Parallel(n_jobs=1)]: Done   1 tasks      | elapsed:    0.1s\n",
            "[Parallel(n_jobs=1)]: Done   1 tasks      | elapsed:    0.1s\n",
            "[Parallel(n_jobs=1)]: Done   1 tasks      | elapsed:    0.1s\n",
            "[Parallel(n_jobs=1)]: Done   1 tasks      | elapsed:    0.1s\n"
          ]
        },
        {
          "output_type": "stream",
          "name": "stdout",
          "text": [
            "iteration: 30 of max_iter: 50\n",
            "iteration: 31 of max_iter: 50\n"
          ]
        },
        {
          "output_type": "stream",
          "name": "stderr",
          "text": [
            "[Parallel(n_jobs=1)]: Done   1 tasks      | elapsed:    0.1s\n",
            "[Parallel(n_jobs=1)]: Done   1 tasks      | elapsed:    0.1s\n",
            "[Parallel(n_jobs=1)]: Done   1 tasks      | elapsed:    0.1s\n",
            "[Parallel(n_jobs=1)]: Done   1 tasks      | elapsed:    0.1s\n",
            "[Parallel(n_jobs=1)]: Done   1 tasks      | elapsed:    0.1s\n",
            "[Parallel(n_jobs=1)]: Done   1 tasks      | elapsed:    0.1s\n"
          ]
        },
        {
          "output_type": "stream",
          "name": "stdout",
          "text": [
            "iteration: 32 of max_iter: 50\n",
            "iteration: 33 of max_iter: 50\n",
            "iteration: 34 of max_iter: 50\n"
          ]
        },
        {
          "output_type": "stream",
          "name": "stderr",
          "text": [
            "[Parallel(n_jobs=1)]: Done   1 tasks      | elapsed:    0.1s\n",
            "[Parallel(n_jobs=1)]: Done   1 tasks      | elapsed:    0.1s\n",
            "[Parallel(n_jobs=1)]: Done   1 tasks      | elapsed:    0.1s\n",
            "[Parallel(n_jobs=1)]: Done   1 tasks      | elapsed:    0.1s\n",
            "[Parallel(n_jobs=1)]: Done   1 tasks      | elapsed:    0.1s\n",
            "[Parallel(n_jobs=1)]: Done   1 tasks      | elapsed:    0.1s\n"
          ]
        },
        {
          "output_type": "stream",
          "name": "stdout",
          "text": [
            "iteration: 35 of max_iter: 50\n",
            "iteration: 36 of max_iter: 50\n",
            "iteration: 37 of max_iter: 50\n"
          ]
        },
        {
          "output_type": "stream",
          "name": "stderr",
          "text": [
            "[Parallel(n_jobs=1)]: Done   1 tasks      | elapsed:    0.1s\n",
            "[Parallel(n_jobs=1)]: Done   1 tasks      | elapsed:    0.1s\n",
            "[Parallel(n_jobs=1)]: Done   1 tasks      | elapsed:    0.1s\n",
            "[Parallel(n_jobs=1)]: Done   1 tasks      | elapsed:    0.1s\n",
            "[Parallel(n_jobs=1)]: Done   1 tasks      | elapsed:    0.1s\n",
            "[Parallel(n_jobs=1)]: Done   1 tasks      | elapsed:    0.1s\n"
          ]
        },
        {
          "output_type": "stream",
          "name": "stdout",
          "text": [
            "iteration: 38 of max_iter: 50\n",
            "iteration: 39 of max_iter: 50\n",
            "iteration: 40 of max_iter: 50\n"
          ]
        },
        {
          "output_type": "stream",
          "name": "stderr",
          "text": [
            "[Parallel(n_jobs=1)]: Done   1 tasks      | elapsed:    0.1s\n",
            "[Parallel(n_jobs=1)]: Done   1 tasks      | elapsed:    0.1s\n",
            "[Parallel(n_jobs=1)]: Done   1 tasks      | elapsed:    0.1s\n",
            "[Parallel(n_jobs=1)]: Done   1 tasks      | elapsed:    0.1s\n",
            "[Parallel(n_jobs=1)]: Done   1 tasks      | elapsed:    0.1s\n",
            "[Parallel(n_jobs=1)]: Done   1 tasks      | elapsed:    0.1s\n"
          ]
        },
        {
          "output_type": "stream",
          "name": "stdout",
          "text": [
            "iteration: 41 of max_iter: 50\n",
            "iteration: 42 of max_iter: 50\n",
            "iteration: 43 of max_iter: 50\n"
          ]
        },
        {
          "output_type": "stream",
          "name": "stderr",
          "text": [
            "[Parallel(n_jobs=1)]: Done   1 tasks      | elapsed:    0.1s\n",
            "[Parallel(n_jobs=1)]: Done   1 tasks      | elapsed:    0.1s\n",
            "[Parallel(n_jobs=1)]: Done   1 tasks      | elapsed:    0.1s\n",
            "[Parallel(n_jobs=1)]: Done   1 tasks      | elapsed:    0.1s\n",
            "[Parallel(n_jobs=1)]: Done   1 tasks      | elapsed:    0.1s\n",
            "[Parallel(n_jobs=1)]: Done   1 tasks      | elapsed:    0.1s\n",
            "[Parallel(n_jobs=1)]: Done   1 tasks      | elapsed:    0.1s\n",
            "[Parallel(n_jobs=1)]: Done   1 tasks      | elapsed:    0.1s\n"
          ]
        },
        {
          "output_type": "stream",
          "name": "stdout",
          "text": [
            "iteration: 44 of max_iter: 50\n",
            "iteration: 45 of max_iter: 50\n",
            "iteration: 46 of max_iter: 50\n",
            "iteration: 47 of max_iter: 50\n"
          ]
        },
        {
          "output_type": "stream",
          "name": "stderr",
          "text": [
            "[Parallel(n_jobs=1)]: Done   1 tasks      | elapsed:    0.1s\n",
            "[Parallel(n_jobs=1)]: Done   1 tasks      | elapsed:    0.1s\n",
            "[Parallel(n_jobs=1)]: Done   1 tasks      | elapsed:    0.1s\n",
            "[Parallel(n_jobs=1)]: Done   1 tasks      | elapsed:    0.1s\n",
            "[Parallel(n_jobs=1)]: Done   1 tasks      | elapsed:    0.1s\n",
            "[Parallel(n_jobs=1)]: Done   1 tasks      | elapsed:    0.1s\n"
          ]
        },
        {
          "output_type": "stream",
          "name": "stdout",
          "text": [
            "iteration: 48 of max_iter: 50\n",
            "iteration: 49 of max_iter: 50\n",
            "iteration: 50 of max_iter: 50\n"
          ]
        },
        {
          "output_type": "stream",
          "name": "stderr",
          "text": [
            "[Parallel(n_jobs=1)]: Done   1 tasks      | elapsed:    0.1s\n",
            "[Parallel(n_jobs=1)]: Done   1 tasks      | elapsed:    0.1s\n"
          ]
        },
        {
          "output_type": "execute_result",
          "data": {
            "text/plain": [
              "LatentDirichletAllocation(max_iter=50, n_components=20, random_state=1000,\n",
              "                          verbose=50)"
            ],
            "text/html": [
              "<style>#sk-container-id-2 {\n",
              "  /* Definition of color scheme common for light and dark mode */\n",
              "  --sklearn-color-text: #000;\n",
              "  --sklearn-color-text-muted: #666;\n",
              "  --sklearn-color-line: gray;\n",
              "  /* Definition of color scheme for unfitted estimators */\n",
              "  --sklearn-color-unfitted-level-0: #fff5e6;\n",
              "  --sklearn-color-unfitted-level-1: #f6e4d2;\n",
              "  --sklearn-color-unfitted-level-2: #ffe0b3;\n",
              "  --sklearn-color-unfitted-level-3: chocolate;\n",
              "  /* Definition of color scheme for fitted estimators */\n",
              "  --sklearn-color-fitted-level-0: #f0f8ff;\n",
              "  --sklearn-color-fitted-level-1: #d4ebff;\n",
              "  --sklearn-color-fitted-level-2: #b3dbfd;\n",
              "  --sklearn-color-fitted-level-3: cornflowerblue;\n",
              "\n",
              "  /* Specific color for light theme */\n",
              "  --sklearn-color-text-on-default-background: var(--sg-text-color, var(--theme-code-foreground, var(--jp-content-font-color1, black)));\n",
              "  --sklearn-color-background: var(--sg-background-color, var(--theme-background, var(--jp-layout-color0, white)));\n",
              "  --sklearn-color-border-box: var(--sg-text-color, var(--theme-code-foreground, var(--jp-content-font-color1, black)));\n",
              "  --sklearn-color-icon: #696969;\n",
              "\n",
              "  @media (prefers-color-scheme: dark) {\n",
              "    /* Redefinition of color scheme for dark theme */\n",
              "    --sklearn-color-text-on-default-background: var(--sg-text-color, var(--theme-code-foreground, var(--jp-content-font-color1, white)));\n",
              "    --sklearn-color-background: var(--sg-background-color, var(--theme-background, var(--jp-layout-color0, #111)));\n",
              "    --sklearn-color-border-box: var(--sg-text-color, var(--theme-code-foreground, var(--jp-content-font-color1, white)));\n",
              "    --sklearn-color-icon: #878787;\n",
              "  }\n",
              "}\n",
              "\n",
              "#sk-container-id-2 {\n",
              "  color: var(--sklearn-color-text);\n",
              "}\n",
              "\n",
              "#sk-container-id-2 pre {\n",
              "  padding: 0;\n",
              "}\n",
              "\n",
              "#sk-container-id-2 input.sk-hidden--visually {\n",
              "  border: 0;\n",
              "  clip: rect(1px 1px 1px 1px);\n",
              "  clip: rect(1px, 1px, 1px, 1px);\n",
              "  height: 1px;\n",
              "  margin: -1px;\n",
              "  overflow: hidden;\n",
              "  padding: 0;\n",
              "  position: absolute;\n",
              "  width: 1px;\n",
              "}\n",
              "\n",
              "#sk-container-id-2 div.sk-dashed-wrapped {\n",
              "  border: 1px dashed var(--sklearn-color-line);\n",
              "  margin: 0 0.4em 0.5em 0.4em;\n",
              "  box-sizing: border-box;\n",
              "  padding-bottom: 0.4em;\n",
              "  background-color: var(--sklearn-color-background);\n",
              "}\n",
              "\n",
              "#sk-container-id-2 div.sk-container {\n",
              "  /* jupyter's `normalize.less` sets `[hidden] { display: none; }`\n",
              "     but bootstrap.min.css set `[hidden] { display: none !important; }`\n",
              "     so we also need the `!important` here to be able to override the\n",
              "     default hidden behavior on the sphinx rendered scikit-learn.org.\n",
              "     See: https://github.com/scikit-learn/scikit-learn/issues/21755 */\n",
              "  display: inline-block !important;\n",
              "  position: relative;\n",
              "}\n",
              "\n",
              "#sk-container-id-2 div.sk-text-repr-fallback {\n",
              "  display: none;\n",
              "}\n",
              "\n",
              "div.sk-parallel-item,\n",
              "div.sk-serial,\n",
              "div.sk-item {\n",
              "  /* draw centered vertical line to link estimators */\n",
              "  background-image: linear-gradient(var(--sklearn-color-text-on-default-background), var(--sklearn-color-text-on-default-background));\n",
              "  background-size: 2px 100%;\n",
              "  background-repeat: no-repeat;\n",
              "  background-position: center center;\n",
              "}\n",
              "\n",
              "/* Parallel-specific style estimator block */\n",
              "\n",
              "#sk-container-id-2 div.sk-parallel-item::after {\n",
              "  content: \"\";\n",
              "  width: 100%;\n",
              "  border-bottom: 2px solid var(--sklearn-color-text-on-default-background);\n",
              "  flex-grow: 1;\n",
              "}\n",
              "\n",
              "#sk-container-id-2 div.sk-parallel {\n",
              "  display: flex;\n",
              "  align-items: stretch;\n",
              "  justify-content: center;\n",
              "  background-color: var(--sklearn-color-background);\n",
              "  position: relative;\n",
              "}\n",
              "\n",
              "#sk-container-id-2 div.sk-parallel-item {\n",
              "  display: flex;\n",
              "  flex-direction: column;\n",
              "}\n",
              "\n",
              "#sk-container-id-2 div.sk-parallel-item:first-child::after {\n",
              "  align-self: flex-end;\n",
              "  width: 50%;\n",
              "}\n",
              "\n",
              "#sk-container-id-2 div.sk-parallel-item:last-child::after {\n",
              "  align-self: flex-start;\n",
              "  width: 50%;\n",
              "}\n",
              "\n",
              "#sk-container-id-2 div.sk-parallel-item:only-child::after {\n",
              "  width: 0;\n",
              "}\n",
              "\n",
              "/* Serial-specific style estimator block */\n",
              "\n",
              "#sk-container-id-2 div.sk-serial {\n",
              "  display: flex;\n",
              "  flex-direction: column;\n",
              "  align-items: center;\n",
              "  background-color: var(--sklearn-color-background);\n",
              "  padding-right: 1em;\n",
              "  padding-left: 1em;\n",
              "}\n",
              "\n",
              "\n",
              "/* Toggleable style: style used for estimator/Pipeline/ColumnTransformer box that is\n",
              "clickable and can be expanded/collapsed.\n",
              "- Pipeline and ColumnTransformer use this feature and define the default style\n",
              "- Estimators will overwrite some part of the style using the `sk-estimator` class\n",
              "*/\n",
              "\n",
              "/* Pipeline and ColumnTransformer style (default) */\n",
              "\n",
              "#sk-container-id-2 div.sk-toggleable {\n",
              "  /* Default theme specific background. It is overwritten whether we have a\n",
              "  specific estimator or a Pipeline/ColumnTransformer */\n",
              "  background-color: var(--sklearn-color-background);\n",
              "}\n",
              "\n",
              "/* Toggleable label */\n",
              "#sk-container-id-2 label.sk-toggleable__label {\n",
              "  cursor: pointer;\n",
              "  display: flex;\n",
              "  width: 100%;\n",
              "  margin-bottom: 0;\n",
              "  padding: 0.5em;\n",
              "  box-sizing: border-box;\n",
              "  text-align: center;\n",
              "  align-items: start;\n",
              "  justify-content: space-between;\n",
              "  gap: 0.5em;\n",
              "}\n",
              "\n",
              "#sk-container-id-2 label.sk-toggleable__label .caption {\n",
              "  font-size: 0.6rem;\n",
              "  font-weight: lighter;\n",
              "  color: var(--sklearn-color-text-muted);\n",
              "}\n",
              "\n",
              "#sk-container-id-2 label.sk-toggleable__label-arrow:before {\n",
              "  /* Arrow on the left of the label */\n",
              "  content: \"▸\";\n",
              "  float: left;\n",
              "  margin-right: 0.25em;\n",
              "  color: var(--sklearn-color-icon);\n",
              "}\n",
              "\n",
              "#sk-container-id-2 label.sk-toggleable__label-arrow:hover:before {\n",
              "  color: var(--sklearn-color-text);\n",
              "}\n",
              "\n",
              "/* Toggleable content - dropdown */\n",
              "\n",
              "#sk-container-id-2 div.sk-toggleable__content {\n",
              "  max-height: 0;\n",
              "  max-width: 0;\n",
              "  overflow: hidden;\n",
              "  text-align: left;\n",
              "  /* unfitted */\n",
              "  background-color: var(--sklearn-color-unfitted-level-0);\n",
              "}\n",
              "\n",
              "#sk-container-id-2 div.sk-toggleable__content.fitted {\n",
              "  /* fitted */\n",
              "  background-color: var(--sklearn-color-fitted-level-0);\n",
              "}\n",
              "\n",
              "#sk-container-id-2 div.sk-toggleable__content pre {\n",
              "  margin: 0.2em;\n",
              "  border-radius: 0.25em;\n",
              "  color: var(--sklearn-color-text);\n",
              "  /* unfitted */\n",
              "  background-color: var(--sklearn-color-unfitted-level-0);\n",
              "}\n",
              "\n",
              "#sk-container-id-2 div.sk-toggleable__content.fitted pre {\n",
              "  /* unfitted */\n",
              "  background-color: var(--sklearn-color-fitted-level-0);\n",
              "}\n",
              "\n",
              "#sk-container-id-2 input.sk-toggleable__control:checked~div.sk-toggleable__content {\n",
              "  /* Expand drop-down */\n",
              "  max-height: 200px;\n",
              "  max-width: 100%;\n",
              "  overflow: auto;\n",
              "}\n",
              "\n",
              "#sk-container-id-2 input.sk-toggleable__control:checked~label.sk-toggleable__label-arrow:before {\n",
              "  content: \"▾\";\n",
              "}\n",
              "\n",
              "/* Pipeline/ColumnTransformer-specific style */\n",
              "\n",
              "#sk-container-id-2 div.sk-label input.sk-toggleable__control:checked~label.sk-toggleable__label {\n",
              "  color: var(--sklearn-color-text);\n",
              "  background-color: var(--sklearn-color-unfitted-level-2);\n",
              "}\n",
              "\n",
              "#sk-container-id-2 div.sk-label.fitted input.sk-toggleable__control:checked~label.sk-toggleable__label {\n",
              "  background-color: var(--sklearn-color-fitted-level-2);\n",
              "}\n",
              "\n",
              "/* Estimator-specific style */\n",
              "\n",
              "/* Colorize estimator box */\n",
              "#sk-container-id-2 div.sk-estimator input.sk-toggleable__control:checked~label.sk-toggleable__label {\n",
              "  /* unfitted */\n",
              "  background-color: var(--sklearn-color-unfitted-level-2);\n",
              "}\n",
              "\n",
              "#sk-container-id-2 div.sk-estimator.fitted input.sk-toggleable__control:checked~label.sk-toggleable__label {\n",
              "  /* fitted */\n",
              "  background-color: var(--sklearn-color-fitted-level-2);\n",
              "}\n",
              "\n",
              "#sk-container-id-2 div.sk-label label.sk-toggleable__label,\n",
              "#sk-container-id-2 div.sk-label label {\n",
              "  /* The background is the default theme color */\n",
              "  color: var(--sklearn-color-text-on-default-background);\n",
              "}\n",
              "\n",
              "/* On hover, darken the color of the background */\n",
              "#sk-container-id-2 div.sk-label:hover label.sk-toggleable__label {\n",
              "  color: var(--sklearn-color-text);\n",
              "  background-color: var(--sklearn-color-unfitted-level-2);\n",
              "}\n",
              "\n",
              "/* Label box, darken color on hover, fitted */\n",
              "#sk-container-id-2 div.sk-label.fitted:hover label.sk-toggleable__label.fitted {\n",
              "  color: var(--sklearn-color-text);\n",
              "  background-color: var(--sklearn-color-fitted-level-2);\n",
              "}\n",
              "\n",
              "/* Estimator label */\n",
              "\n",
              "#sk-container-id-2 div.sk-label label {\n",
              "  font-family: monospace;\n",
              "  font-weight: bold;\n",
              "  display: inline-block;\n",
              "  line-height: 1.2em;\n",
              "}\n",
              "\n",
              "#sk-container-id-2 div.sk-label-container {\n",
              "  text-align: center;\n",
              "}\n",
              "\n",
              "/* Estimator-specific */\n",
              "#sk-container-id-2 div.sk-estimator {\n",
              "  font-family: monospace;\n",
              "  border: 1px dotted var(--sklearn-color-border-box);\n",
              "  border-radius: 0.25em;\n",
              "  box-sizing: border-box;\n",
              "  margin-bottom: 0.5em;\n",
              "  /* unfitted */\n",
              "  background-color: var(--sklearn-color-unfitted-level-0);\n",
              "}\n",
              "\n",
              "#sk-container-id-2 div.sk-estimator.fitted {\n",
              "  /* fitted */\n",
              "  background-color: var(--sklearn-color-fitted-level-0);\n",
              "}\n",
              "\n",
              "/* on hover */\n",
              "#sk-container-id-2 div.sk-estimator:hover {\n",
              "  /* unfitted */\n",
              "  background-color: var(--sklearn-color-unfitted-level-2);\n",
              "}\n",
              "\n",
              "#sk-container-id-2 div.sk-estimator.fitted:hover {\n",
              "  /* fitted */\n",
              "  background-color: var(--sklearn-color-fitted-level-2);\n",
              "}\n",
              "\n",
              "/* Specification for estimator info (e.g. \"i\" and \"?\") */\n",
              "\n",
              "/* Common style for \"i\" and \"?\" */\n",
              "\n",
              ".sk-estimator-doc-link,\n",
              "a:link.sk-estimator-doc-link,\n",
              "a:visited.sk-estimator-doc-link {\n",
              "  float: right;\n",
              "  font-size: smaller;\n",
              "  line-height: 1em;\n",
              "  font-family: monospace;\n",
              "  background-color: var(--sklearn-color-background);\n",
              "  border-radius: 1em;\n",
              "  height: 1em;\n",
              "  width: 1em;\n",
              "  text-decoration: none !important;\n",
              "  margin-left: 0.5em;\n",
              "  text-align: center;\n",
              "  /* unfitted */\n",
              "  border: var(--sklearn-color-unfitted-level-1) 1pt solid;\n",
              "  color: var(--sklearn-color-unfitted-level-1);\n",
              "}\n",
              "\n",
              ".sk-estimator-doc-link.fitted,\n",
              "a:link.sk-estimator-doc-link.fitted,\n",
              "a:visited.sk-estimator-doc-link.fitted {\n",
              "  /* fitted */\n",
              "  border: var(--sklearn-color-fitted-level-1) 1pt solid;\n",
              "  color: var(--sklearn-color-fitted-level-1);\n",
              "}\n",
              "\n",
              "/* On hover */\n",
              "div.sk-estimator:hover .sk-estimator-doc-link:hover,\n",
              ".sk-estimator-doc-link:hover,\n",
              "div.sk-label-container:hover .sk-estimator-doc-link:hover,\n",
              ".sk-estimator-doc-link:hover {\n",
              "  /* unfitted */\n",
              "  background-color: var(--sklearn-color-unfitted-level-3);\n",
              "  color: var(--sklearn-color-background);\n",
              "  text-decoration: none;\n",
              "}\n",
              "\n",
              "div.sk-estimator.fitted:hover .sk-estimator-doc-link.fitted:hover,\n",
              ".sk-estimator-doc-link.fitted:hover,\n",
              "div.sk-label-container:hover .sk-estimator-doc-link.fitted:hover,\n",
              ".sk-estimator-doc-link.fitted:hover {\n",
              "  /* fitted */\n",
              "  background-color: var(--sklearn-color-fitted-level-3);\n",
              "  color: var(--sklearn-color-background);\n",
              "  text-decoration: none;\n",
              "}\n",
              "\n",
              "/* Span, style for the box shown on hovering the info icon */\n",
              ".sk-estimator-doc-link span {\n",
              "  display: none;\n",
              "  z-index: 9999;\n",
              "  position: relative;\n",
              "  font-weight: normal;\n",
              "  right: .2ex;\n",
              "  padding: .5ex;\n",
              "  margin: .5ex;\n",
              "  width: min-content;\n",
              "  min-width: 20ex;\n",
              "  max-width: 50ex;\n",
              "  color: var(--sklearn-color-text);\n",
              "  box-shadow: 2pt 2pt 4pt #999;\n",
              "  /* unfitted */\n",
              "  background: var(--sklearn-color-unfitted-level-0);\n",
              "  border: .5pt solid var(--sklearn-color-unfitted-level-3);\n",
              "}\n",
              "\n",
              ".sk-estimator-doc-link.fitted span {\n",
              "  /* fitted */\n",
              "  background: var(--sklearn-color-fitted-level-0);\n",
              "  border: var(--sklearn-color-fitted-level-3);\n",
              "}\n",
              "\n",
              ".sk-estimator-doc-link:hover span {\n",
              "  display: block;\n",
              "}\n",
              "\n",
              "/* \"?\"-specific style due to the `<a>` HTML tag */\n",
              "\n",
              "#sk-container-id-2 a.estimator_doc_link {\n",
              "  float: right;\n",
              "  font-size: 1rem;\n",
              "  line-height: 1em;\n",
              "  font-family: monospace;\n",
              "  background-color: var(--sklearn-color-background);\n",
              "  border-radius: 1rem;\n",
              "  height: 1rem;\n",
              "  width: 1rem;\n",
              "  text-decoration: none;\n",
              "  /* unfitted */\n",
              "  color: var(--sklearn-color-unfitted-level-1);\n",
              "  border: var(--sklearn-color-unfitted-level-1) 1pt solid;\n",
              "}\n",
              "\n",
              "#sk-container-id-2 a.estimator_doc_link.fitted {\n",
              "  /* fitted */\n",
              "  border: var(--sklearn-color-fitted-level-1) 1pt solid;\n",
              "  color: var(--sklearn-color-fitted-level-1);\n",
              "}\n",
              "\n",
              "/* On hover */\n",
              "#sk-container-id-2 a.estimator_doc_link:hover {\n",
              "  /* unfitted */\n",
              "  background-color: var(--sklearn-color-unfitted-level-3);\n",
              "  color: var(--sklearn-color-background);\n",
              "  text-decoration: none;\n",
              "}\n",
              "\n",
              "#sk-container-id-2 a.estimator_doc_link.fitted:hover {\n",
              "  /* fitted */\n",
              "  background-color: var(--sklearn-color-fitted-level-3);\n",
              "}\n",
              "</style><div id=\"sk-container-id-2\" class=\"sk-top-container\"><div class=\"sk-text-repr-fallback\"><pre>LatentDirichletAllocation(max_iter=50, n_components=20, random_state=1000,\n",
              "                          verbose=50)</pre><b>In a Jupyter environment, please rerun this cell to show the HTML representation or trust the notebook. <br />On GitHub, the HTML representation is unable to render, please try loading this page with nbviewer.org.</b></div><div class=\"sk-container\" hidden><div class=\"sk-item\"><div class=\"sk-estimator fitted sk-toggleable\"><input class=\"sk-toggleable__control sk-hidden--visually\" id=\"sk-estimator-id-2\" type=\"checkbox\" checked><label for=\"sk-estimator-id-2\" class=\"sk-toggleable__label fitted sk-toggleable__label-arrow\"><div><div>LatentDirichletAllocation</div></div><div><a class=\"sk-estimator-doc-link fitted\" rel=\"noreferrer\" target=\"_blank\" href=\"https://scikit-learn.org/1.6/modules/generated/sklearn.decomposition.LatentDirichletAllocation.html\">?<span>Documentation for LatentDirichletAllocation</span></a><span class=\"sk-estimator-doc-link fitted\">i<span>Fitted</span></span></div></label><div class=\"sk-toggleable__content fitted\"><pre>LatentDirichletAllocation(max_iter=50, n_components=20, random_state=1000,\n",
              "                          verbose=50)</pre></div> </div></div></div></div>"
            ]
          },
          "metadata": {},
          "execution_count": 26
        }
      ]
    },
    {
      "cell_type": "code",
      "source": [
        "# === [3] View Top Words for Each Topic ===\n",
        "terms = vectorizer.get_feature_names_out()\n",
        "num_top_words = 10\n",
        "\n",
        "for topic_idx, topic in enumerate(lda_model.components_):\n",
        "    print(f\"\\nTopic #{topic_idx + 1}:\")\n",
        "    top_term_indices = topic.argsort()[-num_top_words:][::-1]\n",
        "    top_terms = [terms[i] for i in top_term_indices]\n",
        "    print(\" \".join(top_terms))"
      ],
      "metadata": {
        "id": "tLWi_EKDQgGl",
        "colab": {
          "base_uri": "https://localhost:8080/"
        },
        "outputId": "4889758a-98da-473e-d6f8-78f8493388ca",
        "collapsed": true
      },
      "execution_count": null,
      "outputs": [
        {
          "output_type": "stream",
          "name": "stdout",
          "text": [
            "\n",
            "Topic #1:\n",
            "moor incid uni none zone healthcar earlier born curv feasibl\n",
            "\n",
            "Topic #2:\n",
            "evolut communiti ecolog use speci et al trait work lab\n",
            "\n",
            "Topic #3:\n",
            "web food ecolog ectotherm tree ecosystem use invad carbon al\n",
            "\n",
            "Topic #4:\n",
            "moor incid uni none zone healthcar earlier born curv feasibl\n",
            "\n",
            "Topic #5:\n",
            "adapt genom local data popul research associ use sequenc gene\n",
            "\n",
            "Topic #6:\n",
            "research softwar communiti applic includ impact scienc broader work support\n",
            "\n",
            "Topic #7:\n",
            "model student data use comput al biolog research educ et\n",
            "\n",
            "Topic #8:\n",
            "georgia manufactur project program develop communiti region ai underserv engag\n",
            "\n",
            "Topic #9:\n",
            "project communic experi behaviour research speci use signal light marin\n",
            "\n",
            "Topic #10:\n",
            "visual data inform graphic research imag use eye object subject\n",
            "\n",
            "Topic #11:\n",
            "research use plastic anim propos candid output function model neuron\n",
            "\n",
            "Topic #12:\n",
            "research project knowledg scienc scientif inform health work public polici\n",
            "\n",
            "Topic #13:\n",
            "manufactur ai technolog program project industri innov aimpf ga gaaim\n",
            "\n",
            "Topic #14:\n",
            "ecolog speci host select data al et communiti microbiom scale\n",
            "\n",
            "Topic #15:\n",
            "monitor detect record survey speci time pi unit use rate\n",
            "\n",
            "Topic #16:\n",
            "support data develop project user structur new array use document\n",
            "\n",
            "Topic #17:\n",
            "research applic form summari propos scheme pleas note scienc one\n",
            "\n",
            "Topic #18:\n",
            "model pp simul ocean use process reduc research scale project\n",
            "\n",
            "Topic #19:\n",
            "director region develop corpor atlanta section board member georgia medic\n",
            "\n",
            "Topic #20:\n",
            "bell ii measur project research experi studi decay search data\n"
          ]
        }
      ]
    },
    {
      "cell_type": "markdown",
      "source": [
        "Task 6: Extract Posterior Distributions\n",
        "\n",
        "    1. Extract the \"terms\" (topic-word distribution) and \"topics\" (document-topic distribution) matrices and display some sample values.\n",
        "\n",
        "    2. Terms Matrix:\n",
        "      a. Dimension: (number of topics, number of terms)\n",
        "      b. Each row corresponds to a topic; each column corresponds to a word from the vocabulary.\n",
        "    \n",
        "    3. Topics Matrix:\n",
        "      a. Dimension: (number of documents, number of topics)\n",
        "      b. Each row corresponds to a document; each column corresponds to a topic.\n",
        "      \n",
        "      \n",
        "Each row corresponds to a document; each column corresponds to a topic."
      ],
      "metadata": {
        "id": "htoNDjPPPgEV"
      }
    },
    {
      "cell_type": "code",
      "source": [
        "# === [1] Retrieve the \"terms\" matrix (topic-word distribution) ===\n",
        "terms_matrix = lda_model.components_\n",
        "\n",
        "print(\"\\nTerms Matrix (Topic-Word Distribution):\")\n",
        "print(\"Dimensions: {} topics x {} terms\".format(terms_matrix.shape[0], terms_matrix.shape[1]))\n",
        "print(\"Each row represents a topic; each column represents a term from the vocabulary.\")\n",
        "print(\"First 5 columns of the Terms Matrix:\")\n",
        "print(terms_matrix[:, :5])"
      ],
      "metadata": {
        "colab": {
          "base_uri": "https://localhost:8080/"
        },
        "id": "mk4hOxCZPkB-",
        "outputId": "a3e6f90e-cbb6-45fe-b53e-6f4d4d73927a",
        "collapsed": true
      },
      "execution_count": null,
      "outputs": [
        {
          "output_type": "stream",
          "name": "stdout",
          "text": [
            "\n",
            "Terms Matrix (Topic-Word Distribution):\n",
            "Dimensions: 20 topics x 2896 terms\n",
            "Each row represents a topic; each column represents a term from the vocabulary.\n",
            "First 5 columns of the Terms Matrix:\n",
            "[[ 0.05        0.05        0.05        0.05        0.05      ]\n",
            " [ 0.05        6.95321589  0.05        1.56349729  0.05      ]\n",
            " [ 0.05        0.05        0.05        0.05        0.05000001]\n",
            " [ 0.05        0.05        0.05        0.05        0.05      ]\n",
            " [ 0.05        3.12310021  1.12413064  1.24722144  0.05      ]\n",
            " [ 0.05        7.34681648  0.05        0.05        0.05      ]\n",
            " [ 0.05        0.05        0.05       11.58859534  1.9902267 ]\n",
            " [ 0.05        0.05        0.05        0.05        0.05      ]\n",
            " [ 1.05513617  6.13634145  0.05       16.2134011   0.05      ]\n",
            " [ 1.05        5.05002567  0.05        0.05        0.05      ]\n",
            " [ 0.05        5.73795804  0.05        7.85751738  0.05      ]\n",
            " [ 0.05       15.12846592  0.05        5.80581363  0.05      ]\n",
            " [ 0.05        1.26782932  0.05        1.3139781   0.05      ]\n",
            " [ 2.04486382  0.05       10.97586936  4.69496469  2.11042325]\n",
            " [ 0.05        0.05        0.05        0.05        6.95310681]\n",
            " [ 0.05        0.05        0.05        1.0690424   0.05      ]\n",
            " [ 0.05        1.1135198   0.05        2.1777897   0.05      ]\n",
            " [ 0.05        2.24215207  0.05        1.06796325  0.05      ]\n",
            " [ 0.05        4.37118835  0.05        4.76251674  6.14624323]\n",
            " [ 0.05        1.12938677  0.05        2.28769895  0.05      ]]\n"
          ]
        }
      ]
    },
    {
      "cell_type": "code",
      "source": [
        "# === [2] Retrieve the \"topics\" matrix (document-topic distribution) ===\n",
        "topics_matrix = lda_model.transform(dtm)\n",
        "\n",
        "print(\"\\nTopics Matrix (Document-Topic Distribution):\")\n",
        "print(\"Dimensions: {} documents x {} topics\".format(topics_matrix.shape[0], topics_matrix.shape[1]))\n",
        "print(\"Each row represents a document; each column represents a topic.\")\n",
        "print(\"First 5 rows of the Topics Matrix:\")\n",
        "print(topics_matrix[:5, :])"
      ],
      "metadata": {
        "colab": {
          "base_uri": "https://localhost:8080/"
        },
        "id": "8Ln9pCIXRezA",
        "outputId": "2e718d93-4ee0-4ed7-985c-12c015df9c2d"
      },
      "execution_count": null,
      "outputs": [
        {
          "output_type": "stream",
          "name": "stdout",
          "text": [
            "\n",
            "Topics Matrix (Document-Topic Distribution):\n",
            "Dimensions: 38 documents x 20 topics\n",
            "Each row represents a document; each column represents a topic.\n",
            "First 5 rows of the Topics Matrix:\n",
            "[[2.72479564e-05 3.67168274e-01 2.72479571e-05 2.72479564e-05\n",
            "  1.16312318e-01 1.06545960e-01 2.72479570e-05 3.48486029e-03\n",
            "  2.72479571e-05 5.19732807e-02 7.65520846e-02 1.11408445e-01\n",
            "  2.72479570e-05 5.36187808e-02 2.72479570e-05 2.72479569e-05\n",
            "  8.01260538e-02 2.72479571e-05 2.72479570e-05 3.25374630e-02]\n",
            " [8.21018062e-05 5.99440150e-02 2.48528692e-02 8.21018062e-05\n",
            "  8.21018077e-05 8.21018073e-05 1.03653770e-02 1.60169033e-02\n",
            "  6.01399632e-02 8.21018093e-05 8.21018077e-05 6.67332354e-02\n",
            "  8.21018086e-05 7.60880313e-01 8.21018081e-05 8.21018079e-05\n",
            "  8.21018079e-05 8.21018080e-05 8.21018085e-05 8.21018081e-05]\n",
            " [1.48279953e-05 1.48279955e-05 1.48279954e-05 1.48279953e-05\n",
            "  1.48279955e-05 1.48279955e-05 1.48279955e-05 1.48279955e-05\n",
            "  9.99718268e-01 1.48279955e-05 1.48279956e-05 1.48279956e-05\n",
            "  1.48279955e-05 1.48279955e-05 1.48279955e-05 1.48279955e-05\n",
            "  1.48279955e-05 1.48279955e-05 1.48279955e-05 1.48279955e-05]\n",
            " [9.78473581e-05 9.78473609e-05 9.78473603e-05 9.78473581e-05\n",
            "  2.59086683e-01 9.78473611e-05 9.78473602e-05 9.78473605e-05\n",
            "  9.78473607e-05 9.78473597e-05 9.78473599e-05 9.78473604e-05\n",
            "  9.78473604e-05 4.41239410e-01 9.78473605e-05 9.78473593e-05\n",
            "  9.78473594e-05 9.78473611e-05 9.78473610e-05 2.98010502e-01]\n",
            " [1.71939477e-05 1.71939481e-05 1.71939479e-05 1.71939477e-05\n",
            "  9.99673315e-01 1.71939480e-05 1.71939481e-05 1.71939480e-05\n",
            "  1.71939480e-05 1.71939480e-05 1.71939480e-05 1.71939480e-05\n",
            "  1.71939480e-05 1.71939481e-05 1.71939481e-05 1.71939480e-05\n",
            "  1.71939481e-05 1.71939481e-05 1.71939480e-05 1.71939480e-05]]\n"
          ]
        },
        {
          "output_type": "stream",
          "name": "stderr",
          "text": [
            "[Parallel(n_jobs=1)]: Done   1 tasks      | elapsed:    0.0s\n",
            "[Parallel(n_jobs=1)]: Done   1 tasks      | elapsed:    0.0s\n"
          ]
        }
      ]
    },
    {
      "cell_type": "markdown",
      "source": [
        "Task 7: Display the 10 Most Relevant Terms for Each Topic\n",
        "\n",
        "For each topic, sort the term probabilities and display the top 10 words. Then, based on these terms, you can assign labels to selected topics."
      ],
      "metadata": {
        "id": "bWqqRRqxPtL1"
      }
    },
    {
      "cell_type": "code",
      "source": [
        "# === [1] Get feature names (vocabulary) from the vectorizer ===\n",
        "feature_names = vectorizer.get_feature_names_out()\n",
        "\n",
        "# === [2] Print Top 10 Terms for Each Topic ===\n",
        "print(\"\\nTop 10 Most Relevant Terms for Each Topic:\")\n",
        "top_terms = {}\n",
        "\n",
        "for topic_idx, topic in enumerate(terms_matrix):\n",
        "    # Get indices of top 10 terms for this topic\n",
        "    top_indices = topic.argsort()[::-1][:10]\n",
        "    top_words = [feature_names[i] for i in top_indices]\n",
        "    top_terms[topic_idx] = top_words\n",
        "    print(f\"Topic {topic_idx}: {top_words}\")\n",
        "\n",
        "# === [3] Example Manual Labels (customize these based on real top_terms output) ===\n",
        "example_labels = {\n",
        "    0: \"STEM Education\",\n",
        "    4: \"AI & Machine Learning\",\n",
        "    11: \"Community Engagement\",\n",
        "    17: \"Climate & Environment\"\n",
        "}\n",
        "\n",
        "print(\"\\nExample Topic Labels for Selected Topics:\")\n",
        "for k, label in example_labels.items():\n",
        "    print(f\"Topic {k}: {label}\")"
      ],
      "metadata": {
        "colab": {
          "base_uri": "https://localhost:8080/"
        },
        "id": "k-K6t0kVPt5J",
        "outputId": "c7680b9d-195d-4bb6-d207-6c8ade273cff",
        "collapsed": true
      },
      "execution_count": null,
      "outputs": [
        {
          "output_type": "stream",
          "name": "stdout",
          "text": [
            "\n",
            "Top 10 Most Relevant Terms for Each Topic:\n",
            "Topic 0: ['moor', 'incid', 'uni', 'none', 'zone', 'healthcar', 'earlier', 'born', 'curv', 'feasibl']\n",
            "Topic 1: ['evolut', 'communiti', 'ecolog', 'use', 'speci', 'et', 'al', 'trait', 'work', 'lab']\n",
            "Topic 2: ['web', 'food', 'ecolog', 'ectotherm', 'tree', 'ecosystem', 'use', 'invad', 'carbon', 'al']\n",
            "Topic 3: ['moor', 'incid', 'uni', 'none', 'zone', 'healthcar', 'earlier', 'born', 'curv', 'feasibl']\n",
            "Topic 4: ['adapt', 'genom', 'local', 'data', 'popul', 'research', 'associ', 'use', 'sequenc', 'gene']\n",
            "Topic 5: ['research', 'softwar', 'communiti', 'applic', 'includ', 'impact', 'scienc', 'broader', 'work', 'support']\n",
            "Topic 6: ['model', 'student', 'data', 'use', 'comput', 'al', 'biolog', 'research', 'educ', 'et']\n",
            "Topic 7: ['georgia', 'manufactur', 'project', 'program', 'develop', 'communiti', 'region', 'ai', 'underserv', 'engag']\n",
            "Topic 8: ['project', 'communic', 'experi', 'behaviour', 'research', 'speci', 'use', 'signal', 'light', 'marin']\n",
            "Topic 9: ['visual', 'data', 'inform', 'graphic', 'research', 'imag', 'use', 'eye', 'object', 'subject']\n",
            "Topic 10: ['research', 'use', 'plastic', 'anim', 'propos', 'candid', 'output', 'function', 'model', 'neuron']\n",
            "Topic 11: ['research', 'project', 'knowledg', 'scienc', 'scientif', 'inform', 'health', 'work', 'public', 'polici']\n",
            "Topic 12: ['manufactur', 'ai', 'technolog', 'program', 'project', 'industri', 'innov', 'aimpf', 'ga', 'gaaim']\n",
            "Topic 13: ['ecolog', 'speci', 'host', 'select', 'data', 'al', 'et', 'communiti', 'microbiom', 'scale']\n",
            "Topic 14: ['monitor', 'detect', 'record', 'survey', 'speci', 'time', 'pi', 'unit', 'use', 'rate']\n",
            "Topic 15: ['support', 'data', 'develop', 'project', 'user', 'structur', 'new', 'array', 'use', 'document']\n",
            "Topic 16: ['research', 'applic', 'form', 'summari', 'propos', 'scheme', 'pleas', 'note', 'scienc', 'one']\n",
            "Topic 17: ['model', 'pp', 'simul', 'ocean', 'use', 'process', 'reduc', 'research', 'scale', 'project']\n",
            "Topic 18: ['director', 'region', 'develop', 'corpor', 'atlanta', 'section', 'board', 'member', 'georgia', 'medic']\n",
            "Topic 19: ['bell', 'ii', 'measur', 'project', 'research', 'experi', 'studi', 'decay', 'search', 'data']\n",
            "\n",
            "Example Topic Labels for Selected Topics:\n",
            "Topic 0: STEM Education\n",
            "Topic 4: AI & Machine Learning\n",
            "Topic 11: Community Engagement\n",
            "Topic 17: Climate & Environment\n"
          ]
        }
      ]
    },
    {
      "cell_type": "markdown",
      "source": [
        "Diving deeper into Topic Modeling"
      ],
      "metadata": {
        "id": "E8RQ__zyfRPC"
      }
    },
    {
      "cell_type": "code",
      "source": [
        "import numpy as np\n",
        "\n",
        "# === [1] Find the index of the dominant topic for each document ===\n",
        "dominant_topics = np.argmax(topics_matrix, axis=1)\n",
        "\n",
        "# === [2] Add it as a new column to your main dataset ===\n",
        "combined_corpus['dominant_topic'] = dominant_topics\n",
        "\n",
        "# === [3] Optional: Map numeric topic index to a human-readable label ===\n",
        "topic_labels = {\n",
        "    0: \"STEM Education\",\n",
        "    4: \"AI & Machine Learning\",\n",
        "    11: \"Community Engagement\",\n",
        "    17: \"Climate & Environment\"\n",
        "}\n",
        "\n",
        "# Fill in missing labels as \"Unlabeled Topic\"\n",
        "combined_corpus['topic_label'] = combined_corpus['dominant_topic'].map(topic_labels).fillna(\"Unlabeled Topic\")\n",
        "\n",
        "# === [4] Preview with topic columns ===\n",
        "combined_corpus[['filename', 'label', 'dominant_topic', 'topic_label']].head()"
      ],
      "metadata": {
        "colab": {
          "base_uri": "https://localhost:8080/",
          "height": 206
        },
        "id": "riOoZ-wWTLjo",
        "outputId": "27e0e00f-51b8-49e6-9961-b0a67e5cd59c"
      },
      "execution_count": null,
      "outputs": [
        {
          "output_type": "execute_result",
          "data": {
            "text/plain": [
              "                                  filename  label  dominant_topic  \\\n",
              "0                   MJohnson_full_GRFP.pdf      1               1   \n",
              "1                          ResP_MEvans.pdf      1              13   \n",
              "2              Proposal and evaluation.pdf      0               8   \n",
              "3  LisaCohen_NSF_GRFP_2015-10-26_final.pdf      0              13   \n",
              "4          y_Rick_NSF_Postdoc_Proposal.pdf      1               4   \n",
              "\n",
              "             topic_label  \n",
              "0        Unlabeled Topic  \n",
              "1        Unlabeled Topic  \n",
              "2        Unlabeled Topic  \n",
              "3        Unlabeled Topic  \n",
              "4  AI & Machine Learning  "
            ],
            "text/html": [
              "\n",
              "  <div id=\"df-f53e6481-7e3e-4cff-a21f-29a8b2a3464b\" class=\"colab-df-container\">\n",
              "    <div>\n",
              "<style scoped>\n",
              "    .dataframe tbody tr th:only-of-type {\n",
              "        vertical-align: middle;\n",
              "    }\n",
              "\n",
              "    .dataframe tbody tr th {\n",
              "        vertical-align: top;\n",
              "    }\n",
              "\n",
              "    .dataframe thead th {\n",
              "        text-align: right;\n",
              "    }\n",
              "</style>\n",
              "<table border=\"1\" class=\"dataframe\">\n",
              "  <thead>\n",
              "    <tr style=\"text-align: right;\">\n",
              "      <th></th>\n",
              "      <th>filename</th>\n",
              "      <th>label</th>\n",
              "      <th>dominant_topic</th>\n",
              "      <th>topic_label</th>\n",
              "    </tr>\n",
              "  </thead>\n",
              "  <tbody>\n",
              "    <tr>\n",
              "      <th>0</th>\n",
              "      <td>MJohnson_full_GRFP.pdf</td>\n",
              "      <td>1</td>\n",
              "      <td>1</td>\n",
              "      <td>Unlabeled Topic</td>\n",
              "    </tr>\n",
              "    <tr>\n",
              "      <th>1</th>\n",
              "      <td>ResP_MEvans.pdf</td>\n",
              "      <td>1</td>\n",
              "      <td>13</td>\n",
              "      <td>Unlabeled Topic</td>\n",
              "    </tr>\n",
              "    <tr>\n",
              "      <th>2</th>\n",
              "      <td>Proposal and evaluation.pdf</td>\n",
              "      <td>0</td>\n",
              "      <td>8</td>\n",
              "      <td>Unlabeled Topic</td>\n",
              "    </tr>\n",
              "    <tr>\n",
              "      <th>3</th>\n",
              "      <td>LisaCohen_NSF_GRFP_2015-10-26_final.pdf</td>\n",
              "      <td>0</td>\n",
              "      <td>13</td>\n",
              "      <td>Unlabeled Topic</td>\n",
              "    </tr>\n",
              "    <tr>\n",
              "      <th>4</th>\n",
              "      <td>y_Rick_NSF_Postdoc_Proposal.pdf</td>\n",
              "      <td>1</td>\n",
              "      <td>4</td>\n",
              "      <td>AI &amp; Machine Learning</td>\n",
              "    </tr>\n",
              "  </tbody>\n",
              "</table>\n",
              "</div>\n",
              "    <div class=\"colab-df-buttons\">\n",
              "\n",
              "  <div class=\"colab-df-container\">\n",
              "    <button class=\"colab-df-convert\" onclick=\"convertToInteractive('df-f53e6481-7e3e-4cff-a21f-29a8b2a3464b')\"\n",
              "            title=\"Convert this dataframe to an interactive table.\"\n",
              "            style=\"display:none;\">\n",
              "\n",
              "  <svg xmlns=\"http://www.w3.org/2000/svg\" height=\"24px\" viewBox=\"0 -960 960 960\">\n",
              "    <path d=\"M120-120v-720h720v720H120Zm60-500h600v-160H180v160Zm220 220h160v-160H400v160Zm0 220h160v-160H400v160ZM180-400h160v-160H180v160Zm440 0h160v-160H620v160ZM180-180h160v-160H180v160Zm440 0h160v-160H620v160Z\"/>\n",
              "  </svg>\n",
              "    </button>\n",
              "\n",
              "  <style>\n",
              "    .colab-df-container {\n",
              "      display:flex;\n",
              "      gap: 12px;\n",
              "    }\n",
              "\n",
              "    .colab-df-convert {\n",
              "      background-color: #E8F0FE;\n",
              "      border: none;\n",
              "      border-radius: 50%;\n",
              "      cursor: pointer;\n",
              "      display: none;\n",
              "      fill: #1967D2;\n",
              "      height: 32px;\n",
              "      padding: 0 0 0 0;\n",
              "      width: 32px;\n",
              "    }\n",
              "\n",
              "    .colab-df-convert:hover {\n",
              "      background-color: #E2EBFA;\n",
              "      box-shadow: 0px 1px 2px rgba(60, 64, 67, 0.3), 0px 1px 3px 1px rgba(60, 64, 67, 0.15);\n",
              "      fill: #174EA6;\n",
              "    }\n",
              "\n",
              "    .colab-df-buttons div {\n",
              "      margin-bottom: 4px;\n",
              "    }\n",
              "\n",
              "    [theme=dark] .colab-df-convert {\n",
              "      background-color: #3B4455;\n",
              "      fill: #D2E3FC;\n",
              "    }\n",
              "\n",
              "    [theme=dark] .colab-df-convert:hover {\n",
              "      background-color: #434B5C;\n",
              "      box-shadow: 0px 1px 3px 1px rgba(0, 0, 0, 0.15);\n",
              "      filter: drop-shadow(0px 1px 2px rgba(0, 0, 0, 0.3));\n",
              "      fill: #FFFFFF;\n",
              "    }\n",
              "  </style>\n",
              "\n",
              "    <script>\n",
              "      const buttonEl =\n",
              "        document.querySelector('#df-f53e6481-7e3e-4cff-a21f-29a8b2a3464b button.colab-df-convert');\n",
              "      buttonEl.style.display =\n",
              "        google.colab.kernel.accessAllowed ? 'block' : 'none';\n",
              "\n",
              "      async function convertToInteractive(key) {\n",
              "        const element = document.querySelector('#df-f53e6481-7e3e-4cff-a21f-29a8b2a3464b');\n",
              "        const dataTable =\n",
              "          await google.colab.kernel.invokeFunction('convertToInteractive',\n",
              "                                                    [key], {});\n",
              "        if (!dataTable) return;\n",
              "\n",
              "        const docLinkHtml = 'Like what you see? Visit the ' +\n",
              "          '<a target=\"_blank\" href=https://colab.research.google.com/notebooks/data_table.ipynb>data table notebook</a>'\n",
              "          + ' to learn more about interactive tables.';\n",
              "        element.innerHTML = '';\n",
              "        dataTable['output_type'] = 'display_data';\n",
              "        await google.colab.output.renderOutput(dataTable, element);\n",
              "        const docLink = document.createElement('div');\n",
              "        docLink.innerHTML = docLinkHtml;\n",
              "        element.appendChild(docLink);\n",
              "      }\n",
              "    </script>\n",
              "  </div>\n",
              "\n",
              "\n",
              "<div id=\"df-72c1954a-6b88-4ef7-b148-75c919ead90c\">\n",
              "  <button class=\"colab-df-quickchart\" onclick=\"quickchart('df-72c1954a-6b88-4ef7-b148-75c919ead90c')\"\n",
              "            title=\"Suggest charts\"\n",
              "            style=\"display:none;\">\n",
              "\n",
              "<svg xmlns=\"http://www.w3.org/2000/svg\" height=\"24px\"viewBox=\"0 0 24 24\"\n",
              "     width=\"24px\">\n",
              "    <g>\n",
              "        <path d=\"M19 3H5c-1.1 0-2 .9-2 2v14c0 1.1.9 2 2 2h14c1.1 0 2-.9 2-2V5c0-1.1-.9-2-2-2zM9 17H7v-7h2v7zm4 0h-2V7h2v10zm4 0h-2v-4h2v4z\"/>\n",
              "    </g>\n",
              "</svg>\n",
              "  </button>\n",
              "\n",
              "<style>\n",
              "  .colab-df-quickchart {\n",
              "      --bg-color: #E8F0FE;\n",
              "      --fill-color: #1967D2;\n",
              "      --hover-bg-color: #E2EBFA;\n",
              "      --hover-fill-color: #174EA6;\n",
              "      --disabled-fill-color: #AAA;\n",
              "      --disabled-bg-color: #DDD;\n",
              "  }\n",
              "\n",
              "  [theme=dark] .colab-df-quickchart {\n",
              "      --bg-color: #3B4455;\n",
              "      --fill-color: #D2E3FC;\n",
              "      --hover-bg-color: #434B5C;\n",
              "      --hover-fill-color: #FFFFFF;\n",
              "      --disabled-bg-color: #3B4455;\n",
              "      --disabled-fill-color: #666;\n",
              "  }\n",
              "\n",
              "  .colab-df-quickchart {\n",
              "    background-color: var(--bg-color);\n",
              "    border: none;\n",
              "    border-radius: 50%;\n",
              "    cursor: pointer;\n",
              "    display: none;\n",
              "    fill: var(--fill-color);\n",
              "    height: 32px;\n",
              "    padding: 0;\n",
              "    width: 32px;\n",
              "  }\n",
              "\n",
              "  .colab-df-quickchart:hover {\n",
              "    background-color: var(--hover-bg-color);\n",
              "    box-shadow: 0 1px 2px rgba(60, 64, 67, 0.3), 0 1px 3px 1px rgba(60, 64, 67, 0.15);\n",
              "    fill: var(--button-hover-fill-color);\n",
              "  }\n",
              "\n",
              "  .colab-df-quickchart-complete:disabled,\n",
              "  .colab-df-quickchart-complete:disabled:hover {\n",
              "    background-color: var(--disabled-bg-color);\n",
              "    fill: var(--disabled-fill-color);\n",
              "    box-shadow: none;\n",
              "  }\n",
              "\n",
              "  .colab-df-spinner {\n",
              "    border: 2px solid var(--fill-color);\n",
              "    border-color: transparent;\n",
              "    border-bottom-color: var(--fill-color);\n",
              "    animation:\n",
              "      spin 1s steps(1) infinite;\n",
              "  }\n",
              "\n",
              "  @keyframes spin {\n",
              "    0% {\n",
              "      border-color: transparent;\n",
              "      border-bottom-color: var(--fill-color);\n",
              "      border-left-color: var(--fill-color);\n",
              "    }\n",
              "    20% {\n",
              "      border-color: transparent;\n",
              "      border-left-color: var(--fill-color);\n",
              "      border-top-color: var(--fill-color);\n",
              "    }\n",
              "    30% {\n",
              "      border-color: transparent;\n",
              "      border-left-color: var(--fill-color);\n",
              "      border-top-color: var(--fill-color);\n",
              "      border-right-color: var(--fill-color);\n",
              "    }\n",
              "    40% {\n",
              "      border-color: transparent;\n",
              "      border-right-color: var(--fill-color);\n",
              "      border-top-color: var(--fill-color);\n",
              "    }\n",
              "    60% {\n",
              "      border-color: transparent;\n",
              "      border-right-color: var(--fill-color);\n",
              "    }\n",
              "    80% {\n",
              "      border-color: transparent;\n",
              "      border-right-color: var(--fill-color);\n",
              "      border-bottom-color: var(--fill-color);\n",
              "    }\n",
              "    90% {\n",
              "      border-color: transparent;\n",
              "      border-bottom-color: var(--fill-color);\n",
              "    }\n",
              "  }\n",
              "</style>\n",
              "\n",
              "  <script>\n",
              "    async function quickchart(key) {\n",
              "      const quickchartButtonEl =\n",
              "        document.querySelector('#' + key + ' button');\n",
              "      quickchartButtonEl.disabled = true;  // To prevent multiple clicks.\n",
              "      quickchartButtonEl.classList.add('colab-df-spinner');\n",
              "      try {\n",
              "        const charts = await google.colab.kernel.invokeFunction(\n",
              "            'suggestCharts', [key], {});\n",
              "      } catch (error) {\n",
              "        console.error('Error during call to suggestCharts:', error);\n",
              "      }\n",
              "      quickchartButtonEl.classList.remove('colab-df-spinner');\n",
              "      quickchartButtonEl.classList.add('colab-df-quickchart-complete');\n",
              "    }\n",
              "    (() => {\n",
              "      let quickchartButtonEl =\n",
              "        document.querySelector('#df-72c1954a-6b88-4ef7-b148-75c919ead90c button');\n",
              "      quickchartButtonEl.style.display =\n",
              "        google.colab.kernel.accessAllowed ? 'block' : 'none';\n",
              "    })();\n",
              "  </script>\n",
              "</div>\n",
              "\n",
              "    </div>\n",
              "  </div>\n"
            ],
            "application/vnd.google.colaboratory.intrinsic+json": {
              "type": "dataframe",
              "summary": "{\n  \"name\": \"combined_corpus[['filename', 'label', 'dominant_topic', 'topic_label']]\",\n  \"rows\": 5,\n  \"fields\": [\n    {\n      \"column\": \"filename\",\n      \"properties\": {\n        \"dtype\": \"string\",\n        \"num_unique_values\": 5,\n        \"samples\": [\n          \"ResP_MEvans.pdf\",\n          \"y_Rick_NSF_Postdoc_Proposal.pdf\",\n          \"Proposal and evaluation.pdf\"\n        ],\n        \"semantic_type\": \"\",\n        \"description\": \"\"\n      }\n    },\n    {\n      \"column\": \"label\",\n      \"properties\": {\n        \"dtype\": \"number\",\n        \"std\": 0,\n        \"min\": 0,\n        \"max\": 1,\n        \"num_unique_values\": 2,\n        \"samples\": [\n          0,\n          1\n        ],\n        \"semantic_type\": \"\",\n        \"description\": \"\"\n      }\n    },\n    {\n      \"column\": \"dominant_topic\",\n      \"properties\": {\n        \"dtype\": \"number\",\n        \"std\": 5,\n        \"min\": 1,\n        \"max\": 13,\n        \"num_unique_values\": 4,\n        \"samples\": [\n          13,\n          4\n        ],\n        \"semantic_type\": \"\",\n        \"description\": \"\"\n      }\n    },\n    {\n      \"column\": \"topic_label\",\n      \"properties\": {\n        \"dtype\": \"category\",\n        \"num_unique_values\": 2,\n        \"samples\": [\n          \"AI & Machine Learning\",\n          \"Unlabeled Topic\"\n        ],\n        \"semantic_type\": \"\",\n        \"description\": \"\"\n      }\n    }\n  ]\n}"
            }
          },
          "metadata": {},
          "execution_count": 31
        }
      ]
    },
    {
      "cell_type": "code",
      "source": [
        "# Saving Trained Objectives to use in Gradio App\n",
        "import joblib\n",
        "\n",
        "# Before saving, initialize and fit the TfidfVectorizer\n",
        "from sklearn.feature_extraction.text import TfidfVectorizer\n",
        "from sklearn.feature_selection import SelectKBest, chi2\n",
        "from scipy.sparse import hstack\n",
        "from sklearn.ensemble import RandomForestClassifier # import RandomForestClassifier\n",
        "\n",
        "# Fit the vectorizer to your data (replace 'your_text_data' with the actual data)\n",
        "tfidf_vectorizer = TfidfVectorizer(min_df=3)  # Adjust parameters as needed\n",
        "tfidf_vectorizer.fit(combined_corpus['processed_text'])\n",
        "\n",
        "# Combine TF-IDF + LDA Topic Features before feature selection\n",
        "X_combined = hstack([tfidf_vectorizer.transform(combined_corpus['processed_text']), topics_matrix])\n",
        "y = combined_corpus['label']\n",
        "\n",
        "# Now, initialize and fit the feature selector\n",
        "selector = SelectKBest(chi2, k=1000)  # Or another suitable selector\n",
        "selector.fit(X_combined, y) # Fit to your combined data\n",
        "\n",
        "# Now you can save the fitted vectorizer\n",
        "joblib.dump(tfidf_vectorizer, \"tfidf_vectorizer.pkl\")\n",
        "joblib.dump(lda_model, \"lda_model.pkl\")\n",
        "\n",
        "# Save Trained Objects (Once)\n",
        "joblib.dump(tfidf_vectorizer, \"tfidf_vectorizer.pkl\")\n",
        "joblib.dump(lda_model, \"lda_model.pkl\")\n",
        "joblib.dump(selector, \"feature_selector.pkl\")\n",
        "\n",
        "# Assuming 'combined_corpus' and 'processed_text' column are available\n",
        "# and you want to check the shape of tfidf_vec for the first document\n",
        "example_text = combined_corpus['processed_text'].iloc[0]\n",
        "tfidf_vec = tfidf_vectorizer.transform([example_text]) # Create tfidf_vec here\n",
        "lda_topic_vec = lda_model.transform(tfidf_vec) # Assuming you want to check shape for the first document's tfidf_vec\n",
        "\n",
        "print(tfidf_vec.shape)         # should be (1, 2896)\n",
        "print(lda_topic_vec.shape)     # should be (1, n_topics)"
      ],
      "metadata": {
        "colab": {
          "base_uri": "https://localhost:8080/"
        },
        "id": "i2-4Wd0eFykQ",
        "outputId": "97e38d11-cfa1-4e46-d686-7c3187c97b3e"
      },
      "execution_count": null,
      "outputs": [
        {
          "output_type": "stream",
          "name": "stdout",
          "text": [
            "(1, 2896)\n",
            "(1, 20)\n"
          ]
        },
        {
          "output_type": "stream",
          "name": "stderr",
          "text": [
            "[Parallel(n_jobs=1)]: Done   1 tasks      | elapsed:    0.0s\n",
            "[Parallel(n_jobs=1)]: Done   1 tasks      | elapsed:    0.0s\n"
          ]
        }
      ]
    },
    {
      "cell_type": "code",
      "source": [
        "# Step-by-Step Code to Plot Topic Distribution\n",
        "import matplotlib.pyplot as plt\n",
        "import seaborn as sns\n",
        "\n",
        "# === [1] Set Style ===\n",
        "sns.set(style=\"whitegrid\")\n",
        "\n",
        "# === [2] Create a Crosstab of Labels vs. Dominant Topics ===\n",
        "topic_dist = pd.crosstab(combined_corpus['dominant_topic'], combined_corpus['label'])\n",
        "\n",
        "# Optional: Rename columns for clarity (0 = Rejected, 1 = Approved)\n",
        "topic_dist.columns = ['Rejected', 'Approved']\n",
        "\n",
        "# === [3] Normalize to Get % Distribution (Optional) ===\n",
        "topic_dist_percent = topic_dist.div(topic_dist.sum(axis=1), axis=0)\n",
        "\n",
        "# === [4] Plot Stacked Bar Chart ===\n",
        "topic_dist_percent.plot(kind='bar', stacked=True, figsize=(12, 6), colormap=\"Set2\")\n",
        "\n",
        "# === [5] Plot Aesthetics ===\n",
        "plt.title(\"Topic Distribution: Approved vs. Rejected Proposals\", fontsize=16)\n",
        "plt.xlabel(\"Dominant Topic #\", fontsize=12)\n",
        "plt.ylabel(\"Proportion of Proposals\", fontsize=12)\n",
        "plt.legend(title=\"Proposal Status\")\n",
        "plt.xticks(rotation=0)\n",
        "plt.tight_layout()\n",
        "plt.show()"
      ],
      "metadata": {
        "colab": {
          "base_uri": "https://localhost:8080/",
          "height": 601
        },
        "id": "NDXSM0TsTifs",
        "outputId": "b522e39a-8b96-482a-d2e7-591cb751f3a8"
      },
      "execution_count": null,
      "outputs": [
        {
          "output_type": "display_data",
          "data": {
            "text/plain": [
              "<Figure size 1200x600 with 1 Axes>"
            ],
            "image/png": "[encoded data removed]"
          },
          "metadata": {}
        }
      ]
    },
    {
      "cell_type": "markdown",
      "source": [
        "## Summary\n",
        "\n",
        "---\n",
        "\n",
        "\n",
        "\n",
        "---\n",
        "\n",
        "\n",
        "\n",
        "This Python solution walks you through:\n",
        "\n",
        "    a. Loading and preparing necessary libraries.\n",
        "\n",
        "    b. Importing the \"News.csv\" file and saving the original text.\n",
        "\n",
        "    c. Preprocessing the text (removing white spaces, punctuation, numbers, stopwords, and applying stemming).\n",
        "  \n",
        "    d. Creating a Document-Term Matrix with a minimum term frequency of 3.\n",
        "\n",
        "    f. Running LDA to extract 20 topics (with 1000 iterations and a fixed seed).\n",
        "\n",
        "    g. Extracting and displaying the posterior distributions for topics and terms.\n",
        "\n",
        "    h. Listing the 10 most relevant terms for each topic and assigning labels to a few topics.\n",
        "\n",
        "    i. Examining a specific article by displaying its text, plotting its topic distribution, and generating a word cloud for the most relevant topic."
      ],
      "metadata": {
        "id": "wPwJGGlSP4yo"
      }
    },
    {
      "cell_type": "markdown",
      "source": [
        "Now I'm going train a Logistic Regression Classifier to predict proposal success"
      ],
      "metadata": {
        "id": "4tRlAMdUVdB1"
      }
    },
    {
      "cell_type": "code",
      "source": [
        "from sklearn.model_selection import train_test_split\n",
        "from sklearn.linear_model import LogisticRegression\n",
        "from sklearn.metrics import classification_report, confusion_matrix, accuracy_score\n",
        "\n",
        "# === [1] Define X and y ===\n",
        "X = dtm\n",
        "y = combined_corpus['label']\n",
        "\n",
        "# === [2] Train/Test Split ===\n",
        "X_train, X_test, y_train, y_test = train_test_split(X, y, test_size=0.2, random_state=42)\n",
        "\n",
        "# === [3] Train Logistic Regression Model ===\n",
        "clf = LogisticRegression(max_iter=1000)\n",
        "clf.fit(X_train, y_train)\n",
        "\n",
        "# === [4] Predict on Test Set ===\n",
        "y_pred = clf.predict(X_test)\n",
        "\n",
        "# === [5] Evaluate Model ===\n",
        "print(\"=== Classification Report ===\")\n",
        "print(classification_report(y_test, y_pred, target_names=[\"Rejected\", \"Approved\"]))\n",
        "\n",
        "print(\"=== Confusion Matrix ===\")\n",
        "print(confusion_matrix(y_test, y_pred))\n",
        "\n",
        "print(\"=== Accuracy Score ===\")\n",
        "print(f\"{accuracy_score(y_test, y_pred):.2%}\")"
      ],
      "metadata": {
        "colab": {
          "base_uri": "https://localhost:8080/"
        },
        "id": "aW_nzhyAVqQT",
        "outputId": "f0573a4e-d99c-4cef-b9fb-7de19e788ff3"
      },
      "execution_count": null,
      "outputs": [
        {
          "output_type": "stream",
          "name": "stdout",
          "text": [
            "=== Classification Report ===\n",
            "              precision    recall  f1-score   support\n",
            "\n",
            "    Rejected       1.00      0.25      0.40         4\n",
            "    Approved       0.57      1.00      0.73         4\n",
            "\n",
            "    accuracy                           0.62         8\n",
            "   macro avg       0.79      0.62      0.56         8\n",
            "weighted avg       0.79      0.62      0.56         8\n",
            "\n",
            "=== Confusion Matrix ===\n",
            "[[1 3]\n",
            " [0 4]]\n",
            "=== Accuracy Score ===\n",
            "62.50%\n"
          ]
        }
      ]
    },
    {
      "cell_type": "code",
      "source": [
        "# 1. Use a Larger Dataset (or Test Set)\n",
        "X_train, X_test, y_train, y_test = train_test_split(X, y, test_size=0.2, random_state=42)\n",
        "\n",
        "print(f\"Training set size: {X_train.shape[0]} samples\")\n",
        "print(f\"Testing set size: {X_test.shape[0]} samples\")"
      ],
      "metadata": {
        "id": "eBwQQVoXWQos",
        "colab": {
          "base_uri": "https://localhost:8080/"
        },
        "outputId": "1a35230b-6ef6-4666-d6a3-902431adeff8"
      },
      "execution_count": null,
      "outputs": [
        {
          "output_type": "stream",
          "name": "stdout",
          "text": [
            "Training set size: 30 samples\n",
            "Testing set size: 8 samples\n"
          ]
        }
      ]
    },
    {
      "cell_type": "code",
      "source": [
        "# 2.TF-IDF often improves performance by down-weighting common terms.\n",
        "\n",
        "from sklearn.feature_extraction.text import TfidfVectorizer\n",
        "\n",
        "tfidf_vectorizer = TfidfVectorizer(min_df=3)\n",
        "X_tfidf = tfidf_vectorizer.fit_transform(combined_corpus['processed_text'])\n",
        "\n",
        "X_train, X_test, y_train, y_test = train_test_split(X_tfidf, y, test_size=0.2, random_state=42)\n",
        "clf = LogisticRegression(max_iter=1000)\n",
        "clf.fit(X_train, y_train)\n",
        "y_pred = clf.predict(X_test)"
      ],
      "metadata": {
        "id": "SAuL5F_jWQmS"
      },
      "execution_count": null,
      "outputs": []
    },
    {
      "cell_type": "markdown",
      "source": [
        "Evaluate my Model"
      ],
      "metadata": {
        "id": "lqtSPhwnGzg8"
      }
    },
    {
      "cell_type": "code",
      "source": [
        "# 3.Combine semantic info (topics) with word-based features.\n",
        "# Combine TF-IDF with topic distributions\n",
        "from scipy.sparse import hstack\n",
        "\n",
        "X_combined = hstack([X_tfidf, topics_matrix])  # Must align with original order!\n",
        "X_train, X_test, y_train, y_test = train_test_split(X_combined, y, test_size=0.2, random_state=42)\n",
        "clf = LogisticRegression(max_iter=1000)\n",
        "clf.fit(X_train, y_train)\n",
        "y_pred = clf.predict(X_test)\n",
        "\n",
        "import seaborn as sns\n",
        "import matplotlib.pyplot as plt\n",
        "\n",
        "cm = confusion_matrix(y_test, y_pred)\n",
        "sns.heatmap(cm, annot=True, fmt=\"d\", cmap=\"Blues\", xticklabels=[\"Rejected\", \"Approved\"], yticklabels=[\"Rejected\", \"Approved\"])\n",
        "plt.xlabel(\"Predicted\")\n",
        "plt.ylabel(\"Actual\")\n",
        "plt.title(\"Confusion Matrix\")\n",
        "plt.show()"
      ],
      "metadata": {
        "id": "rEDzFZ5JWQkB",
        "colab": {
          "base_uri": "https://localhost:8080/",
          "height": 480
        },
        "outputId": "df5ae855-93be-4af2-b105-f1ed6deec2d6"
      },
      "execution_count": null,
      "outputs": [
        {
          "output_type": "display_data",
          "data": {
            "text/plain": [
              "<Figure size 640x480 with 2 Axes>"
            ],
            "image/png": "[encoded data removed]"
          },
          "metadata": {}
        }
      ]
    },
    {
      "cell_type": "markdown",
      "source": [
        "Since my Logistic Regression model as an accracey of 62%, I want to try a more robust model, which is why I want to to try Random Forest."
      ],
      "metadata": {
        "id": "40LCsFyRHUZ0"
      }
    },
    {
      "cell_type": "code",
      "source": [
        "# More Robust Model\n",
        "from sklearn.ensemble import RandomForestClassifier\n",
        "clf = RandomForestClassifier(n_estimators=100, random_state=42)\n",
        "clf.fit(X_train, y_train)"
      ],
      "metadata": {
        "colab": {
          "base_uri": "https://localhost:8080/",
          "height": 80
        },
        "id": "DcQ3YGXpWQh7",
        "outputId": "a9215273-aa0b-461e-9683-0326343078a7"
      },
      "execution_count": null,
      "outputs": [
        {
          "output_type": "execute_result",
          "data": {
            "text/plain": [
              "RandomForestClassifier(random_state=42)"
            ],
            "text/html": [
              "<style>#sk-container-id-3 {\n",
              "  /* Definition of color scheme common for light and dark mode */\n",
              "  --sklearn-color-text: #000;\n",
              "  --sklearn-color-text-muted: #666;\n",
              "  --sklearn-color-line: gray;\n",
              "  /* Definition of color scheme for unfitted estimators */\n",
              "  --sklearn-color-unfitted-level-0: #fff5e6;\n",
              "  --sklearn-color-unfitted-level-1: #f6e4d2;\n",
              "  --sklearn-color-unfitted-level-2: #ffe0b3;\n",
              "  --sklearn-color-unfitted-level-3: chocolate;\n",
              "  /* Definition of color scheme for fitted estimators */\n",
              "  --sklearn-color-fitted-level-0: #f0f8ff;\n",
              "  --sklearn-color-fitted-level-1: #d4ebff;\n",
              "  --sklearn-color-fitted-level-2: #b3dbfd;\n",
              "  --sklearn-color-fitted-level-3: cornflowerblue;\n",
              "\n",
              "  /* Specific color for light theme */\n",
              "  --sklearn-color-text-on-default-background: var(--sg-text-color, var(--theme-code-foreground, var(--jp-content-font-color1, black)));\n",
              "  --sklearn-color-background: var(--sg-background-color, var(--theme-background, var(--jp-layout-color0, white)));\n",
              "  --sklearn-color-border-box: var(--sg-text-color, var(--theme-code-foreground, var(--jp-content-font-color1, black)));\n",
              "  --sklearn-color-icon: #696969;\n",
              "\n",
              "  @media (prefers-color-scheme: dark) {\n",
              "    /* Redefinition of color scheme for dark theme */\n",
              "    --sklearn-color-text-on-default-background: var(--sg-text-color, var(--theme-code-foreground, var(--jp-content-font-color1, white)));\n",
              "    --sklearn-color-background: var(--sg-background-color, var(--theme-background, var(--jp-layout-color0, #111)));\n",
              "    --sklearn-color-border-box: var(--sg-text-color, var(--theme-code-foreground, var(--jp-content-font-color1, white)));\n",
              "    --sklearn-color-icon: #878787;\n",
              "  }\n",
              "}\n",
              "\n",
              "#sk-container-id-3 {\n",
              "  color: var(--sklearn-color-text);\n",
              "}\n",
              "\n",
              "#sk-container-id-3 pre {\n",
              "  padding: 0;\n",
              "}\n",
              "\n",
              "#sk-container-id-3 input.sk-hidden--visually {\n",
              "  border: 0;\n",
              "  clip: rect(1px 1px 1px 1px);\n",
              "  clip: rect(1px, 1px, 1px, 1px);\n",
              "  height: 1px;\n",
              "  margin: -1px;\n",
              "  overflow: hidden;\n",
              "  padding: 0;\n",
              "  position: absolute;\n",
              "  width: 1px;\n",
              "}\n",
              "\n",
              "#sk-container-id-3 div.sk-dashed-wrapped {\n",
              "  border: 1px dashed var(--sklearn-color-line);\n",
              "  margin: 0 0.4em 0.5em 0.4em;\n",
              "  box-sizing: border-box;\n",
              "  padding-bottom: 0.4em;\n",
              "  background-color: var(--sklearn-color-background);\n",
              "}\n",
              "\n",
              "#sk-container-id-3 div.sk-container {\n",
              "  /* jupyter's `normalize.less` sets `[hidden] { display: none; }`\n",
              "     but bootstrap.min.css set `[hidden] { display: none !important; }`\n",
              "     so we also need the `!important` here to be able to override the\n",
              "     default hidden behavior on the sphinx rendered scikit-learn.org.\n",
              "     See: https://github.com/scikit-learn/scikit-learn/issues/21755 */\n",
              "  display: inline-block !important;\n",
              "  position: relative;\n",
              "}\n",
              "\n",
              "#sk-container-id-3 div.sk-text-repr-fallback {\n",
              "  display: none;\n",
              "}\n",
              "\n",
              "div.sk-parallel-item,\n",
              "div.sk-serial,\n",
              "div.sk-item {\n",
              "  /* draw centered vertical line to link estimators */\n",
              "  background-image: linear-gradient(var(--sklearn-color-text-on-default-background), var(--sklearn-color-text-on-default-background));\n",
              "  background-size: 2px 100%;\n",
              "  background-repeat: no-repeat;\n",
              "  background-position: center center;\n",
              "}\n",
              "\n",
              "/* Parallel-specific style estimator block */\n",
              "\n",
              "#sk-container-id-3 div.sk-parallel-item::after {\n",
              "  content: \"\";\n",
              "  width: 100%;\n",
              "  border-bottom: 2px solid var(--sklearn-color-text-on-default-background);\n",
              "  flex-grow: 1;\n",
              "}\n",
              "\n",
              "#sk-container-id-3 div.sk-parallel {\n",
              "  display: flex;\n",
              "  align-items: stretch;\n",
              "  justify-content: center;\n",
              "  background-color: var(--sklearn-color-background);\n",
              "  position: relative;\n",
              "}\n",
              "\n",
              "#sk-container-id-3 div.sk-parallel-item {\n",
              "  display: flex;\n",
              "  flex-direction: column;\n",
              "}\n",
              "\n",
              "#sk-container-id-3 div.sk-parallel-item:first-child::after {\n",
              "  align-self: flex-end;\n",
              "  width: 50%;\n",
              "}\n",
              "\n",
              "#sk-container-id-3 div.sk-parallel-item:last-child::after {\n",
              "  align-self: flex-start;\n",
              "  width: 50%;\n",
              "}\n",
              "\n",
              "#sk-container-id-3 div.sk-parallel-item:only-child::after {\n",
              "  width: 0;\n",
              "}\n",
              "\n",
              "/* Serial-specific style estimator block */\n",
              "\n",
              "#sk-container-id-3 div.sk-serial {\n",
              "  display: flex;\n",
              "  flex-direction: column;\n",
              "  align-items: center;\n",
              "  background-color: var(--sklearn-color-background);\n",
              "  padding-right: 1em;\n",
              "  padding-left: 1em;\n",
              "}\n",
              "\n",
              "\n",
              "/* Toggleable style: style used for estimator/Pipeline/ColumnTransformer box that is\n",
              "clickable and can be expanded/collapsed.\n",
              "- Pipeline and ColumnTransformer use this feature and define the default style\n",
              "- Estimators will overwrite some part of the style using the `sk-estimator` class\n",
              "*/\n",
              "\n",
              "/* Pipeline and ColumnTransformer style (default) */\n",
              "\n",
              "#sk-container-id-3 div.sk-toggleable {\n",
              "  /* Default theme specific background. It is overwritten whether we have a\n",
              "  specific estimator or a Pipeline/ColumnTransformer */\n",
              "  background-color: var(--sklearn-color-background);\n",
              "}\n",
              "\n",
              "/* Toggleable label */\n",
              "#sk-container-id-3 label.sk-toggleable__label {\n",
              "  cursor: pointer;\n",
              "  display: flex;\n",
              "  width: 100%;\n",
              "  margin-bottom: 0;\n",
              "  padding: 0.5em;\n",
              "  box-sizing: border-box;\n",
              "  text-align: center;\n",
              "  align-items: start;\n",
              "  justify-content: space-between;\n",
              "  gap: 0.5em;\n",
              "}\n",
              "\n",
              "#sk-container-id-3 label.sk-toggleable__label .caption {\n",
              "  font-size: 0.6rem;\n",
              "  font-weight: lighter;\n",
              "  color: var(--sklearn-color-text-muted);\n",
              "}\n",
              "\n",
              "#sk-container-id-3 label.sk-toggleable__label-arrow:before {\n",
              "  /* Arrow on the left of the label */\n",
              "  content: \"▸\";\n",
              "  float: left;\n",
              "  margin-right: 0.25em;\n",
              "  color: var(--sklearn-color-icon);\n",
              "}\n",
              "\n",
              "#sk-container-id-3 label.sk-toggleable__label-arrow:hover:before {\n",
              "  color: var(--sklearn-color-text);\n",
              "}\n",
              "\n",
              "/* Toggleable content - dropdown */\n",
              "\n",
              "#sk-container-id-3 div.sk-toggleable__content {\n",
              "  max-height: 0;\n",
              "  max-width: 0;\n",
              "  overflow: hidden;\n",
              "  text-align: left;\n",
              "  /* unfitted */\n",
              "  background-color: var(--sklearn-color-unfitted-level-0);\n",
              "}\n",
              "\n",
              "#sk-container-id-3 div.sk-toggleable__content.fitted {\n",
              "  /* fitted */\n",
              "  background-color: var(--sklearn-color-fitted-level-0);\n",
              "}\n",
              "\n",
              "#sk-container-id-3 div.sk-toggleable__content pre {\n",
              "  margin: 0.2em;\n",
              "  border-radius: 0.25em;\n",
              "  color: var(--sklearn-color-text);\n",
              "  /* unfitted */\n",
              "  background-color: var(--sklearn-color-unfitted-level-0);\n",
              "}\n",
              "\n",
              "#sk-container-id-3 div.sk-toggleable__content.fitted pre {\n",
              "  /* unfitted */\n",
              "  background-color: var(--sklearn-color-fitted-level-0);\n",
              "}\n",
              "\n",
              "#sk-container-id-3 input.sk-toggleable__control:checked~div.sk-toggleable__content {\n",
              "  /* Expand drop-down */\n",
              "  max-height: 200px;\n",
              "  max-width: 100%;\n",
              "  overflow: auto;\n",
              "}\n",
              "\n",
              "#sk-container-id-3 input.sk-toggleable__control:checked~label.sk-toggleable__label-arrow:before {\n",
              "  content: \"▾\";\n",
              "}\n",
              "\n",
              "/* Pipeline/ColumnTransformer-specific style */\n",
              "\n",
              "#sk-container-id-3 div.sk-label input.sk-toggleable__control:checked~label.sk-toggleable__label {\n",
              "  color: var(--sklearn-color-text);\n",
              "  background-color: var(--sklearn-color-unfitted-level-2);\n",
              "}\n",
              "\n",
              "#sk-container-id-3 div.sk-label.fitted input.sk-toggleable__control:checked~label.sk-toggleable__label {\n",
              "  background-color: var(--sklearn-color-fitted-level-2);\n",
              "}\n",
              "\n",
              "/* Estimator-specific style */\n",
              "\n",
              "/* Colorize estimator box */\n",
              "#sk-container-id-3 div.sk-estimator input.sk-toggleable__control:checked~label.sk-toggleable__label {\n",
              "  /* unfitted */\n",
              "  background-color: var(--sklearn-color-unfitted-level-2);\n",
              "}\n",
              "\n",
              "#sk-container-id-3 div.sk-estimator.fitted input.sk-toggleable__control:checked~label.sk-toggleable__label {\n",
              "  /* fitted */\n",
              "  background-color: var(--sklearn-color-fitted-level-2);\n",
              "}\n",
              "\n",
              "#sk-container-id-3 div.sk-label label.sk-toggleable__label,\n",
              "#sk-container-id-3 div.sk-label label {\n",
              "  /* The background is the default theme color */\n",
              "  color: var(--sklearn-color-text-on-default-background);\n",
              "}\n",
              "\n",
              "/* On hover, darken the color of the background */\n",
              "#sk-container-id-3 div.sk-label:hover label.sk-toggleable__label {\n",
              "  color: var(--sklearn-color-text);\n",
              "  background-color: var(--sklearn-color-unfitted-level-2);\n",
              "}\n",
              "\n",
              "/* Label box, darken color on hover, fitted */\n",
              "#sk-container-id-3 div.sk-label.fitted:hover label.sk-toggleable__label.fitted {\n",
              "  color: var(--sklearn-color-text);\n",
              "  background-color: var(--sklearn-color-fitted-level-2);\n",
              "}\n",
              "\n",
              "/* Estimator label */\n",
              "\n",
              "#sk-container-id-3 div.sk-label label {\n",
              "  font-family: monospace;\n",
              "  font-weight: bold;\n",
              "  display: inline-block;\n",
              "  line-height: 1.2em;\n",
              "}\n",
              "\n",
              "#sk-container-id-3 div.sk-label-container {\n",
              "  text-align: center;\n",
              "}\n",
              "\n",
              "/* Estimator-specific */\n",
              "#sk-container-id-3 div.sk-estimator {\n",
              "  font-family: monospace;\n",
              "  border: 1px dotted var(--sklearn-color-border-box);\n",
              "  border-radius: 0.25em;\n",
              "  box-sizing: border-box;\n",
              "  margin-bottom: 0.5em;\n",
              "  /* unfitted */\n",
              "  background-color: var(--sklearn-color-unfitted-level-0);\n",
              "}\n",
              "\n",
              "#sk-container-id-3 div.sk-estimator.fitted {\n",
              "  /* fitted */\n",
              "  background-color: var(--sklearn-color-fitted-level-0);\n",
              "}\n",
              "\n",
              "/* on hover */\n",
              "#sk-container-id-3 div.sk-estimator:hover {\n",
              "  /* unfitted */\n",
              "  background-color: var(--sklearn-color-unfitted-level-2);\n",
              "}\n",
              "\n",
              "#sk-container-id-3 div.sk-estimator.fitted:hover {\n",
              "  /* fitted */\n",
              "  background-color: var(--sklearn-color-fitted-level-2);\n",
              "}\n",
              "\n",
              "/* Specification for estimator info (e.g. \"i\" and \"?\") */\n",
              "\n",
              "/* Common style for \"i\" and \"?\" */\n",
              "\n",
              ".sk-estimator-doc-link,\n",
              "a:link.sk-estimator-doc-link,\n",
              "a:visited.sk-estimator-doc-link {\n",
              "  float: right;\n",
              "  font-size: smaller;\n",
              "  line-height: 1em;\n",
              "  font-family: monospace;\n",
              "  background-color: var(--sklearn-color-background);\n",
              "  border-radius: 1em;\n",
              "  height: 1em;\n",
              "  width: 1em;\n",
              "  text-decoration: none !important;\n",
              "  margin-left: 0.5em;\n",
              "  text-align: center;\n",
              "  /* unfitted */\n",
              "  border: var(--sklearn-color-unfitted-level-1) 1pt solid;\n",
              "  color: var(--sklearn-color-unfitted-level-1);\n",
              "}\n",
              "\n",
              ".sk-estimator-doc-link.fitted,\n",
              "a:link.sk-estimator-doc-link.fitted,\n",
              "a:visited.sk-estimator-doc-link.fitted {\n",
              "  /* fitted */\n",
              "  border: var(--sklearn-color-fitted-level-1) 1pt solid;\n",
              "  color: var(--sklearn-color-fitted-level-1);\n",
              "}\n",
              "\n",
              "/* On hover */\n",
              "div.sk-estimator:hover .sk-estimator-doc-link:hover,\n",
              ".sk-estimator-doc-link:hover,\n",
              "div.sk-label-container:hover .sk-estimator-doc-link:hover,\n",
              ".sk-estimator-doc-link:hover {\n",
              "  /* unfitted */\n",
              "  background-color: var(--sklearn-color-unfitted-level-3);\n",
              "  color: var(--sklearn-color-background);\n",
              "  text-decoration: none;\n",
              "}\n",
              "\n",
              "div.sk-estimator.fitted:hover .sk-estimator-doc-link.fitted:hover,\n",
              ".sk-estimator-doc-link.fitted:hover,\n",
              "div.sk-label-container:hover .sk-estimator-doc-link.fitted:hover,\n",
              ".sk-estimator-doc-link.fitted:hover {\n",
              "  /* fitted */\n",
              "  background-color: var(--sklearn-color-fitted-level-3);\n",
              "  color: var(--sklearn-color-background);\n",
              "  text-decoration: none;\n",
              "}\n",
              "\n",
              "/* Span, style for the box shown on hovering the info icon */\n",
              ".sk-estimator-doc-link span {\n",
              "  display: none;\n",
              "  z-index: 9999;\n",
              "  position: relative;\n",
              "  font-weight: normal;\n",
              "  right: .2ex;\n",
              "  padding: .5ex;\n",
              "  margin: .5ex;\n",
              "  width: min-content;\n",
              "  min-width: 20ex;\n",
              "  max-width: 50ex;\n",
              "  color: var(--sklearn-color-text);\n",
              "  box-shadow: 2pt 2pt 4pt #999;\n",
              "  /* unfitted */\n",
              "  background: var(--sklearn-color-unfitted-level-0);\n",
              "  border: .5pt solid var(--sklearn-color-unfitted-level-3);\n",
              "}\n",
              "\n",
              ".sk-estimator-doc-link.fitted span {\n",
              "  /* fitted */\n",
              "  background: var(--sklearn-color-fitted-level-0);\n",
              "  border: var(--sklearn-color-fitted-level-3);\n",
              "}\n",
              "\n",
              ".sk-estimator-doc-link:hover span {\n",
              "  display: block;\n",
              "}\n",
              "\n",
              "/* \"?\"-specific style due to the `<a>` HTML tag */\n",
              "\n",
              "#sk-container-id-3 a.estimator_doc_link {\n",
              "  float: right;\n",
              "  font-size: 1rem;\n",
              "  line-height: 1em;\n",
              "  font-family: monospace;\n",
              "  background-color: var(--sklearn-color-background);\n",
              "  border-radius: 1rem;\n",
              "  height: 1rem;\n",
              "  width: 1rem;\n",
              "  text-decoration: none;\n",
              "  /* unfitted */\n",
              "  color: var(--sklearn-color-unfitted-level-1);\n",
              "  border: var(--sklearn-color-unfitted-level-1) 1pt solid;\n",
              "}\n",
              "\n",
              "#sk-container-id-3 a.estimator_doc_link.fitted {\n",
              "  /* fitted */\n",
              "  border: var(--sklearn-color-fitted-level-1) 1pt solid;\n",
              "  color: var(--sklearn-color-fitted-level-1);\n",
              "}\n",
              "\n",
              "/* On hover */\n",
              "#sk-container-id-3 a.estimator_doc_link:hover {\n",
              "  /* unfitted */\n",
              "  background-color: var(--sklearn-color-unfitted-level-3);\n",
              "  color: var(--sklearn-color-background);\n",
              "  text-decoration: none;\n",
              "}\n",
              "\n",
              "#sk-container-id-3 a.estimator_doc_link.fitted:hover {\n",
              "  /* fitted */\n",
              "  background-color: var(--sklearn-color-fitted-level-3);\n",
              "}\n",
              "</style><div id=\"sk-container-id-3\" class=\"sk-top-container\"><div class=\"sk-text-repr-fallback\"><pre>RandomForestClassifier(random_state=42)</pre><b>In a Jupyter environment, please rerun this cell to show the HTML representation or trust the notebook. <br />On GitHub, the HTML representation is unable to render, please try loading this page with nbviewer.org.</b></div><div class=\"sk-container\" hidden><div class=\"sk-item\"><div class=\"sk-estimator fitted sk-toggleable\"><input class=\"sk-toggleable__control sk-hidden--visually\" id=\"sk-estimator-id-3\" type=\"checkbox\" checked><label for=\"sk-estimator-id-3\" class=\"sk-toggleable__label fitted sk-toggleable__label-arrow\"><div><div>RandomForestClassifier</div></div><div><a class=\"sk-estimator-doc-link fitted\" rel=\"noreferrer\" target=\"_blank\" href=\"https://scikit-learn.org/1.6/modules/generated/sklearn.ensemble.RandomForestClassifier.html\">?<span>Documentation for RandomForestClassifier</span></a><span class=\"sk-estimator-doc-link fitted\">i<span>Fitted</span></span></div></label><div class=\"sk-toggleable__content fitted\"><pre>RandomForestClassifier(random_state=42)</pre></div> </div></div></div></div>"
            ]
          },
          "metadata": {},
          "execution_count": 53
        }
      ]
    },
    {
      "cell_type": "code",
      "source": [
        "# Cross-Validate for Stability\n",
        "from sklearn.model_selection import cross_val_score\n",
        "\n",
        "scores = cross_val_score(clf, X_combined, y, cv=5, scoring='accuracy')\n",
        "print(\"Cross-validated Accuracy: {:.2f}%\".format(100 * scores.mean()))\n"
      ],
      "metadata": {
        "colab": {
          "base_uri": "https://localhost:8080/"
        },
        "id": "8tD-SS8dXEJF",
        "outputId": "7bffb66b-06f7-486c-ed52-53bd382d1648"
      },
      "execution_count": null,
      "outputs": [
        {
          "output_type": "stream",
          "name": "stdout",
          "text": [
            "Cross-validated Accuracy: 57.86%\n"
          ]
        }
      ]
    },
    {
      "cell_type": "markdown",
      "source": [
        " 1. Use TF-IDF with N-grams"
      ],
      "metadata": {
        "id": "pchITPkBXW1Q"
      }
    },
    {
      "cell_type": "code",
      "source": [
        "# Use Feature Selection\n",
        "\n",
        "# Keep only the most informative features (e.g., top 1,000 TF-IDF terms):\n",
        "\n",
        "from sklearn.feature_selection import SelectKBest, chi2\n",
        "X_selected = SelectKBest(chi2, k=1000).fit_transform(X_combined, y)"
      ],
      "metadata": {
        "id": "OxrMTWGcWQe6"
      },
      "execution_count": null,
      "outputs": []
    },
    {
      "cell_type": "code",
      "source": [
        "# Hyperparameter Tuning (GridSearch)\n",
        "\n",
        "# Fine-tune models using GridSearchCV:\n",
        "\n",
        "from sklearn.model_selection import GridSearchCV\n",
        "\n",
        "param_grid = {'C': [0.01, 0.1, 1, 10, 100]}\n",
        "grid = GridSearchCV(LogisticRegression(max_iter=1000), param_grid, cv=5)\n",
        "grid.fit(X_combined, y)\n",
        "print(\"Best Accuracy: {:.2f}%\".format(100 * grid.best_score_))"
      ],
      "metadata": {
        "colab": {
          "base_uri": "https://localhost:8080/"
        },
        "id": "VToydA_RXVjE",
        "outputId": "567c941b-5d56-4543-b58b-1bdcea4ba355"
      },
      "execution_count": null,
      "outputs": [
        {
          "output_type": "stream",
          "name": "stdout",
          "text": [
            "Best Accuracy: 55.71%\n"
          ]
        }
      ]
    },
    {
      "cell_type": "markdown",
      "source": [],
      "metadata": {
        "id": "yaNRkngtYnFT"
      }
    },
    {
      "cell_type": "code",
      "source": [
        "# === [1] Vectorize with TF-IDF (unigrams + bigrams) ===\n",
        "from sklearn.feature_extraction.text import TfidfVectorizer\n",
        "\n",
        "tfidf_vectorizer = TfidfVectorizer(\n",
        "    min_df=2,\n",
        "    max_df=0.95,\n",
        "    ngram_range=(1, 2),\n",
        "    stop_words='english'\n",
        ")\n",
        "X_tfidf = tfidf_vectorizer.fit_transform(combined_corpus['processed_text'])\n",
        "\n",
        "# === [2] Combine TF-IDF + LDA Topic Features ===\n",
        "from scipy.sparse import hstack\n",
        "\n",
        "X_combined = hstack([X_tfidf, topics_matrix])\n",
        "y = combined_corpus['label']\n",
        "\n",
        "# === [3] Feature Selection ===\n",
        "from sklearn.feature_selection import SelectKBest, chi2\n",
        "\n",
        "selector = SelectKBest(chi2, k=1000)\n",
        "X_selected = selector.fit_transform(X_combined, y)\n",
        "\n",
        "# === [4] Train Random Forest with Cross-Validation ===\n",
        "from sklearn.ensemble import RandomForestClassifier\n",
        "from sklearn.model_selection import cross_val_score\n",
        "\n",
        "clf = RandomForestClassifier(n_estimators=200, random_state=42)\n",
        "scores = cross_val_score(clf, X_selected, y, cv=5, scoring='accuracy')\n",
        "\n",
        "print(\"\\n✅ Cross-validated Accuracy: {:.2f}%\".format(100 * scores.mean()))\n"
      ],
      "metadata": {
        "colab": {
          "base_uri": "https://localhost:8080/"
        },
        "id": "m4RYdDjcYnfj",
        "outputId": "b3f51e85-85e1-4ca8-8ab0-15c31bac589c"
      },
      "execution_count": null,
      "outputs": [
        {
          "output_type": "stream",
          "name": "stdout",
          "text": [
            "\n",
            "✅ Cross-validated Accuracy: 82.50%\n"
          ]
        }
      ]
    },
    {
      "cell_type": "markdown",
      "source": [
        "-----------------------------------------------------------\n",
        "-----------------------------------------------------------"
      ],
      "metadata": {
        "id": "GZd3OybfIiZd"
      }
    },
    {
      "cell_type": "markdown",
      "source": [
        "My cross-validation jumped upto 82.50 pipeline using TF-IDF + LDA topics + feature selection + Random Forest — was able to correctly classify approved vs. rejected proposals 82.5% of the time on average across 5 cross-validation folds.\n",
        "\n",
        "\n",
        "My cross-validation went from 57% → 82.5% accuracy, which indicates:\n",
        "\n",
        "1. By combined feature set (text + topics) is much more predictive.\n",
        "\n",
        "2. Random Forest is capturing nonlinear patterns better than logistic regression.\n",
        "\n",
        "3. Feature selection (Chi²) helped reduce noise and focus on what matters."
      ],
      "metadata": {
        "id": "6UuVCu9diR24"
      }
    },
    {
      "cell_type": "markdown",
      "source": [
        "Interpretation:\n",
        "My model has learned meaningful textual signals that distinguish funded from unfunded proposals — potentially:\n",
        "\n",
        "Topic emphasis (e.g., \"commercialization\", \"impact\", \"prototype\")\n",
        "\n",
        "Grant structure and clarity\n",
        "\n",
        "Specific bigrams (like “technology transfer” or “principal investigator”)"
      ],
      "metadata": {
        "id": "l3hk6k9MiYS-"
      }
    },
    {
      "cell_type": "markdown",
      "source": [
        "----------------------------------------------------------------------------------------------------------------------"
      ],
      "metadata": {
        "id": "ZGjTJ2gWIlyV"
      }
    },
    {
      "cell_type": "code",
      "source": [
        "from sklearn.model_selection import train_test_split\n",
        "from sklearn.metrics import classification_report, accuracy_score, confusion_matrix\n",
        "\n",
        "# === [1] Train/Test Split (e.g. 80% train, 20% test) ===\n",
        "X_train, X_test, y_train, y_test = train_test_split(\n",
        "    X_selected, y, test_size=0.2, random_state=42, stratify=y)\n",
        "\n",
        "# === [2] Train the Final Model ===\n",
        "clf = RandomForestClassifier(n_estimators=200, random_state=42)\n",
        "clf.fit(X_train, y_train)\n",
        "\n",
        "# === [3] Predict on the Test Set ===\n",
        "y_pred = clf.predict(X_test)\n",
        "\n",
        "# === [4] Evaluate Performance ===\n",
        "print(\"\\n=== Test Set Evaluation ===\")\n",
        "print(\"Accuracy: {:.2f}%\".format(100 * accuracy_score(y_test, y_pred)))\n",
        "print(\"\\nConfusion Matrix:\\n\", confusion_matrix(y_test, y_pred))\n",
        "print(\"\\nClassification Report:\\n\", classification_report(y_test, y_pred, target_names=[\"Rejected\", \"Approved\"]))"
      ],
      "metadata": {
        "colab": {
          "base_uri": "https://localhost:8080/"
        },
        "id": "hFtY0Fp9a0Vl",
        "outputId": "5f52df00-0831-4290-d240-d624d5d59a4e"
      },
      "execution_count": null,
      "outputs": [
        {
          "output_type": "stream",
          "name": "stdout",
          "text": [
            "\n",
            "=== Test Set Evaluation ===\n",
            "Accuracy: 62.50%\n",
            "\n",
            "Confusion Matrix:\n",
            " [[1 3]\n",
            " [0 4]]\n",
            "\n",
            "Classification Report:\n",
            "               precision    recall  f1-score   support\n",
            "\n",
            "    Rejected       1.00      0.25      0.40         4\n",
            "    Approved       0.57      1.00      0.73         4\n",
            "\n",
            "    accuracy                           0.62         8\n",
            "   macro avg       0.79      0.62      0.56         8\n",
            "weighted avg       0.79      0.62      0.56         8\n",
            "\n"
          ]
        }
      ]
    },
    {
      "cell_type": "markdown",
      "source": [
        "Add Class Balancing to Your Model"
      ],
      "metadata": {
        "id": "G_7XzMCnbe83"
      }
    },
    {
      "cell_type": "code",
      "source": [
        "clf = RandomForestClassifier(n_estimators=200, class_weight='balanced', random_state=42)"
      ],
      "metadata": {
        "id": "Gv626C7fbdYL"
      },
      "execution_count": null,
      "outputs": []
    },
    {
      "cell_type": "markdown",
      "source": [
        "Integration Plan"
      ],
      "metadata": {
        "id": "RIZT_ewscME6"
      }
    },
    {
      "cell_type": "markdown",
      "source": [],
      "metadata": {
        "id": "4UNF6gbXecea"
      }
    },
    {
      "cell_type": "markdown",
      "source": [
        "Now I'm building my AI pipline to create my predictive model using the data created from my Text mining and LDA Modeling"
      ],
      "metadata": {
        "id": "OlZ5Z-uLcMB2"
      }
    },
    {
      "cell_type": "code",
      "source": [
        "pip install gradio pymupdf nltk scikit-learn"
      ],
      "metadata": {
        "colab": {
          "base_uri": "https://localhost:8080/"
        },
        "collapsed": true,
        "id": "gluEPL9ZdUEU",
        "outputId": "542c83b9-d8d9-4d7f-a1e6-d37f30d50304"
      },
      "execution_count": null,
      "outputs": [
        {
          "output_type": "stream",
          "name": "stdout",
          "text": [
            "Collecting gradio\n",
            "  Downloading gradio-5.25.2-py3-none-any.whl.metadata (16 kB)\n",
            "Collecting pymupdf\n",
            "  Downloading pymupdf-1.25.5-cp39-abi3-manylinux2014_x86_64.manylinux_2_17_x86_64.whl.metadata (3.4 kB)\n",
            "Requirement already satisfied: nltk in /usr/local/lib/python3.11/dist-packages (3.9.1)\n",
            "Requirement already satisfied: scikit-learn in /usr/local/lib/python3.11/dist-packages (1.6.1)\n",
            "Collecting aiofiles<25.0,>=22.0 (from gradio)\n",
            "  Downloading aiofiles-24.1.0-py3-none-any.whl.metadata (10 kB)\n",
            "Requirement already satisfied: anyio<5.0,>=3.0 in /usr/local/lib/python3.11/dist-packages (from gradio) (4.9.0)\n",
            "Collecting fastapi<1.0,>=0.115.2 (from gradio)\n",
            "  Downloading fastapi-0.115.12-py3-none-any.whl.metadata (27 kB)\n",
            "Collecting ffmpy (from gradio)\n",
            "  Downloading ffmpy-0.5.0-py3-none-any.whl.metadata (3.0 kB)\n",
            "Collecting gradio-client==1.8.0 (from gradio)\n",
            "  Downloading gradio_client-1.8.0-py3-none-any.whl.metadata (7.1 kB)\n",
            "Collecting groovy~=0.1 (from gradio)\n",
            "  Downloading groovy-0.1.2-py3-none-any.whl.metadata (6.1 kB)\n",
            "Requirement already satisfied: httpx>=0.24.1 in /usr/local/lib/python3.11/dist-packages (from gradio) (0.28.1)\n",
            "Requirement already satisfied: huggingface-hub>=0.28.1 in /usr/local/lib/python3.11/dist-packages (from gradio) (0.30.2)\n",
            "Requirement already satisfied: jinja2<4.0 in /usr/local/lib/python3.11/dist-packages (from gradio) (3.1.6)\n",
            "Requirement already satisfied: markupsafe<4.0,>=2.0 in /usr/local/lib/python3.11/dist-packages (from gradio) (3.0.2)\n",
            "Requirement already satisfied: numpy<3.0,>=1.0 in /usr/local/lib/python3.11/dist-packages (from gradio) (2.0.2)\n",
            "Requirement already satisfied: orjson~=3.0 in /usr/local/lib/python3.11/dist-packages (from gradio) (3.10.16)\n",
            "Requirement already satisfied: packaging in /usr/local/lib/python3.11/dist-packages (from gradio) (24.2)\n",
            "Requirement already satisfied: pandas<3.0,>=1.0 in /usr/local/lib/python3.11/dist-packages (from gradio) (2.2.2)\n",
            "Requirement already satisfied: pillow<12.0,>=8.0 in /usr/local/lib/python3.11/dist-packages (from gradio) (11.1.0)\n",
            "Requirement already satisfied: pydantic<2.12,>=2.0 in /usr/local/lib/python3.11/dist-packages (from gradio) (2.11.3)\n",
            "Collecting pydub (from gradio)\n",
            "  Downloading pydub-0.25.1-py2.py3-none-any.whl.metadata (1.4 kB)\n",
            "Collecting python-multipart>=0.0.18 (from gradio)\n",
            "  Downloading python_multipart-0.0.20-py3-none-any.whl.metadata (1.8 kB)\n",
            "Requirement already satisfied: pyyaml<7.0,>=5.0 in /usr/local/lib/python3.11/dist-packages (from gradio) (6.0.2)\n",
            "Collecting ruff>=0.9.3 (from gradio)\n",
            "  Downloading ruff-0.11.6-py3-none-manylinux_2_17_x86_64.manylinux2014_x86_64.whl.metadata (25 kB)\n",
            "Collecting safehttpx<0.2.0,>=0.1.6 (from gradio)\n",
            "  Downloading safehttpx-0.1.6-py3-none-any.whl.metadata (4.2 kB)\n",
            "Collecting semantic-version~=2.0 (from gradio)\n",
            "  Downloading semantic_version-2.10.0-py2.py3-none-any.whl.metadata (9.7 kB)\n",
            "Collecting starlette<1.0,>=0.40.0 (from gradio)\n",
            "  Downloading starlette-0.46.2-py3-none-any.whl.metadata (6.2 kB)\n",
            "Collecting tomlkit<0.14.0,>=0.12.0 (from gradio)\n",
            "  Downloading tomlkit-0.13.2-py3-none-any.whl.metadata (2.7 kB)\n",
            "Requirement already satisfied: typer<1.0,>=0.12 in /usr/local/lib/python3.11/dist-packages (from gradio) (0.15.2)\n",
            "Requirement already satisfied: typing-extensions~=4.0 in /usr/local/lib/python3.11/dist-packages (from gradio) (4.13.1)\n",
            "Collecting uvicorn>=0.14.0 (from gradio)\n",
            "  Downloading uvicorn-0.34.1-py3-none-any.whl.metadata (6.5 kB)\n",
            "Requirement already satisfied: fsspec in /usr/local/lib/python3.11/dist-packages (from gradio-client==1.8.0->gradio) (2025.3.2)\n",
            "Requirement already satisfied: websockets<16.0,>=10.0 in /usr/local/lib/python3.11/dist-packages (from gradio-client==1.8.0->gradio) (15.0.1)\n",
            "Requirement already satisfied: click in /usr/local/lib/python3.11/dist-packages (from nltk) (8.1.8)\n",
            "Requirement already satisfied: joblib in /usr/local/lib/python3.11/dist-packages (from nltk) (1.4.2)\n",
            "Requirement already satisfied: regex>=2021.8.3 in /usr/local/lib/python3.11/dist-packages (from nltk) (2024.11.6)\n",
            "Requirement already satisfied: tqdm in /usr/local/lib/python3.11/dist-packages (from nltk) (4.67.1)\n",
            "Requirement already satisfied: scipy>=1.6.0 in /usr/local/lib/python3.11/dist-packages (from scikit-learn) (1.14.1)\n",
            "Requirement already satisfied: threadpoolctl>=3.1.0 in /usr/local/lib/python3.11/dist-packages (from scikit-learn) (3.6.0)\n",
            "Requirement already satisfied: idna>=2.8 in /usr/local/lib/python3.11/dist-packages (from anyio<5.0,>=3.0->gradio) (3.10)\n",
            "Requirement already satisfied: sniffio>=1.1 in /usr/local/lib/python3.11/dist-packages (from anyio<5.0,>=3.0->gradio) (1.3.1)\n",
            "Requirement already satisfied: certifi in /usr/local/lib/python3.11/dist-packages (from httpx>=0.24.1->gradio) (2025.1.31)\n",
            "Requirement already satisfied: httpcore==1.* in /usr/local/lib/python3.11/dist-packages (from httpx>=0.24.1->gradio) (1.0.7)\n",
            "Requirement already satisfied: h11<0.15,>=0.13 in /usr/local/lib/python3.11/dist-packages (from httpcore==1.*->httpx>=0.24.1->gradio) (0.14.0)\n",
            "Requirement already satisfied: filelock in /usr/local/lib/python3.11/dist-packages (from huggingface-hub>=0.28.1->gradio) (3.18.0)\n",
            "Requirement already satisfied: requests in /usr/local/lib/python3.11/dist-packages (from huggingface-hub>=0.28.1->gradio) (2.32.3)\n",
            "Requirement already satisfied: python-dateutil>=2.8.2 in /usr/local/lib/python3.11/dist-packages (from pandas<3.0,>=1.0->gradio) (2.8.2)\n",
            "Requirement already satisfied: pytz>=2020.1 in /usr/local/lib/python3.11/dist-packages (from pandas<3.0,>=1.0->gradio) (2025.2)\n",
            "Requirement already satisfied: tzdata>=2022.7 in /usr/local/lib/python3.11/dist-packages (from pandas<3.0,>=1.0->gradio) (2025.2)\n",
            "Requirement already satisfied: annotated-types>=0.6.0 in /usr/local/lib/python3.11/dist-packages (from pydantic<2.12,>=2.0->gradio) (0.7.0)\n",
            "Requirement already satisfied: pydantic-core==2.33.1 in /usr/local/lib/python3.11/dist-packages (from pydantic<2.12,>=2.0->gradio) (2.33.1)\n",
            "Requirement already satisfied: typing-inspection>=0.4.0 in /usr/local/lib/python3.11/dist-packages (from pydantic<2.12,>=2.0->gradio) (0.4.0)\n",
            "Requirement already satisfied: shellingham>=1.3.0 in /usr/local/lib/python3.11/dist-packages (from typer<1.0,>=0.12->gradio) (1.5.4)\n",
            "Requirement already satisfied: rich>=10.11.0 in /usr/local/lib/python3.11/dist-packages (from typer<1.0,>=0.12->gradio) (13.9.4)\n",
            "Requirement already satisfied: six>=1.5 in /usr/local/lib/python3.11/dist-packages (from python-dateutil>=2.8.2->pandas<3.0,>=1.0->gradio) (1.17.0)\n",
            "Requirement already satisfied: markdown-it-py>=2.2.0 in /usr/local/lib/python3.11/dist-packages (from rich>=10.11.0->typer<1.0,>=0.12->gradio) (3.0.0)\n",
            "Requirement already satisfied: pygments<3.0.0,>=2.13.0 in /usr/local/lib/python3.11/dist-packages (from rich>=10.11.0->typer<1.0,>=0.12->gradio) (2.18.0)\n",
            "Requirement already satisfied: charset-normalizer<4,>=2 in /usr/local/lib/python3.11/dist-packages (from requests->huggingface-hub>=0.28.1->gradio) (3.4.1)\n",
            "Requirement already satisfied: urllib3<3,>=1.21.1 in /usr/local/lib/python3.11/dist-packages (from requests->huggingface-hub>=0.28.1->gradio) (2.3.0)\n",
            "Requirement already satisfied: mdurl~=0.1 in /usr/local/lib/python3.11/dist-packages (from markdown-it-py>=2.2.0->rich>=10.11.0->typer<1.0,>=0.12->gradio) (0.1.2)\n",
            "Downloading gradio-5.25.2-py3-none-any.whl (46.9 MB)\n",
            "\u001b[2K   \u001b[90m━━━━━━━━━━━━━━━━━━━━━━━━━━━━━━━━━━━━━━━━\u001b[0m \u001b[32m46.9/46.9 MB\u001b[0m \u001b[31m8.6 MB/s\u001b[0m eta \u001b[36m0:00:00\u001b[0m\n",
            "\u001b[?25hDownloading gradio_client-1.8.0-py3-none-any.whl (322 kB)\n",
            "\u001b[2K   \u001b[90m━━━━━━━━━━━━━━━━━━━━━━━━━━━━━━━━━━━━━━━━\u001b[0m \u001b[32m322.2/322.2 kB\u001b[0m \u001b[31m15.4 MB/s\u001b[0m eta \u001b[36m0:00:00\u001b[0m\n",
            "\u001b[?25hDownloading pymupdf-1.25.5-cp39-abi3-manylinux2014_x86_64.manylinux_2_17_x86_64.whl (20.0 MB)\n",
            "\u001b[2K   \u001b[90m━━━━━━━━━━━━━━━━━━━━━━━━━━━━━━━━━━━━━━━━\u001b[0m \u001b[32m20.0/20.0 MB\u001b[0m \u001b[31m44.6 MB/s\u001b[0m eta \u001b[36m0:00:00\u001b[0m\n",
            "\u001b[?25hDownloading aiofiles-24.1.0-py3-none-any.whl (15 kB)\n",
            "Downloading fastapi-0.115.12-py3-none-any.whl (95 kB)\n",
            "\u001b[2K   \u001b[90m━━━━━━━━━━━━━━━━━━━━━━━━━━━━━━━━━━━━━━━━\u001b[0m \u001b[32m95.2/95.2 kB\u001b[0m \u001b[31m5.6 MB/s\u001b[0m eta \u001b[36m0:00:00\u001b[0m\n",
            "\u001b[?25hDownloading groovy-0.1.2-py3-none-any.whl (14 kB)\n",
            "Downloading python_multipart-0.0.20-py3-none-any.whl (24 kB)\n",
            "Downloading ruff-0.11.6-py3-none-manylinux_2_17_x86_64.manylinux2014_x86_64.whl (11.5 MB)\n",
            "\u001b[2K   \u001b[90m━━━━━━━━━━━━━━━━━━━━━━━━━━━━━━━━━━━━━━━━\u001b[0m \u001b[32m11.5/11.5 MB\u001b[0m \u001b[31m44.1 MB/s\u001b[0m eta \u001b[36m0:00:00\u001b[0m\n",
            "\u001b[?25hDownloading safehttpx-0.1.6-py3-none-any.whl (8.7 kB)\n",
            "Downloading semantic_version-2.10.0-py2.py3-none-any.whl (15 kB)\n",
            "Downloading starlette-0.46.2-py3-none-any.whl (72 kB)\n",
            "\u001b[2K   \u001b[90m━━━━━━━━━━━━━━━━━━━━━━━━━━━━━━━━━━━━━━━━\u001b[0m \u001b[32m72.0/72.0 kB\u001b[0m \u001b[31m2.9 MB/s\u001b[0m eta \u001b[36m0:00:00\u001b[0m\n",
            "\u001b[?25hDownloading tomlkit-0.13.2-py3-none-any.whl (37 kB)\n",
            "Downloading uvicorn-0.34.1-py3-none-any.whl (62 kB)\n",
            "\u001b[2K   \u001b[90m━━━━━━━━━━━━━━━━━━━━━━━━━━━━━━━━━━━━━━━━\u001b[0m \u001b[32m62.4/62.4 kB\u001b[0m \u001b[31m2.1 MB/s\u001b[0m eta \u001b[36m0:00:00\u001b[0m\n",
            "\u001b[?25hDownloading ffmpy-0.5.0-py3-none-any.whl (6.0 kB)\n",
            "Downloading pydub-0.25.1-py2.py3-none-any.whl (32 kB)\n",
            "Installing collected packages: pydub, uvicorn, tomlkit, semantic-version, ruff, python-multipart, pymupdf, groovy, ffmpy, aiofiles, starlette, safehttpx, gradio-client, fastapi, gradio\n",
            "Successfully installed aiofiles-24.1.0 fastapi-0.115.12 ffmpy-0.5.0 gradio-5.25.2 gradio-client-1.8.0 groovy-0.1.2 pydub-0.25.1 pymupdf-1.25.5 python-multipart-0.0.20 ruff-0.11.6 safehttpx-0.1.6 semantic-version-2.10.0 starlette-0.46.2 tomlkit-0.13.2 uvicorn-0.34.1\n"
          ]
        }
      ]
    },
    {
      "cell_type": "code",
      "source": [
        "import gradio as gr\n",
        "from PyPDF2 import PdfReader\n",
        "import pandas as pd\n",
        "from sklearn.feature_extraction.text import TfidfVectorizer\n",
        "from sklearn.ensemble import RandomForestClassifier\n",
        "from sklearn.decomposition import LatentDirichletAllocation\n",
        "from sklearn.feature_selection import SelectKBest, chi2\n",
        "from scipy.sparse import hstack\n",
        "import fitz  # PyMuPDF for PDF reading\n",
        "import re\n",
        "import string\n",
        "import numpy as np\n",
        "from nltk.corpus import stopwords\n",
        "from nltk.stem import SnowballStemmer\n",
        "from scipy.sparse import hstack\n",
        "import joblib"
      ],
      "metadata": {
        "id": "nu_z0_16jisL"
      },
      "execution_count": null,
      "outputs": []
    },
    {
      "cell_type": "code",
      "source": [
        "def extract_text_from_pdf(pdf_file):\n",
        "    reader = PdfReader(pdf_file)\n",
        "    return \" \".join([page.extract_text() or \"\" for page in reader.pages])"
      ],
      "metadata": {
        "id": "HCs255UQj1eL"
      },
      "execution_count": null,
      "outputs": []
    },
    {
      "cell_type": "code",
      "source": [
        "# Step 2: Load Those Objects (Before Running Gradio)\n",
        "tfidf_vectorizer = joblib.load(\"tfidf_vectorizer.pkl\")\n",
        "lda_model = joblib.load(\"lda_model.pkl\")\n",
        "selector = joblib.load(\"feature_selector.pkl\")\n",
        "clf = joblib.load(\"random_forest_model.pkl\")"
      ],
      "metadata": {
        "id": "KHFtX3CZFS81"
      },
      "execution_count": null,
      "outputs": []
    },
    {
      "cell_type": "code",
      "source": [
        "# === [1] PDF Text Extraction ===\n",
        "def extract_text_from_pdf(pdf_file):\n",
        "    reader = PdfReader(pdf_file)\n",
        "    return \" \".join([page.extract_text() or \"\" for page in reader.pages])\n",
        "\n",
        "# === [2] Grant Prediction Pipeline ===\n",
        "def predict_grant_outcome(pdf_file):\n",
        "    try:\n",
        "        # Step 1: Extract raw text\n",
        "        raw_text = extract_text_from_pdf(pdf_file)\n",
        "\n",
        "        # Step 2: Basic preprocessing (mirror what you did before)\n",
        "        processed_text = raw_text.lower()\n",
        "\n",
        "        # Step 3: TF-IDF Vectorization\n",
        "        tfidf_vec = tfidf_vectorizer.transform([processed_text])\n",
        "\n",
        "        # Step 4: LDA Topic Distribution\n",
        "        lda_topic_vec = lda_model.transform(tfidf_vec)\n",
        "\n",
        "        # Step 5: Combine Features\n",
        "        combined_vec = hstack([tfidf_vec, lda_topic_vec])\n",
        "\n",
        "        # Step 6: Feature Selection\n",
        "        selected_features = selector.transform(combined_vec)\n",
        "\n",
        "        # Step 7: Predict\n",
        "        prediction = clf.predict(selected_features)[0]\n",
        "        proba = clf.predict_proba(selected_features)[0]\n",
        "\n",
        "        label = \"✅ Approved\" if prediction == 1 else \"❌ Rejected\"\n",
        "        confidence = proba[prediction] * 100\n",
        "\n",
        "        return f\"{label} ({confidence:.2f}% confidence)\"\n",
        "\n",
        "    except Exception as e:\n",
        "        return f\"Error processing file: {e}\"\n",
        "\n",
        "# === [3] Launch Gradio App ===\n",
        "gr.Interface(\n",
        "    fn=predict_grant_outcome,\n",
        "    inputs=gr.File(label=\"Upload Grant Proposal (PDF)\"),\n",
        "    outputs=gr.Textbox(label=\"Prediction\"),\n",
        "    title=\"NSF Grant Approval Predictor\",\n",
        "    description=\"Upload a grant proposal to predict if it will be approved or rejected based on past proposal data.\"\n",
        ").launch()"
      ],
      "metadata": {
        "colab": {
          "base_uri": "https://localhost:8080/",
          "height": 646
        },
        "id": "uJ-wp6_fj5-0",
        "outputId": "1e2e59a8-c550-4d86-dc04-54135d4dac00"
      },
      "execution_count": null,
      "outputs": [
        {
          "output_type": "stream",
          "name": "stdout",
          "text": [
            "It looks like you are running Gradio on a hosted a Jupyter notebook. For the Gradio app to work, sharing must be enabled. Automatically setting `share=True` (you can turn this off by setting `share=False` in `launch()` explicitly).\n",
            "\n",
            "Colab notebook detected. To show errors in colab notebook, set debug=True in launch()\n",
            "* Running on public URL: https://fbcdcb348faaf87e14.gradio.live\n",
            "\n",
            "This share link expires in 1 week. For free permanent hosting and GPU upgrades, run `gradio deploy` from the terminal in the working directory to deploy to Hugging Face Spaces (https://huggingface.co/spaces)\n"
          ]
        },
        {
          "output_type": "display_data",
          "data": {
            "text/plain": [
              "<IPython.core.display.HTML object>"
            ],
            "text/html": [
              "<div><iframe src=\"https://fbcdcb348faaf87e14.gradio.live\" width=\"100%\" height=\"500\" allow=\"autoplay; camera; microphone; clipboard-read; clipboard-write;\" frameborder=\"0\" allowfullscreen></iframe></div>"
            ]
          },
          "metadata": {}
        },
        {
          "output_type": "execute_result",
          "data": {
            "text/plain": []
          },
          "metadata": {},
          "execution_count": 61
        }
      ]
    },
    {
      "cell_type": "code",
      "source": [
        "gr.Interface(\n",
        "    fn=predict_grant_outcome,\n",
        "    inputs=gr.File(label=\"Upload Grant Proposal (PDF)\"),\n",
        "    outputs=gr.Textbox(label=\"Prediction\"),\n",
        "    title=\"NSF Grant Approval Predictor\",\n",
        "    description=\"Upload a grant proposal to see the predicted approval outcome.\"\n",
        ").launch()"
      ],
      "metadata": {
        "colab": {
          "base_uri": "https://localhost:8080/",
          "height": 646
        },
        "id": "UrnaW4EakEIZ",
        "outputId": "431b5473-0845-459d-b314-03b5f86d177a"
      },
      "execution_count": null,
      "outputs": [
        {
          "output_type": "stream",
          "name": "stdout",
          "text": [
            "It looks like you are running Gradio on a hosted a Jupyter notebook. For the Gradio app to work, sharing must be enabled. Automatically setting `share=True` (you can turn this off by setting `share=False` in `launch()` explicitly).\n",
            "\n",
            "Colab notebook detected. To show errors in colab notebook, set debug=True in launch()\n",
            "* Running on public URL: https://c3761852d3f9b41a75.gradio.live\n",
            "\n",
            "This share link expires in 1 week. For free permanent hosting and GPU upgrades, run `gradio deploy` from the terminal in the working directory to deploy to Hugging Face Spaces (https://huggingface.co/spaces)\n"
          ]
        },
        {
          "output_type": "display_data",
          "data": {
            "text/plain": [
              "<IPython.core.display.HTML object>"
            ],
            "text/html": [
              "<div><iframe src=\"https://c3761852d3f9b41a75.gradio.live\" width=\"100%\" height=\"500\" allow=\"autoplay; camera; microphone; clipboard-read; clipboard-write;\" frameborder=\"0\" allowfullscreen></iframe></div>"
            ]
          },
          "metadata": {}
        },
        {
          "output_type": "execute_result",
          "data": {
            "text/plain": []
          },
          "metadata": {},
          "execution_count": 60
        }
      ]
    },
    {
      "cell_type": "markdown",
      "source": [],
      "metadata": {
        "id": "YVFFnVcjj1R_"
      }
    },
    {
      "cell_type": "code",
      "source": [
        "# Save Model Objects Before Loading\n",
        "import joblib\n",
        "\n",
        "joblib.dump(tfidf_vectorizer, \"tfidf.pkl\")\n",
        "joblib.dump(lda_model, \"lda.pkl\")\n",
        "joblib.dump(selector, \"selector.pkl\")\n",
        "joblib.dump(clf, \"rf_model.pkl\")\n",
        "\n",
        "\n",
        "# === Load Saved Model Objects ===\n",
        "tfidf_vectorizer = joblib.load(\"tfidf.pkl\")\n",
        "lda_model = joblib.load(\"lda.pkl\")\n",
        "selector = joblib.load(\"selector.pkl\")\n",
        "clf = joblib.load(\"rf_model.pkl\")"
      ],
      "metadata": {
        "id": "rEyAlx1OdUrR"
      },
      "execution_count": null,
      "outputs": []
    },
    {
      "cell_type": "code",
      "source": [
        "# === Preprocessing Setup ===\n",
        "stemmer = SnowballStemmer(\"english\")\n",
        "stop_words = set(stopwords.words(\"english\"))\n",
        "\n",
        "def preprocess_text(text):\n",
        "    text = text.lower()\n",
        "    text = re.sub(r'\\\\s+', ' ', text).strip()\n",
        "    text = text.translate(str.maketrans('', '', string.punctuation))\n",
        "    text = re.sub(r'\\\\d+', '', text)\n",
        "    tokens = text.split()\n",
        "    tokens = [word for word in tokens if word not in stop_words]\n",
        "    tokens = [stemmer.stem(word) for word in tokens]\n",
        "    return ' '.join(tokens)\n",
        "\n",
        "def extract_text_from_pdf(pdf_file):\n",
        "    doc = fitz.open(stream=pdf_file.read(), filetype=\"pdf\")\n",
        "    return \" \".join([page.get_text() for page in doc])\n",
        "\n",
        "def predict_grant_approval(pdf_file):\n",
        "    # Extract and preprocess text\n",
        "    raw_text = extract_text_from_pdf(pdf_file)\n",
        "    cleaned_text = preprocess_text(raw_text)\n",
        "\n",
        "    # Vectorize and combine features\n",
        "    tfidf_vec = tfidf_vectorizer.transform([cleaned_text])\n",
        "    lda_topic_vec = lda_model.transform(tfidf_vec)\n",
        "    combined_vec = hstack([tfidf_vec, lda_topic_vec])\n",
        "    final_vec = selector.transform(combined_vec)\n",
        "\n",
        "    # Predict\n",
        "    prediction = clf.predict(final_vec)[0]\n",
        "    proba = clf.predict_proba(final_vec)[0][prediction]\n",
        "    label = \"✅ Likely Funded\" if prediction == 1 else \"❌ Likely Rejected\"\n",
        "    return f\"{label} (Confidence: {proba:.2%})\"\n",
        "\n",
        "gr.Interface(\n",
        "    fn=predict_grant_approval,\n",
        "    inputs=gr.File(file_types=[\".pdf\"]),\n",
        "    outputs=\"text\",\n",
        "    title=\"Grant Proposal Success Predictor\",\n",
        "    description=\"Upload a grant proposal PDF to predict whether it will likely be approved or rejected.\"\n",
        ").launch()"
      ],
      "metadata": {
        "colab": {
          "base_uri": "https://localhost:8080/",
          "height": 643
        },
        "id": "bPz46wwrdUov",
        "outputId": "dfe4e064-0853-4d18-878f-a272da6238dd"
      },
      "execution_count": null,
      "outputs": [
        {
          "output_type": "stream",
          "name": "stdout",
          "text": [
            "It looks like you are running Gradio on a hosted a Jupyter notebook. For the Gradio app to work, sharing must be enabled. Automatically setting `share=True` (you can turn this off by setting `share=False` in `launch()` explicitly).\n",
            "\n",
            "Colab notebook detected. To show errors in colab notebook, set debug=True in launch()\n",
            "* Running on public URL: https://9594ba0ad779c9c20e.gradio.live\n",
            "\n",
            "This share link expires in 1 week. For free permanent hosting and GPU upgrades, run `gradio deploy` from the terminal in the working directory to deploy to Hugging Face Spaces (https://huggingface.co/spaces)\n"
          ]
        },
        {
          "output_type": "display_data",
          "data": {
            "text/plain": [
              "<IPython.core.display.HTML object>"
            ],
            "text/html": [
              "<div><iframe src=\"https://9594ba0ad779c9c20e.gradio.live\" width=\"100%\" height=\"500\" allow=\"autoplay; camera; microphone; clipboard-read; clipboard-write;\" frameborder=\"0\" allowfullscreen></iframe></div>"
            ]
          },
          "metadata": {}
        },
        {
          "output_type": "execute_result",
          "data": {
            "text/plain": []
          },
          "metadata": {},
          "execution_count": 48
        }
      ]
    },
    {
      "cell_type": "code",
      "source": [],
      "metadata": {
        "id": "Wp2IwEU5dUmL"
      },
      "execution_count": null,
      "outputs": []
    },
    {
      "cell_type": "code",
      "source": [
        "!pip install gradio\n",
        "\n",
        "import gradio as gr\n",
        "import fitz  # PyMuPDF for robust PDF text extraction\n",
        "\n",
        "# === [1] PDF Text Extraction ===\n",
        "def extract_text_from_pdf(pdf_file):\n",
        "    doc = fitz.open(stream=pdf_file.read(), filetype=\"pdf\")\n",
        "    text = \" \".join([page.get_text() for page in doc])\n",
        "    return text\n",
        "\n",
        "# === [2] Full Prediction Function ===\n",
        "def predict_grant_approval(pdf_file):\n",
        "    # Step 1: Extract text\n",
        "    raw_text = extract_text_from_pdf(pdf_file)\n",
        "\n",
        "    # Step 2: Preprocess\n",
        "    cleaned_text = preprocess_text(raw_text)\n",
        "\n",
        "    # Step 3: Transform to TF-IDF\n",
        "    tfidf_vec = tfidf_vectorizer.transform([cleaned_text])\n",
        "\n",
        "    # Step 4: Get topic distribution\n",
        "    lda_topic_vec = lda_model.transform(tfidf_vec)\n",
        "\n",
        "    # Step 5: Combine features\n",
        "    combined_vec = hstack([tfidf_vec, lda_topic_vec])\n",
        "\n",
        "    # Step 6: Select top features\n",
        "    final_vec = selector.transform(combined_vec)\n",
        "\n",
        "    # Step 7: Predict label + probability\n",
        "    prediction = clf.predict(final_vec)[0]\n",
        "    proba = clf.predict_proba(final_vec)[0][prediction]\n",
        "\n",
        "    label = \"✅ Likely Funded\" if prediction == 1 else \"❌ Likely Rejected\"\n",
        "    return f\"{label} (Confidence: {proba:.2%})\"\n",
        "\n",
        "# === [3] Launch Gradio App ===\n",
        "gr.Interface(\n",
        "    fn=predict_grant_approval,\n",
        "    inputs=gr.File(file_types=[\".pdf\"]),\n",
        "    outputs=\"text\",\n",
        "    title=\"Grant Proposal Success Predictor\",\n",
        "    description=\"Upload a grant proposal PDF to predict whether it will likely be approved or rejected.\"\n",
        ").launch()\n"
      ],
      "metadata": {
        "colab": {
          "base_uri": "https://localhost:8080/",
          "height": 1000
        },
        "id": "DdIsezdPcMa2",
        "outputId": "e6b81d8d-33d6-4df9-aa87-1afda30901d3"
      },
      "execution_count": null,
      "outputs": [
        {
          "output_type": "stream",
          "name": "stdout",
          "text": [
            "Requirement already satisfied: gradio in /usr/local/lib/python3.11/dist-packages (5.25.2)\n",
            "Requirement already satisfied: aiofiles<25.0,>=22.0 in /usr/local/lib/python3.11/dist-packages (from gradio) (24.1.0)\n",
            "Requirement already satisfied: anyio<5.0,>=3.0 in /usr/local/lib/python3.11/dist-packages (from gradio) (4.9.0)\n",
            "Requirement already satisfied: fastapi<1.0,>=0.115.2 in /usr/local/lib/python3.11/dist-packages (from gradio) (0.115.12)\n",
            "Requirement already satisfied: ffmpy in /usr/local/lib/python3.11/dist-packages (from gradio) (0.5.0)\n",
            "Requirement already satisfied: gradio-client==1.8.0 in /usr/local/lib/python3.11/dist-packages (from gradio) (1.8.0)\n",
            "Requirement already satisfied: groovy~=0.1 in /usr/local/lib/python3.11/dist-packages (from gradio) (0.1.2)\n",
            "Requirement already satisfied: httpx>=0.24.1 in /usr/local/lib/python3.11/dist-packages (from gradio) (0.28.1)\n",
            "Requirement already satisfied: huggingface-hub>=0.28.1 in /usr/local/lib/python3.11/dist-packages (from gradio) (0.30.2)\n",
            "Requirement already satisfied: jinja2<4.0 in /usr/local/lib/python3.11/dist-packages (from gradio) (3.1.6)\n",
            "Requirement already satisfied: markupsafe<4.0,>=2.0 in /usr/local/lib/python3.11/dist-packages (from gradio) (3.0.2)\n",
            "Requirement already satisfied: numpy<3.0,>=1.0 in /usr/local/lib/python3.11/dist-packages (from gradio) (2.0.2)\n",
            "Requirement already satisfied: orjson~=3.0 in /usr/local/lib/python3.11/dist-packages (from gradio) (3.10.16)\n",
            "Requirement already satisfied: packaging in /usr/local/lib/python3.11/dist-packages (from gradio) (24.2)\n",
            "Requirement already satisfied: pandas<3.0,>=1.0 in /usr/local/lib/python3.11/dist-packages (from gradio) (2.2.2)\n",
            "Requirement already satisfied: pillow<12.0,>=8.0 in /usr/local/lib/python3.11/dist-packages (from gradio) (11.1.0)\n",
            "Requirement already satisfied: pydantic<2.12,>=2.0 in /usr/local/lib/python3.11/dist-packages (from gradio) (2.11.3)\n",
            "Requirement already satisfied: pydub in /usr/local/lib/python3.11/dist-packages (from gradio) (0.25.1)\n",
            "Requirement already satisfied: python-multipart>=0.0.18 in /usr/local/lib/python3.11/dist-packages (from gradio) (0.0.20)\n",
            "Requirement already satisfied: pyyaml<7.0,>=5.0 in /usr/local/lib/python3.11/dist-packages (from gradio) (6.0.2)\n",
            "Requirement already satisfied: ruff>=0.9.3 in /usr/local/lib/python3.11/dist-packages (from gradio) (0.11.5)\n",
            "Requirement already satisfied: safehttpx<0.2.0,>=0.1.6 in /usr/local/lib/python3.11/dist-packages (from gradio) (0.1.6)\n",
            "Requirement already satisfied: semantic-version~=2.0 in /usr/local/lib/python3.11/dist-packages (from gradio) (2.10.0)\n",
            "Requirement already satisfied: starlette<1.0,>=0.40.0 in /usr/local/lib/python3.11/dist-packages (from gradio) (0.46.2)\n",
            "Requirement already satisfied: tomlkit<0.14.0,>=0.12.0 in /usr/local/lib/python3.11/dist-packages (from gradio) (0.13.2)\n",
            "Requirement already satisfied: typer<1.0,>=0.12 in /usr/local/lib/python3.11/dist-packages (from gradio) (0.15.2)\n",
            "Requirement already satisfied: typing-extensions~=4.0 in /usr/local/lib/python3.11/dist-packages (from gradio) (4.13.1)\n",
            "Requirement already satisfied: uvicorn>=0.14.0 in /usr/local/lib/python3.11/dist-packages (from gradio) (0.34.1)\n",
            "Requirement already satisfied: fsspec in /usr/local/lib/python3.11/dist-packages (from gradio-client==1.8.0->gradio) (2025.3.2)\n",
            "Requirement already satisfied: websockets<16.0,>=10.0 in /usr/local/lib/python3.11/dist-packages (from gradio-client==1.8.0->gradio) (15.0.1)\n",
            "Requirement already satisfied: idna>=2.8 in /usr/local/lib/python3.11/dist-packages (from anyio<5.0,>=3.0->gradio) (3.10)\n",
            "Requirement already satisfied: sniffio>=1.1 in /usr/local/lib/python3.11/dist-packages (from anyio<5.0,>=3.0->gradio) (1.3.1)\n",
            "Requirement already satisfied: certifi in /usr/local/lib/python3.11/dist-packages (from httpx>=0.24.1->gradio) (2025.1.31)\n",
            "Requirement already satisfied: httpcore==1.* in /usr/local/lib/python3.11/dist-packages (from httpx>=0.24.1->gradio) (1.0.7)\n",
            "Requirement already satisfied: h11<0.15,>=0.13 in /usr/local/lib/python3.11/dist-packages (from httpcore==1.*->httpx>=0.24.1->gradio) (0.14.0)\n",
            "Requirement already satisfied: filelock in /usr/local/lib/python3.11/dist-packages (from huggingface-hub>=0.28.1->gradio) (3.18.0)\n",
            "Requirement already satisfied: requests in /usr/local/lib/python3.11/dist-packages (from huggingface-hub>=0.28.1->gradio) (2.32.3)\n",
            "Requirement already satisfied: tqdm>=4.42.1 in /usr/local/lib/python3.11/dist-packages (from huggingface-hub>=0.28.1->gradio) (4.67.1)\n",
            "Requirement already satisfied: python-dateutil>=2.8.2 in /usr/local/lib/python3.11/dist-packages (from pandas<3.0,>=1.0->gradio) (2.8.2)\n",
            "Requirement already satisfied: pytz>=2020.1 in /usr/local/lib/python3.11/dist-packages (from pandas<3.0,>=1.0->gradio) (2025.2)\n",
            "Requirement already satisfied: tzdata>=2022.7 in /usr/local/lib/python3.11/dist-packages (from pandas<3.0,>=1.0->gradio) (2025.2)\n",
            "Requirement already satisfied: annotated-types>=0.6.0 in /usr/local/lib/python3.11/dist-packages (from pydantic<2.12,>=2.0->gradio) (0.7.0)\n",
            "Requirement already satisfied: pydantic-core==2.33.1 in /usr/local/lib/python3.11/dist-packages (from pydantic<2.12,>=2.0->gradio) (2.33.1)\n",
            "Requirement already satisfied: typing-inspection>=0.4.0 in /usr/local/lib/python3.11/dist-packages (from pydantic<2.12,>=2.0->gradio) (0.4.0)\n",
            "Requirement already satisfied: click>=8.0.0 in /usr/local/lib/python3.11/dist-packages (from typer<1.0,>=0.12->gradio) (8.1.8)\n",
            "Requirement already satisfied: shellingham>=1.3.0 in /usr/local/lib/python3.11/dist-packages (from typer<1.0,>=0.12->gradio) (1.5.4)\n",
            "Requirement already satisfied: rich>=10.11.0 in /usr/local/lib/python3.11/dist-packages (from typer<1.0,>=0.12->gradio) (13.9.4)\n",
            "Requirement already satisfied: six>=1.5 in /usr/local/lib/python3.11/dist-packages (from python-dateutil>=2.8.2->pandas<3.0,>=1.0->gradio) (1.17.0)\n",
            "Requirement already satisfied: markdown-it-py>=2.2.0 in /usr/local/lib/python3.11/dist-packages (from rich>=10.11.0->typer<1.0,>=0.12->gradio) (3.0.0)\n",
            "Requirement already satisfied: pygments<3.0.0,>=2.13.0 in /usr/local/lib/python3.11/dist-packages (from rich>=10.11.0->typer<1.0,>=0.12->gradio) (2.18.0)\n",
            "Requirement already satisfied: charset-normalizer<4,>=2 in /usr/local/lib/python3.11/dist-packages (from requests->huggingface-hub>=0.28.1->gradio) (3.4.1)\n",
            "Requirement already satisfied: urllib3<3,>=1.21.1 in /usr/local/lib/python3.11/dist-packages (from requests->huggingface-hub>=0.28.1->gradio) (2.3.0)\n",
            "Requirement already satisfied: mdurl~=0.1 in /usr/local/lib/python3.11/dist-packages (from markdown-it-py>=2.2.0->rich>=10.11.0->typer<1.0,>=0.12->gradio) (0.1.2)\n",
            "It looks like you are running Gradio on a hosted a Jupyter notebook. For the Gradio app to work, sharing must be enabled. Automatically setting `share=True` (you can turn this off by setting `share=False` in `launch()` explicitly).\n",
            "\n",
            "Colab notebook detected. To show errors in colab notebook, set debug=True in launch()\n",
            "* Running on public URL: https://4fb34109f8b18fac2d.gradio.live\n",
            "\n",
            "This share link expires in 1 week. For free permanent hosting and GPU upgrades, run `gradio deploy` from the terminal in the working directory to deploy to Hugging Face Spaces (https://huggingface.co/spaces)\n"
          ]
        },
        {
          "output_type": "display_data",
          "data": {
            "text/plain": [
              "<IPython.core.display.HTML object>"
            ],
            "text/html": [
              "<div><iframe src=\"https://4fb34109f8b18fac2d.gradio.live\" width=\"100%\" height=\"500\" allow=\"autoplay; camera; microphone; clipboard-read; clipboard-write;\" frameborder=\"0\" allowfullscreen></iframe></div>"
            ]
          },
          "metadata": {}
        },
        {
          "output_type": "execute_result",
          "data": {
            "text/plain": []
          },
          "metadata": {},
          "execution_count": 49
        }
      ]
    },
    {
      "cell_type": "code",
      "source": [
        "# === Install Dependencies ===\n",
        "!pip install gradio pymupdf nltk scikit-learn --quiet\n",
        "\n",
        "# === Imports ===\n",
        "import gradio as gr\n",
        "import fitz  # PyMuPDF\n",
        "import re\n",
        "import string\n",
        "import numpy as np\n",
        "from scipy.sparse import hstack\n",
        "import joblib\n",
        "import nltk\n",
        "from nltk.corpus import stopwords\n",
        "from nltk.stem import SnowballStemmer\n",
        "\n",
        "# === Download NLTK resources ===\n",
        "nltk.download('stopwords')\n",
        "\n",
        "# === Load Saved Model Objects (must be in working directory) ===\n",
        "tfidf_vectorizer = joblib.load(\"tfidf.pkl\")\n",
        "lda_model = joblib.load(\"lda.pkl\")\n",
        "selector = joblib.load(\"selector.pkl\")\n",
        "clf = joblib.load(\"rf_model.pkl\")\n",
        "\n",
        "# === Preprocessing Function ===\n",
        "stemmer = SnowballStemmer(\"english\")\n",
        "stop_words = set(stopwords.words(\"english\"))\n",
        "\n",
        "def preprocess_text(text):\n",
        "    text = text.lower()\n",
        "    text = re.sub(r'\\\\s+', ' ', text).strip()\n",
        "    text = text.translate(str.maketrans('', '', string.punctuation))\n",
        "    text = re.sub(r'\\\\d+', '', text)\n",
        "    tokens = text.split()\n",
        "    tokens = [word for word in tokens if word not in stop_words]\n",
        "    tokens = [stemmer.stem(word) for word in tokens]\n",
        "    return ' '.join(tokens)\n",
        "\n",
        "# === PDF Text Extraction ===\n",
        "def extract_text_from_pdf(pdf_file):\n",
        "    doc = fitz.open(stream=pdf_file.read(), filetype=\"pdf\")\n",
        "    return \" \".join([page.get_text() for page in doc])\n",
        "\n",
        "# === Prediction Pipeline ===\n",
        "def predict_grant_approval(pdf_file):\n",
        "    raw_text = extract_text_from_pdf(pdf_file)\n",
        "    cleaned_text = preprocess_text(raw_text)\n",
        "    tfidf_vec = tfidf_vectorizer.transform([cleaned_text])\n",
        "    lda_topic_vec = lda_model.transform(tfidf_vec)\n",
        "    combined_vec = hstack([tfidf_vec, lda_topic_vec])\n",
        "    final_vec = selector.transform(combined_vec)\n",
        "    prediction = clf.predict(final_vec)[0]\n",
        "    proba = clf.predict_proba(final_vec)[0][prediction]\n",
        "    label = \"✅ Likely Funded\" if prediction == 1 else \"❌ Likely Rejected\"\n",
        "    return f\"{label} (Confidence: {proba:.2%})\"\n",
        "\n",
        "# === Launch Gradio App ===\n",
        "gr.Interface(\n",
        "    fn=predict_grant_approval,\n",
        "    inputs=gr.File(file_types=[\".pdf\"]),\n",
        "    outputs=\"text\",\n",
        "    title=\"Grant Proposal Success Predictor\",\n",
        "    description=\"Upload a grant proposal PDF to predict whether it will likely be approved or rejected.\"\n",
        ").launch(share=True)\n",
        "\n"
      ],
      "metadata": {
        "colab": {
          "base_uri": "https://localhost:8080/",
          "height": 643
        },
        "id": "QApUW4HxfSEW",
        "outputId": "e1ef68fc-815b-4e2b-e021-57ce75d8ed1c"
      },
      "execution_count": null,
      "outputs": [
        {
          "output_type": "stream",
          "name": "stderr",
          "text": [
            "[nltk_data] Downloading package stopwords to /root/nltk_data...\n",
            "[nltk_data]   Package stopwords is already up-to-date!\n"
          ]
        },
        {
          "output_type": "stream",
          "name": "stdout",
          "text": [
            "Colab notebook detected. To show errors in colab notebook, set debug=True in launch()\n",
            "* Running on public URL: https://0417dbbd33c13a29f6.gradio.live\n",
            "\n",
            "This share link expires in 1 week. For free permanent hosting and GPU upgrades, run `gradio deploy` from the terminal in the working directory to deploy to Hugging Face Spaces (https://huggingface.co/spaces)\n"
          ]
        },
        {
          "output_type": "display_data",
          "data": {
            "text/plain": [
              "<IPython.core.display.HTML object>"
            ],
            "text/html": [
              "<div><iframe src=\"https://0417dbbd33c13a29f6.gradio.live\" width=\"100%\" height=\"500\" allow=\"autoplay; camera; microphone; clipboard-read; clipboard-write;\" frameborder=\"0\" allowfullscreen></iframe></div>"
            ]
          },
          "metadata": {}
        },
        {
          "output_type": "execute_result",
          "data": {
            "text/plain": []
          },
          "metadata": {},
          "execution_count": 51
        }
      ]
    }
  ]
}